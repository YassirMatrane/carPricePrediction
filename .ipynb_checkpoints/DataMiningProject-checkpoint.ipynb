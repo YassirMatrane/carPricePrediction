{
 "cells": [
  {
   "cell_type": "markdown",
   "metadata": {},
   "source": [
    "# Determining Factors Leading to a Car's Fuel Efficiency"
   ]
  },
  {
   "cell_type": "markdown",
   "metadata": {},
   "source": [
    "## Importing necessary packages"
   ]
  },
  {
   "cell_type": "code",
   "execution_count": 112,
   "metadata": {},
   "outputs": [],
   "source": [
    "import pandas as pd\n",
    "from matplotlib import pyplot as plt\n",
    "import numpy as np\n",
    "import seaborn as sns\n",
    "import plotly.graph_objs as go \n",
    "import plotly.offline as py \n"
   ]
  },
  {
   "cell_type": "markdown",
   "metadata": {},
   "source": [
    "## Getting Data from the data file"
   ]
  },
  {
   "cell_type": "code",
   "execution_count": 113,
   "metadata": {},
   "outputs": [
    {
     "data": {
      "text/html": [
       "<div>\n",
       "<style scoped>\n",
       "    .dataframe tbody tr th:only-of-type {\n",
       "        vertical-align: middle;\n",
       "    }\n",
       "\n",
       "    .dataframe tbody tr th {\n",
       "        vertical-align: top;\n",
       "    }\n",
       "\n",
       "    .dataframe thead th {\n",
       "        text-align: right;\n",
       "    }\n",
       "</style>\n",
       "<table border=\"1\" class=\"dataframe\">\n",
       "  <thead>\n",
       "    <tr style=\"text-align: right;\">\n",
       "      <th></th>\n",
       "      <th>mpg</th>\n",
       "      <th>cylinders</th>\n",
       "      <th>displacement</th>\n",
       "      <th>horsepower</th>\n",
       "      <th>weight</th>\n",
       "      <th>acceleration</th>\n",
       "      <th>model year</th>\n",
       "      <th>car name</th>\n",
       "    </tr>\n",
       "  </thead>\n",
       "  <tbody>\n",
       "    <tr>\n",
       "      <th>0</th>\n",
       "      <td>18.0</td>\n",
       "      <td>8</td>\n",
       "      <td>307.0</td>\n",
       "      <td>130</td>\n",
       "      <td>3504</td>\n",
       "      <td>12.0</td>\n",
       "      <td>70</td>\n",
       "      <td>chevrolet chevelle malibu</td>\n",
       "    </tr>\n",
       "    <tr>\n",
       "      <th>1</th>\n",
       "      <td>15.0</td>\n",
       "      <td>8</td>\n",
       "      <td>350.0</td>\n",
       "      <td>165</td>\n",
       "      <td>3693</td>\n",
       "      <td>11.5</td>\n",
       "      <td>70</td>\n",
       "      <td>buick skylark 320</td>\n",
       "    </tr>\n",
       "    <tr>\n",
       "      <th>2</th>\n",
       "      <td>18.0</td>\n",
       "      <td>8</td>\n",
       "      <td>318.0</td>\n",
       "      <td>150</td>\n",
       "      <td>3436</td>\n",
       "      <td>11.0</td>\n",
       "      <td>70</td>\n",
       "      <td>plymouth satellite</td>\n",
       "    </tr>\n",
       "    <tr>\n",
       "      <th>3</th>\n",
       "      <td>16.0</td>\n",
       "      <td>8</td>\n",
       "      <td>304.0</td>\n",
       "      <td>150</td>\n",
       "      <td>3433</td>\n",
       "      <td>12.0</td>\n",
       "      <td>70</td>\n",
       "      <td>amc rebel sst</td>\n",
       "    </tr>\n",
       "    <tr>\n",
       "      <th>4</th>\n",
       "      <td>17.0</td>\n",
       "      <td>8</td>\n",
       "      <td>302.0</td>\n",
       "      <td>140</td>\n",
       "      <td>3449</td>\n",
       "      <td>10.5</td>\n",
       "      <td>70</td>\n",
       "      <td>ford torino</td>\n",
       "    </tr>\n",
       "  </tbody>\n",
       "</table>\n",
       "</div>"
      ],
      "text/plain": [
       "    mpg  cylinders  displacement horsepower  weight  acceleration  model year  \\\n",
       "0  18.0          8         307.0        130    3504          12.0          70   \n",
       "1  15.0          8         350.0        165    3693          11.5          70   \n",
       "2  18.0          8         318.0        150    3436          11.0          70   \n",
       "3  16.0          8         304.0        150    3433          12.0          70   \n",
       "4  17.0          8         302.0        140    3449          10.5          70   \n",
       "\n",
       "                    car name  \n",
       "0  chevrolet chevelle malibu  \n",
       "1          buick skylark 320  \n",
       "2         plymouth satellite  \n",
       "3              amc rebel sst  \n",
       "4                ford torino  "
      ]
     },
     "execution_count": 113,
     "metadata": {},
     "output_type": "execute_result"
    }
   ],
   "source": [
    "cars = pd.read_csv(\"auto-mpg.csv\")\n",
    "origin = cars.pop('origin')\n",
    "cars.head()"
   ]
  },
  {
   "cell_type": "markdown",
   "metadata": {},
   "source": [
    "## Observation and conversions of the data"
   ]
  },
  {
   "cell_type": "code",
   "execution_count": 114,
   "metadata": {},
   "outputs": [
    {
     "data": {
      "text/plain": [
       "(398, 8)"
      ]
     },
     "execution_count": 114,
     "metadata": {},
     "output_type": "execute_result"
    }
   ],
   "source": [
    "cars.shape"
   ]
  },
  {
   "cell_type": "code",
   "execution_count": 115,
   "metadata": {},
   "outputs": [
    {
     "data": {
      "text/html": [
       "<div>\n",
       "<style scoped>\n",
       "    .dataframe tbody tr th:only-of-type {\n",
       "        vertical-align: middle;\n",
       "    }\n",
       "\n",
       "    .dataframe tbody tr th {\n",
       "        vertical-align: top;\n",
       "    }\n",
       "\n",
       "    .dataframe thead th {\n",
       "        text-align: right;\n",
       "    }\n",
       "</style>\n",
       "<table border=\"1\" class=\"dataframe\">\n",
       "  <thead>\n",
       "    <tr style=\"text-align: right;\">\n",
       "      <th></th>\n",
       "      <th>mpg</th>\n",
       "      <th>cylinders</th>\n",
       "      <th>displacement</th>\n",
       "      <th>weight</th>\n",
       "      <th>acceleration</th>\n",
       "      <th>model year</th>\n",
       "    </tr>\n",
       "  </thead>\n",
       "  <tbody>\n",
       "    <tr>\n",
       "      <th>count</th>\n",
       "      <td>398.000000</td>\n",
       "      <td>398.000000</td>\n",
       "      <td>398.000000</td>\n",
       "      <td>398.000000</td>\n",
       "      <td>398.000000</td>\n",
       "      <td>398.000000</td>\n",
       "    </tr>\n",
       "    <tr>\n",
       "      <th>mean</th>\n",
       "      <td>23.514573</td>\n",
       "      <td>5.454774</td>\n",
       "      <td>193.425879</td>\n",
       "      <td>2970.424623</td>\n",
       "      <td>15.568090</td>\n",
       "      <td>76.010050</td>\n",
       "    </tr>\n",
       "    <tr>\n",
       "      <th>std</th>\n",
       "      <td>7.815984</td>\n",
       "      <td>1.701004</td>\n",
       "      <td>104.269838</td>\n",
       "      <td>846.841774</td>\n",
       "      <td>2.757689</td>\n",
       "      <td>3.697627</td>\n",
       "    </tr>\n",
       "    <tr>\n",
       "      <th>min</th>\n",
       "      <td>9.000000</td>\n",
       "      <td>3.000000</td>\n",
       "      <td>68.000000</td>\n",
       "      <td>1613.000000</td>\n",
       "      <td>8.000000</td>\n",
       "      <td>70.000000</td>\n",
       "    </tr>\n",
       "    <tr>\n",
       "      <th>25%</th>\n",
       "      <td>17.500000</td>\n",
       "      <td>4.000000</td>\n",
       "      <td>104.250000</td>\n",
       "      <td>2223.750000</td>\n",
       "      <td>13.825000</td>\n",
       "      <td>73.000000</td>\n",
       "    </tr>\n",
       "    <tr>\n",
       "      <th>50%</th>\n",
       "      <td>23.000000</td>\n",
       "      <td>4.000000</td>\n",
       "      <td>148.500000</td>\n",
       "      <td>2803.500000</td>\n",
       "      <td>15.500000</td>\n",
       "      <td>76.000000</td>\n",
       "    </tr>\n",
       "    <tr>\n",
       "      <th>75%</th>\n",
       "      <td>29.000000</td>\n",
       "      <td>8.000000</td>\n",
       "      <td>262.000000</td>\n",
       "      <td>3608.000000</td>\n",
       "      <td>17.175000</td>\n",
       "      <td>79.000000</td>\n",
       "    </tr>\n",
       "    <tr>\n",
       "      <th>max</th>\n",
       "      <td>46.600000</td>\n",
       "      <td>8.000000</td>\n",
       "      <td>455.000000</td>\n",
       "      <td>5140.000000</td>\n",
       "      <td>24.800000</td>\n",
       "      <td>82.000000</td>\n",
       "    </tr>\n",
       "  </tbody>\n",
       "</table>\n",
       "</div>"
      ],
      "text/plain": [
       "              mpg   cylinders  displacement       weight  acceleration  \\\n",
       "count  398.000000  398.000000    398.000000   398.000000    398.000000   \n",
       "mean    23.514573    5.454774    193.425879  2970.424623     15.568090   \n",
       "std      7.815984    1.701004    104.269838   846.841774      2.757689   \n",
       "min      9.000000    3.000000     68.000000  1613.000000      8.000000   \n",
       "25%     17.500000    4.000000    104.250000  2223.750000     13.825000   \n",
       "50%     23.000000    4.000000    148.500000  2803.500000     15.500000   \n",
       "75%     29.000000    8.000000    262.000000  3608.000000     17.175000   \n",
       "max     46.600000    8.000000    455.000000  5140.000000     24.800000   \n",
       "\n",
       "       model year  \n",
       "count  398.000000  \n",
       "mean    76.010050  \n",
       "std      3.697627  \n",
       "min     70.000000  \n",
       "25%     73.000000  \n",
       "50%     76.000000  \n",
       "75%     79.000000  \n",
       "max     82.000000  "
      ]
     },
     "execution_count": 115,
     "metadata": {},
     "output_type": "execute_result"
    }
   ],
   "source": [
    "cars.describe()"
   ]
  },
  {
   "cell_type": "markdown",
   "metadata": {},
   "source": [
    "#### Here the variable horsepower is not there though the horsepower variable is continious but still the describe is not showing values need to check whats wrong"
   ]
  },
  {
   "cell_type": "markdown",
   "metadata": {},
   "source": [
    "#### The \"Origin\" column is really categorical, not numeric. So convert that to a one-hot:"
   ]
  },
  {
   "cell_type": "code",
   "execution_count": 116,
   "metadata": {},
   "outputs": [
    {
     "data": {
      "text/html": [
       "<div>\n",
       "<style scoped>\n",
       "    .dataframe tbody tr th:only-of-type {\n",
       "        vertical-align: middle;\n",
       "    }\n",
       "\n",
       "    .dataframe tbody tr th {\n",
       "        vertical-align: top;\n",
       "    }\n",
       "\n",
       "    .dataframe thead th {\n",
       "        text-align: right;\n",
       "    }\n",
       "</style>\n",
       "<table border=\"1\" class=\"dataframe\">\n",
       "  <thead>\n",
       "    <tr style=\"text-align: right;\">\n",
       "      <th></th>\n",
       "      <th>mpg</th>\n",
       "      <th>cylinders</th>\n",
       "      <th>displacement</th>\n",
       "      <th>horsepower</th>\n",
       "      <th>weight</th>\n",
       "      <th>acceleration</th>\n",
       "      <th>model year</th>\n",
       "      <th>car name</th>\n",
       "      <th>USA</th>\n",
       "      <th>Europe</th>\n",
       "      <th>Japan</th>\n",
       "      <th>Continent</th>\n",
       "    </tr>\n",
       "  </thead>\n",
       "  <tbody>\n",
       "    <tr>\n",
       "      <th>0</th>\n",
       "      <td>18.0</td>\n",
       "      <td>8</td>\n",
       "      <td>307.0</td>\n",
       "      <td>130</td>\n",
       "      <td>3504</td>\n",
       "      <td>12.0</td>\n",
       "      <td>70</td>\n",
       "      <td>chevrolet chevelle malibu</td>\n",
       "      <td>1.0</td>\n",
       "      <td>0.0</td>\n",
       "      <td>0.0</td>\n",
       "      <td>USA</td>\n",
       "    </tr>\n",
       "    <tr>\n",
       "      <th>1</th>\n",
       "      <td>15.0</td>\n",
       "      <td>8</td>\n",
       "      <td>350.0</td>\n",
       "      <td>165</td>\n",
       "      <td>3693</td>\n",
       "      <td>11.5</td>\n",
       "      <td>70</td>\n",
       "      <td>buick skylark 320</td>\n",
       "      <td>1.0</td>\n",
       "      <td>0.0</td>\n",
       "      <td>0.0</td>\n",
       "      <td>USA</td>\n",
       "    </tr>\n",
       "    <tr>\n",
       "      <th>2</th>\n",
       "      <td>18.0</td>\n",
       "      <td>8</td>\n",
       "      <td>318.0</td>\n",
       "      <td>150</td>\n",
       "      <td>3436</td>\n",
       "      <td>11.0</td>\n",
       "      <td>70</td>\n",
       "      <td>plymouth satellite</td>\n",
       "      <td>1.0</td>\n",
       "      <td>0.0</td>\n",
       "      <td>0.0</td>\n",
       "      <td>USA</td>\n",
       "    </tr>\n",
       "    <tr>\n",
       "      <th>3</th>\n",
       "      <td>16.0</td>\n",
       "      <td>8</td>\n",
       "      <td>304.0</td>\n",
       "      <td>150</td>\n",
       "      <td>3433</td>\n",
       "      <td>12.0</td>\n",
       "      <td>70</td>\n",
       "      <td>amc rebel sst</td>\n",
       "      <td>1.0</td>\n",
       "      <td>0.0</td>\n",
       "      <td>0.0</td>\n",
       "      <td>USA</td>\n",
       "    </tr>\n",
       "    <tr>\n",
       "      <th>4</th>\n",
       "      <td>17.0</td>\n",
       "      <td>8</td>\n",
       "      <td>302.0</td>\n",
       "      <td>140</td>\n",
       "      <td>3449</td>\n",
       "      <td>10.5</td>\n",
       "      <td>70</td>\n",
       "      <td>ford torino</td>\n",
       "      <td>1.0</td>\n",
       "      <td>0.0</td>\n",
       "      <td>0.0</td>\n",
       "      <td>USA</td>\n",
       "    </tr>\n",
       "  </tbody>\n",
       "</table>\n",
       "</div>"
      ],
      "text/plain": [
       "    mpg  cylinders  displacement horsepower  weight  acceleration  model year  \\\n",
       "0  18.0          8         307.0        130    3504          12.0          70   \n",
       "1  15.0          8         350.0        165    3693          11.5          70   \n",
       "2  18.0          8         318.0        150    3436          11.0          70   \n",
       "3  16.0          8         304.0        150    3433          12.0          70   \n",
       "4  17.0          8         302.0        140    3449          10.5          70   \n",
       "\n",
       "                    car name  USA  Europe  Japan Continent  \n",
       "0  chevrolet chevelle malibu  1.0     0.0    0.0       USA  \n",
       "1          buick skylark 320  1.0     0.0    0.0       USA  \n",
       "2         plymouth satellite  1.0     0.0    0.0       USA  \n",
       "3              amc rebel sst  1.0     0.0    0.0       USA  \n",
       "4                ford torino  1.0     0.0    0.0       USA  "
      ]
     },
     "execution_count": 116,
     "metadata": {},
     "output_type": "execute_result"
    }
   ],
   "source": [
    "#cars['origin'] = cars['origin'].map(lambda x: {1: 'USA', 2: 'Europe', 3: 'Japan'}.get(x))\n",
    "cars['USA'] = (origin == 1)*1.0\n",
    "cars['Europe'] = (origin == 2)*1.0\n",
    "cars['Japan'] = (origin == 3)*1.0\n",
    "cars['Continent'] = np.where(cars['USA'] == 1.0, 'USA',\n",
    "                                np.where(cars['Japan'] == 1.0, 'Japan', 'Europe'))\n",
    "cars.head()"
   ]
  },
  {
   "cell_type": "code",
   "execution_count": 117,
   "metadata": {},
   "outputs": [
    {
     "name": "stdout",
     "output_type": "stream",
     "text": [
      "<class 'pandas.core.frame.DataFrame'>\n",
      "RangeIndex: 398 entries, 0 to 397\n",
      "Data columns (total 12 columns):\n",
      "mpg             398 non-null float64\n",
      "cylinders       398 non-null int64\n",
      "displacement    398 non-null float64\n",
      "horsepower      398 non-null object\n",
      "weight          398 non-null int64\n",
      "acceleration    398 non-null float64\n",
      "model year      398 non-null int64\n",
      "car name        398 non-null object\n",
      "USA             398 non-null float64\n",
      "Europe          398 non-null float64\n",
      "Japan           398 non-null float64\n",
      "Continent       398 non-null object\n",
      "dtypes: float64(6), int64(3), object(3)\n",
      "memory usage: 37.4+ KB\n"
     ]
    }
   ],
   "source": [
    "cars.info()"
   ]
  },
  {
   "cell_type": "markdown",
   "metadata": {},
   "source": [
    "#### As you can see above the hp value are not integer values they are objects so need to check the values"
   ]
  },
  {
   "cell_type": "code",
   "execution_count": 118,
   "metadata": {},
   "outputs": [
    {
     "data": {
      "text/plain": [
       "array(['130', '165', '150', '140', '198', '220', '215', '225', '190',\n",
       "       '170', '160', '95', '97', '85', '88', '46', '87', '90', '113',\n",
       "       '200', '210', '193', '?', '100', '105', '175', '153', '180', '110',\n",
       "       '72', '86', '70', '76', '65', '69', '60', '80', '54', '208', '155',\n",
       "       '112', '92', '145', '137', '158', '167', '94', '107', '230', '49',\n",
       "       '75', '91', '122', '67', '83', '78', '52', '61', '93', '148',\n",
       "       '129', '96', '71', '98', '115', '53', '81', '79', '120', '152',\n",
       "       '102', '108', '68', '58', '149', '89', '63', '48', '66', '139',\n",
       "       '103', '125', '133', '138', '135', '142', '77', '62', '132', '84',\n",
       "       '64', '74', '116', '82'], dtype=object)"
      ]
     },
     "execution_count": 118,
     "metadata": {},
     "output_type": "execute_result"
    }
   ],
   "source": [
    "cars.horsepower.unique()"
   ]
  },
  {
   "cell_type": "code",
   "execution_count": 119,
   "metadata": {},
   "outputs": [
    {
     "data": {
      "text/plain": [
       "6"
      ]
     },
     "execution_count": 119,
     "metadata": {},
     "output_type": "execute_result"
    }
   ],
   "source": [
    "cars['horsepower']=cars['horsepower'].replace('?',np.nan)\n",
    "cars['horsepower'].isnull().sum()"
   ]
  },
  {
   "cell_type": "markdown",
   "metadata": {},
   "source": [
    "##### values got replaced as nan in horsepower variable\n",
    "#### now need to convert the horsepower variable to interger and fill the nan values with median value of horsepower"
   ]
  },
  {
   "cell_type": "code",
   "execution_count": 120,
   "metadata": {},
   "outputs": [
    {
     "data": {
      "text/plain": [
       "0"
      ]
     },
     "execution_count": 120,
     "metadata": {},
     "output_type": "execute_result"
    }
   ],
   "source": [
    "cars['horsepower']=cars['horsepower'].astype('float64')\n",
    "cars['horsepower'].dtype\n",
    "cars['horsepower']=cars['horsepower'].fillna(cars['horsepower'].median())\n",
    "cars['horsepower'].isnull().sum()"
   ]
  },
  {
   "cell_type": "markdown",
   "metadata": {},
   "source": [
    "## Exploratory Data Analysis"
   ]
  },
  {
   "cell_type": "markdown",
   "metadata": {},
   "source": [
    "#### Getting correlation between a car's weight and acceleration with it's fuel efficiency"
   ]
  },
  {
   "cell_type": "code",
   "execution_count": 121,
   "metadata": {},
   "outputs": [
    {
     "data": {
      "image/png": "[encoded data removed]",
      "text/plain": [
       "<Figure size 432x288 with 2 Axes>"
      ]
     },
     "metadata": {
      "needs_background": "light"
     },
     "output_type": "display_data"
    }
   ],
   "source": [
    "fig = plt.figure()\n",
    "ax1 = fig.add_subplot(2,1,1)\n",
    "ax2 = fig.add_subplot(2,1,2)\n",
    "cars.plot('weight','mpg',kind='scatter',ax=ax1)\n",
    "cars.plot('acceleration','mpg',kind='scatter',ax=ax2)\n",
    "plt.show()"
   ]
  },
  {
   "cell_type": "markdown",
   "metadata": {},
   "source": [
    "#### The above scatterplot shows a strong negative linear relationship between weight and mpg and a weak positive relationship between acceleration and mpg"
   ]
  },
  {
   "cell_type": "markdown",
   "metadata": {},
   "source": [
    "#### Now we can proceed to check the correlation of the variables"
   ]
  },
  {
   "cell_type": "code",
   "execution_count": 122,
   "metadata": {},
   "outputs": [
    {
     "data": {
      "image/png": "[encoded data removed]",
      "text/plain": [
       "<Figure size 1440x720 with 2 Axes>"
      ]
     },
     "metadata": {
      "needs_background": "light"
     },
     "output_type": "display_data"
    }
   ],
   "source": [
    "plt.figure(figsize=(20,10))\n",
    "corr_table=cars.corr()\n",
    "g=sns.heatmap(corr_table,annot=True)\n",
    "g.set(title='Correlation matrix of the car-mpg dataset')\n",
    "plt.show()  "
   ]
  },
  {
   "cell_type": "markdown",
   "metadata": {},
   "source": [
    "##### Mpg column is having good corelation on cyl,disp,wt\n",
    "##### cyl ,disp and wt and hp are having negative corelation\n",
    "\n",
    "#### Next we will have a quick look at the joint distribution of a few pairs of columns from the training set"
   ]
  },
  {
   "cell_type": "code",
   "execution_count": 123,
   "metadata": {},
   "outputs": [],
   "source": [
    "#sns.pairplot(cars,diag_kind='kde')\n",
    "#plt.show()"
   ]
  },
  {
   "cell_type": "code",
   "execution_count": 124,
   "metadata": {},
   "outputs": [
    {
     "data": {
      "text/html": [
       "        <script type=\"text/javascript\">\n",
       "        window.PlotlyConfig = {MathJaxConfig: 'local'};\n",
       "        if (window.MathJax) {MathJax.Hub.Config({SVG: {font: \"STIX-Web\"}});}\n",
       "        if (typeof require !== 'undefined') {\n",
       "        require.undef(\"plotly\");\n",
       "        requirejs.config({\n",
       "            paths: {\n",
       "                'plotly': ['https://cdn.plot.ly/plotly-latest.min']\n",
       "            }\n",
       "        });\n",
       "        require(['plotly'], function(Plotly) {\n",
       "            window._Plotly = Plotly;\n",
       "        });\n",
       "        }\n",
       "        </script>\n",
       "        "
      ]
     },
     "metadata": {},
     "output_type": "display_data"
    },
    {
     "data": {
      "application/vnd.plotly.v1+json": {
       "config": {
        "linkText": "Export to plot.ly",
        "plotlyServerURL": "https://plot.ly",
        "showLink": false
       },
       "data": [
        {
         "labels": [
          0,
          1,
          2,
          3,
          4,
          5,
          6,
          7,
          8,
          9,
          10,
          11,
          12,
          13,
          14,
          15,
          16,
          17,
          18,
          19,
          20,
          21,
          22,
          23,
          24,
          25,
          26,
          27,
          28,
          29,
          30,
          31,
          32,
          33,
          34,
          35,
          36,
          37,
          38,
          39,
          40,
          41,
          42,
          43,
          44,
          45,
          46,
          47,
          48,
          49,
          50,
          51,
          52,
          53,
          54,
          55,
          56,
          57,
          58,
          59,
          60,
          61,
          62,
          63,
          64,
          65,
          66,
          67,
          68,
          69,
          70,
          71,
          72,
          73,
          74,
          75,
          76,
          77,
          78,
          79,
          80,
          81,
          82,
          83,
          84,
          85,
          86,
          87,
          88,
          89,
          90,
          91,
          92,
          93,
          94,
          95,
          96,
          97,
          98,
          99,
          100,
          101,
          102,
          103,
          104,
          105,
          106,
          107,
          108,
          109,
          110,
          111,
          112,
          113,
          114,
          115,
          116,
          117,
          118,
          119,
          120,
          121,
          122,
          123,
          124,
          125,
          126,
          127,
          128,
          129,
          130,
          131,
          132,
          133,
          134,
          135,
          136,
          137,
          138,
          139,
          140,
          141,
          142,
          143,
          144,
          145,
          146,
          147,
          148,
          149,
          150,
          151,
          152,
          153,
          154,
          155,
          156,
          157,
          158,
          159,
          160,
          161,
          162,
          163,
          164,
          165,
          166,
          167,
          168,
          169,
          170,
          171,
          172,
          173,
          174,
          175,
          176,
          177,
          178,
          179,
          180,
          181,
          182,
          183,
          184,
          185,
          186,
          187,
          188,
          189,
          190,
          191,
          192,
          193,
          194,
          195,
          196,
          197,
          198,
          199,
          200,
          201,
          202,
          203,
          204,
          205,
          206,
          207,
          208,
          209,
          210,
          211,
          212,
          213,
          214,
          215,
          216,
          217,
          218,
          219,
          220,
          221,
          222,
          223,
          224,
          225,
          226,
          227,
          228,
          229,
          230,
          231,
          232,
          233,
          234,
          235,
          236,
          237,
          238,
          239,
          240,
          241,
          242,
          243,
          244,
          245,
          246,
          247,
          248,
          249,
          250,
          251,
          252,
          253,
          254,
          255,
          256,
          257,
          258,
          259,
          260,
          261,
          262,
          263,
          264,
          265,
          266,
          267,
          268,
          269,
          270,
          271,
          272,
          273,
          274,
          275,
          276,
          277,
          278,
          279,
          280,
          281,
          282,
          283,
          284,
          285,
          286,
          287,
          288,
          289,
          290,
          291,
          292,
          293,
          294,
          295,
          296,
          297,
          298,
          299,
          300,
          301,
          302,
          303,
          304,
          305,
          306,
          307,
          308,
          309,
          310,
          311,
          312,
          313,
          314,
          315,
          316,
          317,
          318,
          319,
          320,
          321,
          322,
          323,
          324,
          325,
          326,
          327,
          328,
          329,
          330,
          331,
          332,
          333,
          334,
          335,
          336,
          337,
          338,
          339,
          340,
          341,
          342,
          343,
          344,
          345,
          346,
          347,
          348,
          349,
          350,
          351,
          352,
          353,
          354,
          355,
          356,
          357,
          358,
          359,
          360,
          361,
          362,
          363,
          364,
          365,
          366,
          367,
          368,
          369,
          370,
          371,
          372,
          373,
          374,
          375,
          376,
          377,
          378,
          379,
          380,
          381,
          382,
          383,
          384,
          385,
          386,
          387,
          388,
          389,
          390,
          391,
          392,
          393,
          394,
          395,
          396,
          397
         ],
         "marker": {
          "colors": [
           "aqua",
           "pink",
           "teal"
          ]
         },
         "type": "pie",
         "values": [
          [
           18,
           8,
           307,
           130,
           3504,
           12,
           70,
           "chevrolet chevelle malibu",
           1,
           0,
           0,
           "USA"
          ],
          [
           15,
           8,
           350,
           165,
           3693,
           11.5,
           70,
           "buick skylark 320",
           1,
           0,
           0,
           "USA"
          ],
          [
           18,
           8,
           318,
           150,
           3436,
           11,
           70,
           "plymouth satellite",
           1,
           0,
           0,
           "USA"
          ],
          [
           16,
           8,
           304,
           150,
           3433,
           12,
           70,
           "amc rebel sst",
           1,
           0,
           0,
           "USA"
          ],
          [
           17,
           8,
           302,
           140,
           3449,
           10.5,
           70,
           "ford torino",
           1,
           0,
           0,
           "USA"
          ],
          [
           15,
           8,
           429,
           198,
           4341,
           10,
           70,
           "ford galaxie 500",
           1,
           0,
           0,
           "USA"
          ],
          [
           14,
           8,
           454,
           220,
           4354,
           9,
           70,
           "chevrolet impala",
           1,
           0,
           0,
           "USA"
          ],
          [
           14,
           8,
           440,
           215,
           4312,
           8.5,
           70,
           "plymouth fury iii",
           1,
           0,
           0,
           "USA"
          ],
          [
           14,
           8,
           455,
           225,
           4425,
           10,
           70,
           "pontiac catalina",
           1,
           0,
           0,
           "USA"
          ],
          [
           15,
           8,
           390,
           190,
           3850,
           8.5,
           70,
           "amc ambassador dpl",
           1,
           0,
           0,
           "USA"
          ],
          [
           15,
           8,
           383,
           170,
           3563,
           10,
           70,
           "dodge challenger se",
           1,
           0,
           0,
           "USA"
          ],
          [
           14,
           8,
           340,
           160,
           3609,
           8,
           70,
           "plymouth 'cuda 340",
           1,
           0,
           0,
           "USA"
          ],
          [
           15,
           8,
           400,
           150,
           3761,
           9.5,
           70,
           "chevrolet monte carlo",
           1,
           0,
           0,
           "USA"
          ],
          [
           14,
           8,
           455,
           225,
           3086,
           10,
           70,
           "buick estate wagon (sw)",
           1,
           0,
           0,
           "USA"
          ],
          [
           24,
           4,
           113,
           95,
           2372,
           15,
           70,
           "toyota corona mark ii",
           0,
           0,
           1,
           "Japan"
          ],
          [
           22,
           6,
           198,
           95,
           2833,
           15.5,
           70,
           "plymouth duster",
           1,
           0,
           0,
           "USA"
          ],
          [
           18,
           6,
           199,
           97,
           2774,
           15.5,
           70,
           "amc hornet",
           1,
           0,
           0,
           "USA"
          ],
          [
           21,
           6,
           200,
           85,
           2587,
           16,
           70,
           "ford maverick",
           1,
           0,
           0,
           "USA"
          ],
          [
           27,
           4,
           97,
           88,
           2130,
           14.5,
           70,
           "datsun pl510",
           0,
           0,
           1,
           "Japan"
          ],
          [
           26,
           4,
           97,
           46,
           1835,
           20.5,
           70,
           "volkswagen 1131 deluxe sedan",
           0,
           1,
           0,
           "Europe"
          ],
          [
           25,
           4,
           110,
           87,
           2672,
           17.5,
           70,
           "peugeot 504",
           0,
           1,
           0,
           "Europe"
          ],
          [
           24,
           4,
           107,
           90,
           2430,
           14.5,
           70,
           "audi 100 ls",
           0,
           1,
           0,
           "Europe"
          ],
          [
           25,
           4,
           104,
           95,
           2375,
           17.5,
           70,
           "saab 99e",
           0,
           1,
           0,
           "Europe"
          ],
          [
           26,
           4,
           121,
           113,
           2234,
           12.5,
           70,
           "bmw 2002",
           0,
           1,
           0,
           "Europe"
          ],
          [
           21,
           6,
           199,
           90,
           2648,
           15,
           70,
           "amc gremlin",
           1,
           0,
           0,
           "USA"
          ],
          [
           10,
           8,
           360,
           215,
           4615,
           14,
           70,
           "ford f250",
           1,
           0,
           0,
           "USA"
          ],
          [
           10,
           8,
           307,
           200,
           4376,
           15,
           70,
           "chevy c20",
           1,
           0,
           0,
           "USA"
          ],
          [
           11,
           8,
           318,
           210,
           4382,
           13.5,
           70,
           "dodge d200",
           1,
           0,
           0,
           "USA"
          ],
          [
           9,
           8,
           304,
           193,
           4732,
           18.5,
           70,
           "hi 1200d",
           1,
           0,
           0,
           "USA"
          ],
          [
           27,
           4,
           97,
           88,
           2130,
           14.5,
           71,
           "datsun pl510",
           0,
           0,
           1,
           "Japan"
          ],
          [
           28,
           4,
           140,
           90,
           2264,
           15.5,
           71,
           "chevrolet vega 2300",
           1,
           0,
           0,
           "USA"
          ],
          [
           25,
           4,
           113,
           95,
           2228,
           14,
           71,
           "toyota corona",
           0,
           0,
           1,
           "Japan"
          ],
          [
           25,
           4,
           98,
           93.5,
           2046,
           19,
           71,
           "ford pinto",
           1,
           0,
           0,
           "USA"
          ],
          [
           19,
           6,
           232,
           100,
           2634,
           13,
           71,
           "amc gremlin",
           1,
           0,
           0,
           "USA"
          ],
          [
           16,
           6,
           225,
           105,
           3439,
           15.5,
           71,
           "plymouth satellite custom",
           1,
           0,
           0,
           "USA"
          ],
          [
           17,
           6,
           250,
           100,
           3329,
           15.5,
           71,
           "chevrolet chevelle malibu",
           1,
           0,
           0,
           "USA"
          ],
          [
           19,
           6,
           250,
           88,
           3302,
           15.5,
           71,
           "ford torino 500",
           1,
           0,
           0,
           "USA"
          ],
          [
           18,
           6,
           232,
           100,
           3288,
           15.5,
           71,
           "amc matador",
           1,
           0,
           0,
           "USA"
          ],
          [
           14,
           8,
           350,
           165,
           4209,
           12,
           71,
           "chevrolet impala",
           1,
           0,
           0,
           "USA"
          ],
          [
           14,
           8,
           400,
           175,
           4464,
           11.5,
           71,
           "pontiac catalina brougham",
           1,
           0,
           0,
           "USA"
          ],
          [
           14,
           8,
           351,
           153,
           4154,
           13.5,
           71,
           "ford galaxie 500",
           1,
           0,
           0,
           "USA"
          ],
          [
           14,
           8,
           318,
           150,
           4096,
           13,
           71,
           "plymouth fury iii",
           1,
           0,
           0,
           "USA"
          ],
          [
           12,
           8,
           383,
           180,
           4955,
           11.5,
           71,
           "dodge monaco (sw)",
           1,
           0,
           0,
           "USA"
          ],
          [
           13,
           8,
           400,
           170,
           4746,
           12,
           71,
           "ford country squire (sw)",
           1,
           0,
           0,
           "USA"
          ],
          [
           13,
           8,
           400,
           175,
           5140,
           12,
           71,
           "pontiac safari (sw)",
           1,
           0,
           0,
           "USA"
          ],
          [
           18,
           6,
           258,
           110,
           2962,
           13.5,
           71,
           "amc hornet sportabout (sw)",
           1,
           0,
           0,
           "USA"
          ],
          [
           22,
           4,
           140,
           72,
           2408,
           19,
           71,
           "chevrolet vega (sw)",
           1,
           0,
           0,
           "USA"
          ],
          [
           19,
           6,
           250,
           100,
           3282,
           15,
           71,
           "pontiac firebird",
           1,
           0,
           0,
           "USA"
          ],
          [
           18,
           6,
           250,
           88,
           3139,
           14.5,
           71,
           "ford mustang",
           1,
           0,
           0,
           "USA"
          ],
          [
           23,
           4,
           122,
           86,
           2220,
           14,
           71,
           "mercury capri 2000",
           1,
           0,
           0,
           "USA"
          ],
          [
           28,
           4,
           116,
           90,
           2123,
           14,
           71,
           "opel 1900",
           0,
           1,
           0,
           "Europe"
          ],
          [
           30,
           4,
           79,
           70,
           2074,
           19.5,
           71,
           "peugeot 304",
           0,
           1,
           0,
           "Europe"
          ],
          [
           30,
           4,
           88,
           76,
           2065,
           14.5,
           71,
           "fiat 124b",
           0,
           1,
           0,
           "Europe"
          ],
          [
           31,
           4,
           71,
           65,
           1773,
           19,
           71,
           "toyota corolla 1200",
           0,
           0,
           1,
           "Japan"
          ],
          [
           35,
           4,
           72,
           69,
           1613,
           18,
           71,
           "datsun 1200",
           0,
           0,
           1,
           "Japan"
          ],
          [
           27,
           4,
           97,
           60,
           1834,
           19,
           71,
           "volkswagen model 111",
           0,
           1,
           0,
           "Europe"
          ],
          [
           26,
           4,
           91,
           70,
           1955,
           20.5,
           71,
           "plymouth cricket",
           1,
           0,
           0,
           "USA"
          ],
          [
           24,
           4,
           113,
           95,
           2278,
           15.5,
           72,
           "toyota corona hardtop",
           0,
           0,
           1,
           "Japan"
          ],
          [
           25,
           4,
           97.5,
           80,
           2126,
           17,
           72,
           "dodge colt hardtop",
           1,
           0,
           0,
           "USA"
          ],
          [
           23,
           4,
           97,
           54,
           2254,
           23.5,
           72,
           "volkswagen type 3",
           0,
           1,
           0,
           "Europe"
          ],
          [
           20,
           4,
           140,
           90,
           2408,
           19.5,
           72,
           "chevrolet vega",
           1,
           0,
           0,
           "USA"
          ],
          [
           21,
           4,
           122,
           86,
           2226,
           16.5,
           72,
           "ford pinto runabout",
           1,
           0,
           0,
           "USA"
          ],
          [
           13,
           8,
           350,
           165,
           4274,
           12,
           72,
           "chevrolet impala",
           1,
           0,
           0,
           "USA"
          ],
          [
           14,
           8,
           400,
           175,
           4385,
           12,
           72,
           "pontiac catalina",
           1,
           0,
           0,
           "USA"
          ],
          [
           15,
           8,
           318,
           150,
           4135,
           13.5,
           72,
           "plymouth fury iii",
           1,
           0,
           0,
           "USA"
          ],
          [
           14,
           8,
           351,
           153,
           4129,
           13,
           72,
           "ford galaxie 500",
           1,
           0,
           0,
           "USA"
          ],
          [
           17,
           8,
           304,
           150,
           3672,
           11.5,
           72,
           "amc ambassador sst",
           1,
           0,
           0,
           "USA"
          ],
          [
           11,
           8,
           429,
           208,
           4633,
           11,
           72,
           "mercury marquis",
           1,
           0,
           0,
           "USA"
          ],
          [
           13,
           8,
           350,
           155,
           4502,
           13.5,
           72,
           "buick lesabre custom",
           1,
           0,
           0,
           "USA"
          ],
          [
           12,
           8,
           350,
           160,
           4456,
           13.5,
           72,
           "oldsmobile delta 88 royale",
           1,
           0,
           0,
           "USA"
          ],
          [
           13,
           8,
           400,
           190,
           4422,
           12.5,
           72,
           "chrysler newport royal",
           1,
           0,
           0,
           "USA"
          ],
          [
           19,
           3,
           70,
           97,
           2330,
           13.5,
           72,
           "mazda rx2 coupe",
           0,
           0,
           1,
           "Japan"
          ],
          [
           15,
           8,
           304,
           150,
           3892,
           12.5,
           72,
           "amc matador (sw)",
           1,
           0,
           0,
           "USA"
          ],
          [
           13,
           8,
           307,
           130,
           4098,
           14,
           72,
           "chevrolet chevelle concours (sw)",
           1,
           0,
           0,
           "USA"
          ],
          [
           13,
           8,
           302,
           140,
           4294,
           16,
           72,
           "ford gran torino (sw)",
           1,
           0,
           0,
           "USA"
          ],
          [
           14,
           8,
           318,
           150,
           4077,
           14,
           72,
           "plymouth satellite custom (sw)",
           1,
           0,
           0,
           "USA"
          ],
          [
           18,
           4,
           121,
           112,
           2933,
           14.5,
           72,
           "volvo 145e (sw)",
           0,
           1,
           0,
           "Europe"
          ],
          [
           22,
           4,
           121,
           76,
           2511,
           18,
           72,
           "volkswagen 411 (sw)",
           0,
           1,
           0,
           "Europe"
          ],
          [
           21,
           4,
           120,
           87,
           2979,
           19.5,
           72,
           "peugeot 504 (sw)",
           0,
           1,
           0,
           "Europe"
          ],
          [
           26,
           4,
           96,
           69,
           2189,
           18,
           72,
           "renault 12 (sw)",
           0,
           1,
           0,
           "Europe"
          ],
          [
           22,
           4,
           122,
           86,
           2395,
           16,
           72,
           "ford pinto (sw)",
           1,
           0,
           0,
           "USA"
          ],
          [
           28,
           4,
           97,
           92,
           2288,
           17,
           72,
           "datsun 510 (sw)",
           0,
           0,
           1,
           "Japan"
          ],
          [
           23,
           4,
           120,
           97,
           2506,
           14.5,
           72,
           "toyouta corona mark ii (sw)",
           0,
           0,
           1,
           "Japan"
          ],
          [
           28,
           4,
           98,
           80,
           2164,
           15,
           72,
           "dodge colt (sw)",
           1,
           0,
           0,
           "USA"
          ],
          [
           27,
           4,
           97,
           88,
           2100,
           16.5,
           72,
           "toyota corolla 1600 (sw)",
           0,
           0,
           1,
           "Japan"
          ],
          [
           13,
           8,
           350,
           175,
           4100,
           13,
           73,
           "buick century 350",
           1,
           0,
           0,
           "USA"
          ],
          [
           14,
           8,
           304,
           150,
           3672,
           11.5,
           73,
           "amc matador",
           1,
           0,
           0,
           "USA"
          ],
          [
           13,
           8,
           350,
           145,
           3988,
           13,
           73,
           "chevrolet malibu",
           1,
           0,
           0,
           "USA"
          ],
          [
           14,
           8,
           302,
           137,
           4042,
           14.5,
           73,
           "ford gran torino",
           1,
           0,
           0,
           "USA"
          ],
          [
           15,
           8,
           318,
           150,
           3777,
           12.5,
           73,
           "dodge coronet custom",
           1,
           0,
           0,
           "USA"
          ],
          [
           12,
           8,
           429,
           198,
           4952,
           11.5,
           73,
           "mercury marquis brougham",
           1,
           0,
           0,
           "USA"
          ],
          [
           13,
           8,
           400,
           150,
           4464,
           12,
           73,
           "chevrolet caprice classic",
           1,
           0,
           0,
           "USA"
          ],
          [
           13,
           8,
           351,
           158,
           4363,
           13,
           73,
           "ford ltd",
           1,
           0,
           0,
           "USA"
          ],
          [
           14,
           8,
           318,
           150,
           4237,
           14.5,
           73,
           "plymouth fury gran sedan",
           1,
           0,
           0,
           "USA"
          ],
          [
           13,
           8,
           440,
           215,
           4735,
           11,
           73,
           "chrysler new yorker brougham",
           1,
           0,
           0,
           "USA"
          ],
          [
           12,
           8,
           455,
           225,
           4951,
           11,
           73,
           "buick electra 225 custom",
           1,
           0,
           0,
           "USA"
          ],
          [
           13,
           8,
           360,
           175,
           3821,
           11,
           73,
           "amc ambassador brougham",
           1,
           0,
           0,
           "USA"
          ],
          [
           18,
           6,
           225,
           105,
           3121,
           16.5,
           73,
           "plymouth valiant",
           1,
           0,
           0,
           "USA"
          ],
          [
           16,
           6,
           250,
           100,
           3278,
           18,
           73,
           "chevrolet nova custom",
           1,
           0,
           0,
           "USA"
          ],
          [
           18,
           6,
           232,
           100,
           2945,
           16,
           73,
           "amc hornet",
           1,
           0,
           0,
           "USA"
          ],
          [
           18,
           6,
           250,
           88,
           3021,
           16.5,
           73,
           "ford maverick",
           1,
           0,
           0,
           "USA"
          ],
          [
           23,
           6,
           198,
           95,
           2904,
           16,
           73,
           "plymouth duster",
           1,
           0,
           0,
           "USA"
          ],
          [
           26,
           4,
           97,
           46,
           1950,
           21,
           73,
           "volkswagen super beetle",
           0,
           1,
           0,
           "Europe"
          ],
          [
           11,
           8,
           400,
           150,
           4997,
           14,
           73,
           "chevrolet impala",
           1,
           0,
           0,
           "USA"
          ],
          [
           12,
           8,
           400,
           167,
           4906,
           12.5,
           73,
           "ford country",
           1,
           0,
           0,
           "USA"
          ],
          [
           13,
           8,
           360,
           170,
           4654,
           13,
           73,
           "plymouth custom suburb",
           1,
           0,
           0,
           "USA"
          ],
          [
           12,
           8,
           350,
           180,
           4499,
           12.5,
           73,
           "oldsmobile vista cruiser",
           1,
           0,
           0,
           "USA"
          ],
          [
           18,
           6,
           232,
           100,
           2789,
           15,
           73,
           "amc gremlin",
           1,
           0,
           0,
           "USA"
          ],
          [
           20,
           4,
           97,
           88,
           2279,
           19,
           73,
           "toyota carina",
           0,
           0,
           1,
           "Japan"
          ],
          [
           21,
           4,
           140,
           72,
           2401,
           19.5,
           73,
           "chevrolet vega",
           1,
           0,
           0,
           "USA"
          ],
          [
           22,
           4,
           108,
           94,
           2379,
           16.5,
           73,
           "datsun 610",
           0,
           0,
           1,
           "Japan"
          ],
          [
           18,
           3,
           70,
           90,
           2124,
           13.5,
           73,
           "maxda rx3",
           0,
           0,
           1,
           "Japan"
          ],
          [
           19,
           4,
           122,
           85,
           2310,
           18.5,
           73,
           "ford pinto",
           1,
           0,
           0,
           "USA"
          ],
          [
           21,
           6,
           155,
           107,
           2472,
           14,
           73,
           "mercury capri v6",
           1,
           0,
           0,
           "USA"
          ],
          [
           26,
           4,
           98,
           90,
           2265,
           15.5,
           73,
           "fiat 124 sport coupe",
           0,
           1,
           0,
           "Europe"
          ],
          [
           15,
           8,
           350,
           145,
           4082,
           13,
           73,
           "chevrolet monte carlo s",
           1,
           0,
           0,
           "USA"
          ],
          [
           16,
           8,
           400,
           230,
           4278,
           9.5,
           73,
           "pontiac grand prix",
           1,
           0,
           0,
           "USA"
          ],
          [
           29,
           4,
           68,
           49,
           1867,
           19.5,
           73,
           "fiat 128",
           0,
           1,
           0,
           "Europe"
          ],
          [
           24,
           4,
           116,
           75,
           2158,
           15.5,
           73,
           "opel manta",
           0,
           1,
           0,
           "Europe"
          ],
          [
           20,
           4,
           114,
           91,
           2582,
           14,
           73,
           "audi 100ls",
           0,
           1,
           0,
           "Europe"
          ],
          [
           19,
           4,
           121,
           112,
           2868,
           15.5,
           73,
           "volvo 144ea",
           0,
           1,
           0,
           "Europe"
          ],
          [
           15,
           8,
           318,
           150,
           3399,
           11,
           73,
           "dodge dart custom",
           1,
           0,
           0,
           "USA"
          ],
          [
           24,
           4,
           121,
           110,
           2660,
           14,
           73,
           "saab 99le",
           0,
           1,
           0,
           "Europe"
          ],
          [
           20,
           6,
           156,
           122,
           2807,
           13.5,
           73,
           "toyota mark ii",
           0,
           0,
           1,
           "Japan"
          ],
          [
           11,
           8,
           350,
           180,
           3664,
           11,
           73,
           "oldsmobile omega",
           1,
           0,
           0,
           "USA"
          ],
          [
           20,
           6,
           198,
           95,
           3102,
           16.5,
           74,
           "plymouth duster",
           1,
           0,
           0,
           "USA"
          ],
          [
           21,
           6,
           200,
           93.5,
           2875,
           17,
           74,
           "ford maverick",
           1,
           0,
           0,
           "USA"
          ],
          [
           19,
           6,
           232,
           100,
           2901,
           16,
           74,
           "amc hornet",
           1,
           0,
           0,
           "USA"
          ],
          [
           15,
           6,
           250,
           100,
           3336,
           17,
           74,
           "chevrolet nova",
           1,
           0,
           0,
           "USA"
          ],
          [
           31,
           4,
           79,
           67,
           1950,
           19,
           74,
           "datsun b210",
           0,
           0,
           1,
           "Japan"
          ],
          [
           26,
           4,
           122,
           80,
           2451,
           16.5,
           74,
           "ford pinto",
           1,
           0,
           0,
           "USA"
          ],
          [
           32,
           4,
           71,
           65,
           1836,
           21,
           74,
           "toyota corolla 1200",
           0,
           0,
           1,
           "Japan"
          ],
          [
           25,
           4,
           140,
           75,
           2542,
           17,
           74,
           "chevrolet vega",
           1,
           0,
           0,
           "USA"
          ],
          [
           16,
           6,
           250,
           100,
           3781,
           17,
           74,
           "chevrolet chevelle malibu classic",
           1,
           0,
           0,
           "USA"
          ],
          [
           16,
           6,
           258,
           110,
           3632,
           18,
           74,
           "amc matador",
           1,
           0,
           0,
           "USA"
          ],
          [
           18,
           6,
           225,
           105,
           3613,
           16.5,
           74,
           "plymouth satellite sebring",
           1,
           0,
           0,
           "USA"
          ],
          [
           16,
           8,
           302,
           140,
           4141,
           14,
           74,
           "ford gran torino",
           1,
           0,
           0,
           "USA"
          ],
          [
           13,
           8,
           350,
           150,
           4699,
           14.5,
           74,
           "buick century luxus (sw)",
           1,
           0,
           0,
           "USA"
          ],
          [
           14,
           8,
           318,
           150,
           4457,
           13.5,
           74,
           "dodge coronet custom (sw)",
           1,
           0,
           0,
           "USA"
          ],
          [
           14,
           8,
           302,
           140,
           4638,
           16,
           74,
           "ford gran torino (sw)",
           1,
           0,
           0,
           "USA"
          ],
          [
           14,
           8,
           304,
           150,
           4257,
           15.5,
           74,
           "amc matador (sw)",
           1,
           0,
           0,
           "USA"
          ],
          [
           29,
           4,
           98,
           83,
           2219,
           16.5,
           74,
           "audi fox",
           0,
           1,
           0,
           "Europe"
          ],
          [
           26,
           4,
           79,
           67,
           1963,
           15.5,
           74,
           "volkswagen dasher",
           0,
           1,
           0,
           "Europe"
          ],
          [
           26,
           4,
           97,
           78,
           2300,
           14.5,
           74,
           "opel manta",
           0,
           1,
           0,
           "Europe"
          ],
          [
           31,
           4,
           76,
           52,
           1649,
           16.5,
           74,
           "toyota corona",
           0,
           0,
           1,
           "Japan"
          ],
          [
           32,
           4,
           83,
           61,
           2003,
           19,
           74,
           "datsun 710",
           0,
           0,
           1,
           "Japan"
          ],
          [
           28,
           4,
           90,
           75,
           2125,
           14.5,
           74,
           "dodge colt",
           1,
           0,
           0,
           "USA"
          ],
          [
           24,
           4,
           90,
           75,
           2108,
           15.5,
           74,
           "fiat 128",
           0,
           1,
           0,
           "Europe"
          ],
          [
           26,
           4,
           116,
           75,
           2246,
           14,
           74,
           "fiat 124 tc",
           0,
           1,
           0,
           "Europe"
          ],
          [
           24,
           4,
           120,
           97,
           2489,
           15,
           74,
           "honda civic",
           0,
           0,
           1,
           "Japan"
          ],
          [
           26,
           4,
           108,
           93,
           2391,
           15.5,
           74,
           "subaru",
           0,
           0,
           1,
           "Japan"
          ],
          [
           31,
           4,
           79,
           67,
           2000,
           16,
           74,
           "fiat x1.9",
           0,
           1,
           0,
           "Europe"
          ],
          [
           19,
           6,
           225,
           95,
           3264,
           16,
           75,
           "plymouth valiant custom",
           1,
           0,
           0,
           "USA"
          ],
          [
           18,
           6,
           250,
           105,
           3459,
           16,
           75,
           "chevrolet nova",
           1,
           0,
           0,
           "USA"
          ],
          [
           15,
           6,
           250,
           72,
           3432,
           21,
           75,
           "mercury monarch",
           1,
           0,
           0,
           "USA"
          ],
          [
           15,
           6,
           250,
           72,
           3158,
           19.5,
           75,
           "ford maverick",
           1,
           0,
           0,
           "USA"
          ],
          [
           16,
           8,
           400,
           170,
           4668,
           11.5,
           75,
           "pontiac catalina",
           1,
           0,
           0,
           "USA"
          ],
          [
           15,
           8,
           350,
           145,
           4440,
           14,
           75,
           "chevrolet bel air",
           1,
           0,
           0,
           "USA"
          ],
          [
           16,
           8,
           318,
           150,
           4498,
           14.5,
           75,
           "plymouth grand fury",
           1,
           0,
           0,
           "USA"
          ],
          [
           14,
           8,
           351,
           148,
           4657,
           13.5,
           75,
           "ford ltd",
           1,
           0,
           0,
           "USA"
          ],
          [
           17,
           6,
           231,
           110,
           3907,
           21,
           75,
           "buick century",
           1,
           0,
           0,
           "USA"
          ],
          [
           16,
           6,
           250,
           105,
           3897,
           18.5,
           75,
           "chevroelt chevelle malibu",
           1,
           0,
           0,
           "USA"
          ],
          [
           15,
           6,
           258,
           110,
           3730,
           19,
           75,
           "amc matador",
           1,
           0,
           0,
           "USA"
          ],
          [
           18,
           6,
           225,
           95,
           3785,
           19,
           75,
           "plymouth fury",
           1,
           0,
           0,
           "USA"
          ],
          [
           21,
           6,
           231,
           110,
           3039,
           15,
           75,
           "buick skyhawk",
           1,
           0,
           0,
           "USA"
          ],
          [
           20,
           8,
           262,
           110,
           3221,
           13.5,
           75,
           "chevrolet monza 2+2",
           1,
           0,
           0,
           "USA"
          ],
          [
           13,
           8,
           302,
           129,
           3169,
           12,
           75,
           "ford mustang ii",
           1,
           0,
           0,
           "USA"
          ],
          [
           29,
           4,
           97,
           75,
           2171,
           16,
           75,
           "toyota corolla",
           0,
           0,
           1,
           "Japan"
          ],
          [
           23,
           4,
           140,
           83,
           2639,
           17,
           75,
           "ford pinto",
           1,
           0,
           0,
           "USA"
          ],
          [
           20,
           6,
           232,
           100,
           2914,
           16,
           75,
           "amc gremlin",
           1,
           0,
           0,
           "USA"
          ],
          [
           23,
           4,
           140,
           78,
           2592,
           18.5,
           75,
           "pontiac astro",
           1,
           0,
           0,
           "USA"
          ],
          [
           24,
           4,
           134,
           96,
           2702,
           13.5,
           75,
           "toyota corona",
           0,
           0,
           1,
           "Japan"
          ],
          [
           25,
           4,
           90,
           71,
           2223,
           16.5,
           75,
           "volkswagen dasher",
           0,
           1,
           0,
           "Europe"
          ],
          [
           24,
           4,
           119,
           97,
           2545,
           17,
           75,
           "datsun 710",
           0,
           0,
           1,
           "Japan"
          ],
          [
           18,
           6,
           171,
           97,
           2984,
           14.5,
           75,
           "ford pinto",
           1,
           0,
           0,
           "USA"
          ],
          [
           29,
           4,
           90,
           70,
           1937,
           14,
           75,
           "volkswagen rabbit",
           0,
           1,
           0,
           "Europe"
          ],
          [
           19,
           6,
           232,
           90,
           3211,
           17,
           75,
           "amc pacer",
           1,
           0,
           0,
           "USA"
          ],
          [
           23,
           4,
           115,
           95,
           2694,
           15,
           75,
           "audi 100ls",
           0,
           1,
           0,
           "Europe"
          ],
          [
           23,
           4,
           120,
           88,
           2957,
           17,
           75,
           "peugeot 504",
           0,
           1,
           0,
           "Europe"
          ],
          [
           22,
           4,
           121,
           98,
           2945,
           14.5,
           75,
           "volvo 244dl",
           0,
           1,
           0,
           "Europe"
          ],
          [
           25,
           4,
           121,
           115,
           2671,
           13.5,
           75,
           "saab 99le",
           0,
           1,
           0,
           "Europe"
          ],
          [
           33,
           4,
           91,
           53,
           1795,
           17.5,
           75,
           "honda civic cvcc",
           0,
           0,
           1,
           "Japan"
          ],
          [
           28,
           4,
           107,
           86,
           2464,
           15.5,
           76,
           "fiat 131",
           0,
           1,
           0,
           "Europe"
          ],
          [
           25,
           4,
           116,
           81,
           2220,
           16.9,
           76,
           "opel 1900",
           0,
           1,
           0,
           "Europe"
          ],
          [
           25,
           4,
           140,
           92,
           2572,
           14.9,
           76,
           "capri ii",
           1,
           0,
           0,
           "USA"
          ],
          [
           26,
           4,
           98,
           79,
           2255,
           17.7,
           76,
           "dodge colt",
           1,
           0,
           0,
           "USA"
          ],
          [
           27,
           4,
           101,
           83,
           2202,
           15.3,
           76,
           "renault 12tl",
           0,
           1,
           0,
           "Europe"
          ],
          [
           17.5,
           8,
           305,
           140,
           4215,
           13,
           76,
           "chevrolet chevelle malibu classic",
           1,
           0,
           0,
           "USA"
          ],
          [
           16,
           8,
           318,
           150,
           4190,
           13,
           76,
           "dodge coronet brougham",
           1,
           0,
           0,
           "USA"
          ],
          [
           15.5,
           8,
           304,
           120,
           3962,
           13.9,
           76,
           "amc matador",
           1,
           0,
           0,
           "USA"
          ],
          [
           14.5,
           8,
           351,
           152,
           4215,
           12.8,
           76,
           "ford gran torino",
           1,
           0,
           0,
           "USA"
          ],
          [
           22,
           6,
           225,
           100,
           3233,
           15.4,
           76,
           "plymouth valiant",
           1,
           0,
           0,
           "USA"
          ],
          [
           22,
           6,
           250,
           105,
           3353,
           14.5,
           76,
           "chevrolet nova",
           1,
           0,
           0,
           "USA"
          ],
          [
           24,
           6,
           200,
           81,
           3012,
           17.6,
           76,
           "ford maverick",
           1,
           0,
           0,
           "USA"
          ],
          [
           22.5,
           6,
           232,
           90,
           3085,
           17.6,
           76,
           "amc hornet",
           1,
           0,
           0,
           "USA"
          ],
          [
           29,
           4,
           85,
           52,
           2035,
           22.2,
           76,
           "chevrolet chevette",
           1,
           0,
           0,
           "USA"
          ],
          [
           24.5,
           4,
           98,
           60,
           2164,
           22.1,
           76,
           "chevrolet woody",
           1,
           0,
           0,
           "USA"
          ],
          [
           29,
           4,
           90,
           70,
           1937,
           14.2,
           76,
           "vw rabbit",
           0,
           1,
           0,
           "Europe"
          ],
          [
           33,
           4,
           91,
           53,
           1795,
           17.4,
           76,
           "honda civic",
           0,
           0,
           1,
           "Japan"
          ],
          [
           20,
           6,
           225,
           100,
           3651,
           17.7,
           76,
           "dodge aspen se",
           1,
           0,
           0,
           "USA"
          ],
          [
           18,
           6,
           250,
           78,
           3574,
           21,
           76,
           "ford granada ghia",
           1,
           0,
           0,
           "USA"
          ],
          [
           18.5,
           6,
           250,
           110,
           3645,
           16.2,
           76,
           "pontiac ventura sj",
           1,
           0,
           0,
           "USA"
          ],
          [
           17.5,
           6,
           258,
           95,
           3193,
           17.8,
           76,
           "amc pacer d/l",
           1,
           0,
           0,
           "USA"
          ],
          [
           29.5,
           4,
           97,
           71,
           1825,
           12.2,
           76,
           "volkswagen rabbit",
           0,
           1,
           0,
           "Europe"
          ],
          [
           32,
           4,
           85,
           70,
           1990,
           17,
           76,
           "datsun b-210",
           0,
           0,
           1,
           "Japan"
          ],
          [
           28,
           4,
           97,
           75,
           2155,
           16.4,
           76,
           "toyota corolla",
           0,
           0,
           1,
           "Japan"
          ],
          [
           26.5,
           4,
           140,
           72,
           2565,
           13.6,
           76,
           "ford pinto",
           1,
           0,
           0,
           "USA"
          ],
          [
           20,
           4,
           130,
           102,
           3150,
           15.7,
           76,
           "volvo 245",
           0,
           1,
           0,
           "Europe"
          ],
          [
           13,
           8,
           318,
           150,
           3940,
           13.2,
           76,
           "plymouth volare premier v8",
           1,
           0,
           0,
           "USA"
          ],
          [
           19,
           4,
           120,
           88,
           3270,
           21.9,
           76,
           "peugeot 504",
           0,
           1,
           0,
           "Europe"
          ],
          [
           19,
           6,
           156,
           108,
           2930,
           15.5,
           76,
           "toyota mark ii",
           0,
           0,
           1,
           "Japan"
          ],
          [
           16.5,
           6,
           168,
           120,
           3820,
           16.7,
           76,
           "mercedes-benz 280s",
           0,
           1,
           0,
           "Europe"
          ],
          [
           16.5,
           8,
           350,
           180,
           4380,
           12.1,
           76,
           "cadillac seville",
           1,
           0,
           0,
           "USA"
          ],
          [
           13,
           8,
           350,
           145,
           4055,
           12,
           76,
           "chevy c10",
           1,
           0,
           0,
           "USA"
          ],
          [
           13,
           8,
           302,
           130,
           3870,
           15,
           76,
           "ford f108",
           1,
           0,
           0,
           "USA"
          ],
          [
           13,
           8,
           318,
           150,
           3755,
           14,
           76,
           "dodge d100",
           1,
           0,
           0,
           "USA"
          ],
          [
           31.5,
           4,
           98,
           68,
           2045,
           18.5,
           77,
           "honda accord cvcc",
           0,
           0,
           1,
           "Japan"
          ],
          [
           30,
           4,
           111,
           80,
           2155,
           14.8,
           77,
           "buick opel isuzu deluxe",
           1,
           0,
           0,
           "USA"
          ],
          [
           36,
           4,
           79,
           58,
           1825,
           18.6,
           77,
           "renault 5 gtl",
           0,
           1,
           0,
           "Europe"
          ],
          [
           25.5,
           4,
           122,
           96,
           2300,
           15.5,
           77,
           "plymouth arrow gs",
           1,
           0,
           0,
           "USA"
          ],
          [
           33.5,
           4,
           85,
           70,
           1945,
           16.8,
           77,
           "datsun f-10 hatchback",
           0,
           0,
           1,
           "Japan"
          ],
          [
           17.5,
           8,
           305,
           145,
           3880,
           12.5,
           77,
           "chevrolet caprice classic",
           1,
           0,
           0,
           "USA"
          ],
          [
           17,
           8,
           260,
           110,
           4060,
           19,
           77,
           "oldsmobile cutlass supreme",
           1,
           0,
           0,
           "USA"
          ],
          [
           15.5,
           8,
           318,
           145,
           4140,
           13.7,
           77,
           "dodge monaco brougham",
           1,
           0,
           0,
           "USA"
          ],
          [
           15,
           8,
           302,
           130,
           4295,
           14.9,
           77,
           "mercury cougar brougham",
           1,
           0,
           0,
           "USA"
          ],
          [
           17.5,
           6,
           250,
           110,
           3520,
           16.4,
           77,
           "chevrolet concours",
           1,
           0,
           0,
           "USA"
          ],
          [
           20.5,
           6,
           231,
           105,
           3425,
           16.9,
           77,
           "buick skylark",
           1,
           0,
           0,
           "USA"
          ],
          [
           19,
           6,
           225,
           100,
           3630,
           17.7,
           77,
           "plymouth volare custom",
           1,
           0,
           0,
           "USA"
          ],
          [
           18.5,
           6,
           250,
           98,
           3525,
           19,
           77,
           "ford granada",
           1,
           0,
           0,
           "USA"
          ],
          [
           16,
           8,
           400,
           180,
           4220,
           11.1,
           77,
           "pontiac grand prix lj",
           1,
           0,
           0,
           "USA"
          ],
          [
           15.5,
           8,
           350,
           170,
           4165,
           11.4,
           77,
           "chevrolet monte carlo landau",
           1,
           0,
           0,
           "USA"
          ],
          [
           15.5,
           8,
           400,
           190,
           4325,
           12.2,
           77,
           "chrysler cordoba",
           1,
           0,
           0,
           "USA"
          ],
          [
           16,
           8,
           351,
           149,
           4335,
           14.5,
           77,
           "ford thunderbird",
           1,
           0,
           0,
           "USA"
          ],
          [
           29,
           4,
           97,
           78,
           1940,
           14.5,
           77,
           "volkswagen rabbit custom",
           0,
           1,
           0,
           "Europe"
          ],
          [
           24.5,
           4,
           151,
           88,
           2740,
           16,
           77,
           "pontiac sunbird coupe",
           1,
           0,
           0,
           "USA"
          ],
          [
           26,
           4,
           97,
           75,
           2265,
           18.2,
           77,
           "toyota corolla liftback",
           0,
           0,
           1,
           "Japan"
          ],
          [
           25.5,
           4,
           140,
           89,
           2755,
           15.8,
           77,
           "ford mustang ii 2+2",
           1,
           0,
           0,
           "USA"
          ],
          [
           30.5,
           4,
           98,
           63,
           2051,
           17,
           77,
           "chevrolet chevette",
           1,
           0,
           0,
           "USA"
          ],
          [
           33.5,
           4,
           98,
           83,
           2075,
           15.9,
           77,
           "dodge colt m/m",
           1,
           0,
           0,
           "USA"
          ],
          [
           30,
           4,
           97,
           67,
           1985,
           16.4,
           77,
           "subaru dl",
           0,
           0,
           1,
           "Japan"
          ],
          [
           30.5,
           4,
           97,
           78,
           2190,
           14.1,
           77,
           "volkswagen dasher",
           0,
           1,
           0,
           "Europe"
          ],
          [
           22,
           6,
           146,
           97,
           2815,
           14.5,
           77,
           "datsun 810",
           0,
           0,
           1,
           "Japan"
          ],
          [
           21.5,
           4,
           121,
           110,
           2600,
           12.8,
           77,
           "bmw 320i",
           0,
           1,
           0,
           "Europe"
          ],
          [
           21.5,
           3,
           80,
           110,
           2720,
           13.5,
           77,
           "mazda rx-4",
           0,
           0,
           1,
           "Japan"
          ],
          [
           43.1,
           4,
           90,
           48,
           1985,
           21.5,
           78,
           "volkswagen rabbit custom diesel",
           0,
           1,
           0,
           "Europe"
          ],
          [
           36.1,
           4,
           98,
           66,
           1800,
           14.4,
           78,
           "ford fiesta",
           1,
           0,
           0,
           "USA"
          ],
          [
           32.8,
           4,
           78,
           52,
           1985,
           19.4,
           78,
           "mazda glc deluxe",
           0,
           0,
           1,
           "Japan"
          ],
          [
           39.4,
           4,
           85,
           70,
           2070,
           18.6,
           78,
           "datsun b210 gx",
           0,
           0,
           1,
           "Japan"
          ],
          [
           36.1,
           4,
           91,
           60,
           1800,
           16.4,
           78,
           "honda civic cvcc",
           0,
           0,
           1,
           "Japan"
          ],
          [
           19.9,
           8,
           260,
           110,
           3365,
           15.5,
           78,
           "oldsmobile cutlass salon brougham",
           1,
           0,
           0,
           "USA"
          ],
          [
           19.4,
           8,
           318,
           140,
           3735,
           13.2,
           78,
           "dodge diplomat",
           1,
           0,
           0,
           "USA"
          ],
          [
           20.2,
           8,
           302,
           139,
           3570,
           12.8,
           78,
           "mercury monarch ghia",
           1,
           0,
           0,
           "USA"
          ],
          [
           19.2,
           6,
           231,
           105,
           3535,
           19.2,
           78,
           "pontiac phoenix lj",
           1,
           0,
           0,
           "USA"
          ],
          [
           20.5,
           6,
           200,
           95,
           3155,
           18.2,
           78,
           "chevrolet malibu",
           1,
           0,
           0,
           "USA"
          ],
          [
           20.2,
           6,
           200,
           85,
           2965,
           15.8,
           78,
           "ford fairmont (auto)",
           1,
           0,
           0,
           "USA"
          ],
          [
           25.1,
           4,
           140,
           88,
           2720,
           15.4,
           78,
           "ford fairmont (man)",
           1,
           0,
           0,
           "USA"
          ],
          [
           20.5,
           6,
           225,
           100,
           3430,
           17.2,
           78,
           "plymouth volare",
           1,
           0,
           0,
           "USA"
          ],
          [
           19.4,
           6,
           232,
           90,
           3210,
           17.2,
           78,
           "amc concord",
           1,
           0,
           0,
           "USA"
          ],
          [
           20.6,
           6,
           231,
           105,
           3380,
           15.8,
           78,
           "buick century special",
           1,
           0,
           0,
           "USA"
          ],
          [
           20.8,
           6,
           200,
           85,
           3070,
           16.7,
           78,
           "mercury zephyr",
           1,
           0,
           0,
           "USA"
          ],
          [
           18.6,
           6,
           225,
           110,
           3620,
           18.7,
           78,
           "dodge aspen",
           1,
           0,
           0,
           "USA"
          ],
          [
           18.1,
           6,
           258,
           120,
           3410,
           15.1,
           78,
           "amc concord d/l",
           1,
           0,
           0,
           "USA"
          ],
          [
           19.2,
           8,
           305,
           145,
           3425,
           13.2,
           78,
           "chevrolet monte carlo landau",
           1,
           0,
           0,
           "USA"
          ],
          [
           17.7,
           6,
           231,
           165,
           3445,
           13.4,
           78,
           "buick regal sport coupe (turbo)",
           1,
           0,
           0,
           "USA"
          ],
          [
           18.1,
           8,
           302,
           139,
           3205,
           11.2,
           78,
           "ford futura",
           1,
           0,
           0,
           "USA"
          ],
          [
           17.5,
           8,
           318,
           140,
           4080,
           13.7,
           78,
           "dodge magnum xe",
           1,
           0,
           0,
           "USA"
          ],
          [
           30,
           4,
           98,
           68,
           2155,
           16.5,
           78,
           "chevrolet chevette",
           1,
           0,
           0,
           "USA"
          ],
          [
           27.5,
           4,
           134,
           95,
           2560,
           14.2,
           78,
           "toyota corona",
           0,
           0,
           1,
           "Japan"
          ],
          [
           27.2,
           4,
           119,
           97,
           2300,
           14.7,
           78,
           "datsun 510",
           0,
           0,
           1,
           "Japan"
          ],
          [
           30.9,
           4,
           105,
           75,
           2230,
           14.5,
           78,
           "dodge omni",
           1,
           0,
           0,
           "USA"
          ],
          [
           21.1,
           4,
           134,
           95,
           2515,
           14.8,
           78,
           "toyota celica gt liftback",
           0,
           0,
           1,
           "Japan"
          ],
          [
           23.2,
           4,
           156,
           105,
           2745,
           16.7,
           78,
           "plymouth sapporo",
           1,
           0,
           0,
           "USA"
          ],
          [
           23.8,
           4,
           151,
           85,
           2855,
           17.6,
           78,
           "oldsmobile starfire sx",
           1,
           0,
           0,
           "USA"
          ],
          [
           23.9,
           4,
           119,
           97,
           2405,
           14.9,
           78,
           "datsun 200-sx",
           0,
           0,
           1,
           "Japan"
          ],
          [
           20.3,
           5,
           131,
           103,
           2830,
           15.9,
           78,
           "audi 5000",
           0,
           1,
           0,
           "Europe"
          ],
          [
           17,
           6,
           163,
           125,
           3140,
           13.6,
           78,
           "volvo 264gl",
           0,
           1,
           0,
           "Europe"
          ],
          [
           21.6,
           4,
           121,
           115,
           2795,
           15.7,
           78,
           "saab 99gle",
           0,
           1,
           0,
           "Europe"
          ],
          [
           16.2,
           6,
           163,
           133,
           3410,
           15.8,
           78,
           "peugeot 604sl",
           0,
           1,
           0,
           "Europe"
          ],
          [
           31.5,
           4,
           89,
           71,
           1990,
           14.9,
           78,
           "volkswagen scirocco",
           0,
           1,
           0,
           "Europe"
          ],
          [
           29.5,
           4,
           98,
           68,
           2135,
           16.6,
           78,
           "honda accord lx",
           0,
           0,
           1,
           "Japan"
          ],
          [
           21.5,
           6,
           231,
           115,
           3245,
           15.4,
           79,
           "pontiac lemans v6",
           1,
           0,
           0,
           "USA"
          ],
          [
           19.8,
           6,
           200,
           85,
           2990,
           18.2,
           79,
           "mercury zephyr 6",
           1,
           0,
           0,
           "USA"
          ],
          [
           22.3,
           4,
           140,
           88,
           2890,
           17.3,
           79,
           "ford fairmont 4",
           1,
           0,
           0,
           "USA"
          ],
          [
           20.2,
           6,
           232,
           90,
           3265,
           18.2,
           79,
           "amc concord dl 6",
           1,
           0,
           0,
           "USA"
          ],
          [
           20.6,
           6,
           225,
           110,
           3360,
           16.6,
           79,
           "dodge aspen 6",
           1,
           0,
           0,
           "USA"
          ],
          [
           17,
           8,
           305,
           130,
           3840,
           15.4,
           79,
           "chevrolet caprice classic",
           1,
           0,
           0,
           "USA"
          ],
          [
           17.6,
           8,
           302,
           129,
           3725,
           13.4,
           79,
           "ford ltd landau",
           1,
           0,
           0,
           "USA"
          ],
          [
           16.5,
           8,
           351,
           138,
           3955,
           13.2,
           79,
           "mercury grand marquis",
           1,
           0,
           0,
           "USA"
          ],
          [
           18.2,
           8,
           318,
           135,
           3830,
           15.2,
           79,
           "dodge st. regis",
           1,
           0,
           0,
           "USA"
          ],
          [
           16.9,
           8,
           350,
           155,
           4360,
           14.9,
           79,
           "buick estate wagon (sw)",
           1,
           0,
           0,
           "USA"
          ],
          [
           15.5,
           8,
           351,
           142,
           4054,
           14.3,
           79,
           "ford country squire (sw)",
           1,
           0,
           0,
           "USA"
          ],
          [
           19.2,
           8,
           267,
           125,
           3605,
           15,
           79,
           "chevrolet malibu classic (sw)",
           1,
           0,
           0,
           "USA"
          ],
          [
           18.5,
           8,
           360,
           150,
           3940,
           13,
           79,
           "chrysler lebaron town @ country (sw)",
           1,
           0,
           0,
           "USA"
          ],
          [
           31.9,
           4,
           89,
           71,
           1925,
           14,
           79,
           "vw rabbit custom",
           0,
           1,
           0,
           "Europe"
          ],
          [
           34.1,
           4,
           86,
           65,
           1975,
           15.2,
           79,
           "maxda glc deluxe",
           0,
           0,
           1,
           "Japan"
          ],
          [
           35.7,
           4,
           98,
           80,
           1915,
           14.4,
           79,
           "dodge colt hatchback custom",
           1,
           0,
           0,
           "USA"
          ],
          [
           27.4,
           4,
           121,
           80,
           2670,
           15,
           79,
           "amc spirit dl",
           1,
           0,
           0,
           "USA"
          ],
          [
           25.4,
           5,
           183,
           77,
           3530,
           20.1,
           79,
           "mercedes benz 300d",
           0,
           1,
           0,
           "Europe"
          ],
          [
           23,
           8,
           350,
           125,
           3900,
           17.4,
           79,
           "cadillac eldorado",
           1,
           0,
           0,
           "USA"
          ],
          [
           27.2,
           4,
           141,
           71,
           3190,
           24.8,
           79,
           "peugeot 504",
           0,
           1,
           0,
           "Europe"
          ],
          [
           23.9,
           8,
           260,
           90,
           3420,
           22.2,
           79,
           "oldsmobile cutlass salon brougham",
           1,
           0,
           0,
           "USA"
          ],
          [
           34.2,
           4,
           105,
           70,
           2200,
           13.2,
           79,
           "plymouth horizon",
           1,
           0,
           0,
           "USA"
          ],
          [
           34.5,
           4,
           105,
           70,
           2150,
           14.9,
           79,
           "plymouth horizon tc3",
           1,
           0,
           0,
           "USA"
          ],
          [
           31.8,
           4,
           85,
           65,
           2020,
           19.2,
           79,
           "datsun 210",
           0,
           0,
           1,
           "Japan"
          ],
          [
           37.3,
           4,
           91,
           69,
           2130,
           14.7,
           79,
           "fiat strada custom",
           0,
           1,
           0,
           "Europe"
          ],
          [
           28.4,
           4,
           151,
           90,
           2670,
           16,
           79,
           "buick skylark limited",
           1,
           0,
           0,
           "USA"
          ],
          [
           28.8,
           6,
           173,
           115,
           2595,
           11.3,
           79,
           "chevrolet citation",
           1,
           0,
           0,
           "USA"
          ],
          [
           26.8,
           6,
           173,
           115,
           2700,
           12.9,
           79,
           "oldsmobile omega brougham",
           1,
           0,
           0,
           "USA"
          ],
          [
           33.5,
           4,
           151,
           90,
           2556,
           13.2,
           79,
           "pontiac phoenix",
           1,
           0,
           0,
           "USA"
          ],
          [
           41.5,
           4,
           98,
           76,
           2144,
           14.7,
           80,
           "vw rabbit",
           0,
           1,
           0,
           "Europe"
          ],
          [
           38.1,
           4,
           89,
           60,
           1968,
           18.8,
           80,
           "toyota corolla tercel",
           0,
           0,
           1,
           "Japan"
          ],
          [
           32.1,
           4,
           98,
           70,
           2120,
           15.5,
           80,
           "chevrolet chevette",
           1,
           0,
           0,
           "USA"
          ],
          [
           37.2,
           4,
           86,
           65,
           2019,
           16.4,
           80,
           "datsun 310",
           0,
           0,
           1,
           "Japan"
          ],
          [
           28,
           4,
           151,
           90,
           2678,
           16.5,
           80,
           "chevrolet citation",
           1,
           0,
           0,
           "USA"
          ],
          [
           26.4,
           4,
           140,
           88,
           2870,
           18.1,
           80,
           "ford fairmont",
           1,
           0,
           0,
           "USA"
          ],
          [
           24.3,
           4,
           151,
           90,
           3003,
           20.1,
           80,
           "amc concord",
           1,
           0,
           0,
           "USA"
          ],
          [
           19.1,
           6,
           225,
           90,
           3381,
           18.7,
           80,
           "dodge aspen",
           1,
           0,
           0,
           "USA"
          ],
          [
           34.3,
           4,
           97,
           78,
           2188,
           15.8,
           80,
           "audi 4000",
           0,
           1,
           0,
           "Europe"
          ],
          [
           29.8,
           4,
           134,
           90,
           2711,
           15.5,
           80,
           "toyota corona liftback",
           0,
           0,
           1,
           "Japan"
          ],
          [
           31.3,
           4,
           120,
           75,
           2542,
           17.5,
           80,
           "mazda 626",
           0,
           0,
           1,
           "Japan"
          ],
          [
           37,
           4,
           119,
           92,
           2434,
           15,
           80,
           "datsun 510 hatchback",
           0,
           0,
           1,
           "Japan"
          ],
          [
           32.2,
           4,
           108,
           75,
           2265,
           15.2,
           80,
           "toyota corolla",
           0,
           0,
           1,
           "Japan"
          ],
          [
           46.6,
           4,
           86,
           65,
           2110,
           17.9,
           80,
           "mazda glc",
           0,
           0,
           1,
           "Japan"
          ],
          [
           27.9,
           4,
           156,
           105,
           2800,
           14.4,
           80,
           "dodge colt",
           1,
           0,
           0,
           "USA"
          ],
          [
           40.8,
           4,
           85,
           65,
           2110,
           19.2,
           80,
           "datsun 210",
           0,
           0,
           1,
           "Japan"
          ],
          [
           44.3,
           4,
           90,
           48,
           2085,
           21.7,
           80,
           "vw rabbit c (diesel)",
           0,
           1,
           0,
           "Europe"
          ],
          [
           43.4,
           4,
           90,
           48,
           2335,
           23.7,
           80,
           "vw dasher (diesel)",
           0,
           1,
           0,
           "Europe"
          ],
          [
           36.4,
           5,
           121,
           67,
           2950,
           19.9,
           80,
           "audi 5000s (diesel)",
           0,
           1,
           0,
           "Europe"
          ],
          [
           30,
           4,
           146,
           67,
           3250,
           21.8,
           80,
           "mercedes-benz 240d",
           0,
           1,
           0,
           "Europe"
          ],
          [
           44.6,
           4,
           91,
           67,
           1850,
           13.8,
           80,
           "honda civic 1500 gl",
           0,
           0,
           1,
           "Japan"
          ],
          [
           40.9,
           4,
           85,
           93.5,
           1835,
           17.3,
           80,
           "renault lecar deluxe",
           0,
           1,
           0,
           "Europe"
          ],
          [
           33.8,
           4,
           97,
           67,
           2145,
           18,
           80,
           "subaru dl",
           0,
           0,
           1,
           "Japan"
          ],
          [
           29.8,
           4,
           89,
           62,
           1845,
           15.3,
           80,
           "vokswagen rabbit",
           0,
           1,
           0,
           "Europe"
          ],
          [
           32.7,
           6,
           168,
           132,
           2910,
           11.4,
           80,
           "datsun 280-zx",
           0,
           0,
           1,
           "Japan"
          ],
          [
           23.7,
           3,
           70,
           100,
           2420,
           12.5,
           80,
           "mazda rx-7 gs",
           0,
           0,
           1,
           "Japan"
          ],
          [
           35,
           4,
           122,
           88,
           2500,
           15.1,
           80,
           "triumph tr7 coupe",
           0,
           1,
           0,
           "Europe"
          ],
          [
           23.6,
           4,
           140,
           93.5,
           2905,
           14.3,
           80,
           "ford mustang cobra",
           1,
           0,
           0,
           "USA"
          ],
          [
           32.4,
           4,
           107,
           72,
           2290,
           17,
           80,
           "honda accord",
           0,
           0,
           1,
           "Japan"
          ],
          [
           27.2,
           4,
           135,
           84,
           2490,
           15.7,
           81,
           "plymouth reliant",
           1,
           0,
           0,
           "USA"
          ],
          [
           26.6,
           4,
           151,
           84,
           2635,
           16.4,
           81,
           "buick skylark",
           1,
           0,
           0,
           "USA"
          ],
          [
           25.8,
           4,
           156,
           92,
           2620,
           14.4,
           81,
           "dodge aries wagon (sw)",
           1,
           0,
           0,
           "USA"
          ],
          [
           23.5,
           6,
           173,
           110,
           2725,
           12.6,
           81,
           "chevrolet citation",
           1,
           0,
           0,
           "USA"
          ],
          [
           30,
           4,
           135,
           84,
           2385,
           12.9,
           81,
           "plymouth reliant",
           1,
           0,
           0,
           "USA"
          ],
          [
           39.1,
           4,
           79,
           58,
           1755,
           16.9,
           81,
           "toyota starlet",
           0,
           0,
           1,
           "Japan"
          ],
          [
           39,
           4,
           86,
           64,
           1875,
           16.4,
           81,
           "plymouth champ",
           1,
           0,
           0,
           "USA"
          ],
          [
           35.1,
           4,
           81,
           60,
           1760,
           16.1,
           81,
           "honda civic 1300",
           0,
           0,
           1,
           "Japan"
          ],
          [
           32.3,
           4,
           97,
           67,
           2065,
           17.8,
           81,
           "subaru",
           0,
           0,
           1,
           "Japan"
          ],
          [
           37,
           4,
           85,
           65,
           1975,
           19.4,
           81,
           "datsun 210 mpg",
           0,
           0,
           1,
           "Japan"
          ],
          [
           37.7,
           4,
           89,
           62,
           2050,
           17.3,
           81,
           "toyota tercel",
           0,
           0,
           1,
           "Japan"
          ],
          [
           34.1,
           4,
           91,
           68,
           1985,
           16,
           81,
           "mazda glc 4",
           0,
           0,
           1,
           "Japan"
          ],
          [
           34.7,
           4,
           105,
           63,
           2215,
           14.9,
           81,
           "plymouth horizon 4",
           1,
           0,
           0,
           "USA"
          ],
          [
           34.4,
           4,
           98,
           65,
           2045,
           16.2,
           81,
           "ford escort 4w",
           1,
           0,
           0,
           "USA"
          ],
          [
           29.9,
           4,
           98,
           65,
           2380,
           20.7,
           81,
           "ford escort 2h",
           1,
           0,
           0,
           "USA"
          ],
          [
           33,
           4,
           105,
           74,
           2190,
           14.2,
           81,
           "volkswagen jetta",
           0,
           1,
           0,
           "Europe"
          ],
          [
           34.5,
           4,
           100,
           93.5,
           2320,
           15.8,
           81,
           "renault 18i",
           0,
           1,
           0,
           "Europe"
          ],
          [
           33.7,
           4,
           107,
           75,
           2210,
           14.4,
           81,
           "honda prelude",
           0,
           0,
           1,
           "Japan"
          ],
          [
           32.4,
           4,
           108,
           75,
           2350,
           16.8,
           81,
           "toyota corolla",
           0,
           0,
           1,
           "Japan"
          ],
          [
           32.9,
           4,
           119,
           100,
           2615,
           14.8,
           81,
           "datsun 200sx",
           0,
           0,
           1,
           "Japan"
          ],
          [
           31.6,
           4,
           120,
           74,
           2635,
           18.3,
           81,
           "mazda 626",
           0,
           0,
           1,
           "Japan"
          ],
          [
           28.1,
           4,
           141,
           80,
           3230,
           20.4,
           81,
           "peugeot 505s turbo diesel",
           0,
           1,
           0,
           "Europe"
          ],
          [
           30.7,
           6,
           145,
           76,
           3160,
           19.6,
           81,
           "volvo diesel",
           0,
           1,
           0,
           "Europe"
          ],
          [
           25.4,
           6,
           168,
           116,
           2900,
           12.6,
           81,
           "toyota cressida",
           0,
           0,
           1,
           "Japan"
          ],
          [
           24.2,
           6,
           146,
           120,
           2930,
           13.8,
           81,
           "datsun 810 maxima",
           0,
           0,
           1,
           "Japan"
          ],
          [
           22.4,
           6,
           231,
           110,
           3415,
           15.8,
           81,
           "buick century",
           1,
           0,
           0,
           "USA"
          ],
          [
           26.6,
           8,
           350,
           105,
           3725,
           19,
           81,
           "oldsmobile cutlass ls",
           1,
           0,
           0,
           "USA"
          ],
          [
           20.2,
           6,
           200,
           88,
           3060,
           17.1,
           81,
           "ford granada gl",
           1,
           0,
           0,
           "USA"
          ],
          [
           17.6,
           6,
           225,
           85,
           3465,
           16.6,
           81,
           "chrysler lebaron salon",
           1,
           0,
           0,
           "USA"
          ],
          [
           28,
           4,
           112,
           88,
           2605,
           19.6,
           82,
           "chevrolet cavalier",
           1,
           0,
           0,
           "USA"
          ],
          [
           27,
           4,
           112,
           88,
           2640,
           18.6,
           82,
           "chevrolet cavalier wagon",
           1,
           0,
           0,
           "USA"
          ],
          [
           34,
           4,
           112,
           88,
           2395,
           18,
           82,
           "chevrolet cavalier 2-door",
           1,
           0,
           0,
           "USA"
          ],
          [
           31,
           4,
           112,
           85,
           2575,
           16.2,
           82,
           "pontiac j2000 se hatchback",
           1,
           0,
           0,
           "USA"
          ],
          [
           29,
           4,
           135,
           84,
           2525,
           16,
           82,
           "dodge aries se",
           1,
           0,
           0,
           "USA"
          ],
          [
           27,
           4,
           151,
           90,
           2735,
           18,
           82,
           "pontiac phoenix",
           1,
           0,
           0,
           "USA"
          ],
          [
           24,
           4,
           140,
           92,
           2865,
           16.4,
           82,
           "ford fairmont futura",
           1,
           0,
           0,
           "USA"
          ],
          [
           23,
           4,
           151,
           93.5,
           3035,
           20.5,
           82,
           "amc concord dl",
           1,
           0,
           0,
           "USA"
          ],
          [
           36,
           4,
           105,
           74,
           1980,
           15.3,
           82,
           "volkswagen rabbit l",
           0,
           1,
           0,
           "Europe"
          ],
          [
           37,
           4,
           91,
           68,
           2025,
           18.2,
           82,
           "mazda glc custom l",
           0,
           0,
           1,
           "Japan"
          ],
          [
           31,
           4,
           91,
           68,
           1970,
           17.6,
           82,
           "mazda glc custom",
           0,
           0,
           1,
           "Japan"
          ],
          [
           38,
           4,
           105,
           63,
           2125,
           14.7,
           82,
           "plymouth horizon miser",
           1,
           0,
           0,
           "USA"
          ],
          [
           36,
           4,
           98,
           70,
           2125,
           17.3,
           82,
           "mercury lynx l",
           1,
           0,
           0,
           "USA"
          ],
          [
           36,
           4,
           120,
           88,
           2160,
           14.5,
           82,
           "nissan stanza xe",
           0,
           0,
           1,
           "Japan"
          ],
          [
           36,
           4,
           107,
           75,
           2205,
           14.5,
           82,
           "honda accord",
           0,
           0,
           1,
           "Japan"
          ],
          [
           34,
           4,
           108,
           70,
           2245,
           16.9,
           82,
           "toyota corolla",
           0,
           0,
           1,
           "Japan"
          ],
          [
           38,
           4,
           91,
           67,
           1965,
           15,
           82,
           "honda civic",
           0,
           0,
           1,
           "Japan"
          ],
          [
           32,
           4,
           91,
           67,
           1965,
           15.7,
           82,
           "honda civic (auto)",
           0,
           0,
           1,
           "Japan"
          ],
          [
           38,
           4,
           91,
           67,
           1995,
           16.2,
           82,
           "datsun 310 gx",
           0,
           0,
           1,
           "Japan"
          ],
          [
           25,
           6,
           181,
           110,
           2945,
           16.4,
           82,
           "buick century limited",
           1,
           0,
           0,
           "USA"
          ],
          [
           38,
           6,
           262,
           85,
           3015,
           17,
           82,
           "oldsmobile cutlass ciera (diesel)",
           1,
           0,
           0,
           "USA"
          ],
          [
           26,
           4,
           156,
           92,
           2585,
           14.5,
           82,
           "chrysler lebaron medallion",
           1,
           0,
           0,
           "USA"
          ],
          [
           22,
           6,
           232,
           112,
           2835,
           14.7,
           82,
           "ford granada l",
           1,
           0,
           0,
           "USA"
          ],
          [
           32,
           4,
           144,
           96,
           2665,
           13.9,
           82,
           "toyota celica gt",
           0,
           0,
           1,
           "Japan"
          ],
          [
           36,
           4,
           135,
           84,
           2370,
           13,
           82,
           "dodge charger 2.2",
           1,
           0,
           0,
           "USA"
          ],
          [
           27,
           4,
           151,
           90,
           2950,
           17.3,
           82,
           "chevrolet camaro",
           1,
           0,
           0,
           "USA"
          ],
          [
           27,
           4,
           140,
           86,
           2790,
           15.6,
           82,
           "ford mustang gl",
           1,
           0,
           0,
           "USA"
          ],
          [
           44,
           4,
           97,
           52,
           2130,
           24.6,
           82,
           "vw pickup",
           0,
           1,
           0,
           "Europe"
          ],
          [
           32,
           4,
           135,
           84,
           2295,
           11.6,
           82,
           "dodge rampage",
           1,
           0,
           0,
           "USA"
          ],
          [
           28,
           4,
           120,
           79,
           2625,
           18.6,
           82,
           "ford ranger",
           1,
           0,
           0,
           "USA"
          ],
          [
           31,
           4,
           119,
           82,
           2720,
           19.4,
           82,
           "chevy s-10",
           1,
           0,
           0,
           "USA"
          ]
         ]
        }
       ],
       "layout": {
        "template": {
         "data": {
          "bar": [
           {
            "error_x": {
             "color": "#2a3f5f"
            },
            "error_y": {
             "color": "#2a3f5f"
            },
            "marker": {
             "line": {
              "color": "#E5ECF6",
              "width": 0.5
             }
            },
            "type": "bar"
           }
          ],
          "barpolar": [
           {
            "marker": {
             "line": {
              "color": "#E5ECF6",
              "width": 0.5
             }
            },
            "type": "barpolar"
           }
          ],
          "carpet": [
           {
            "aaxis": {
             "endlinecolor": "#2a3f5f",
             "gridcolor": "white",
             "linecolor": "white",
             "minorgridcolor": "white",
             "startlinecolor": "#2a3f5f"
            },
            "baxis": {
             "endlinecolor": "#2a3f5f",
             "gridcolor": "white",
             "linecolor": "white",
             "minorgridcolor": "white",
             "startlinecolor": "#2a3f5f"
            },
            "type": "carpet"
           }
          ],
          "choropleth": [
           {
            "colorbar": {
             "outlinewidth": 0,
             "ticks": ""
            },
            "type": "choropleth"
           }
          ],
          "contour": [
           {
            "colorbar": {
             "outlinewidth": 0,
             "ticks": ""
            },
            "colorscale": [
             [
              0,
              "#0d0887"
             ],
             [
              0.1111111111111111,
              "#46039f"
             ],
             [
              0.2222222222222222,
              "#7201a8"
             ],
             [
              0.3333333333333333,
              "#9c179e"
             ],
             [
              0.4444444444444444,
              "#bd3786"
             ],
             [
              0.5555555555555556,
              "#d8576b"
             ],
             [
              0.6666666666666666,
              "#ed7953"
             ],
             [
              0.7777777777777778,
              "#fb9f3a"
             ],
             [
              0.8888888888888888,
              "#fdca26"
             ],
             [
              1,
              "#f0f921"
             ]
            ],
            "type": "contour"
           }
          ],
          "contourcarpet": [
           {
            "colorbar": {
             "outlinewidth": 0,
             "ticks": ""
            },
            "type": "contourcarpet"
           }
          ],
          "heatmap": [
           {
            "colorbar": {
             "outlinewidth": 0,
             "ticks": ""
            },
            "colorscale": [
             [
              0,
              "#0d0887"
             ],
             [
              0.1111111111111111,
              "#46039f"
             ],
             [
              0.2222222222222222,
              "#7201a8"
             ],
             [
              0.3333333333333333,
              "#9c179e"
             ],
             [
              0.4444444444444444,
              "#bd3786"
             ],
             [
              0.5555555555555556,
              "#d8576b"
             ],
             [
              0.6666666666666666,
              "#ed7953"
             ],
             [
              0.7777777777777778,
              "#fb9f3a"
             ],
             [
              0.8888888888888888,
              "#fdca26"
             ],
             [
              1,
              "#f0f921"
             ]
            ],
            "type": "heatmap"
           }
          ],
          "heatmapgl": [
           {
            "colorbar": {
             "outlinewidth": 0,
             "ticks": ""
            },
            "colorscale": [
             [
              0,
              "#0d0887"
             ],
             [
              0.1111111111111111,
              "#46039f"
             ],
             [
              0.2222222222222222,
              "#7201a8"
             ],
             [
              0.3333333333333333,
              "#9c179e"
             ],
             [
              0.4444444444444444,
              "#bd3786"
             ],
             [
              0.5555555555555556,
              "#d8576b"
             ],
             [
              0.6666666666666666,
              "#ed7953"
             ],
             [
              0.7777777777777778,
              "#fb9f3a"
             ],
             [
              0.8888888888888888,
              "#fdca26"
             ],
             [
              1,
              "#f0f921"
             ]
            ],
            "type": "heatmapgl"
           }
          ],
          "histogram": [
           {
            "marker": {
             "colorbar": {
              "outlinewidth": 0,
              "ticks": ""
             }
            },
            "type": "histogram"
           }
          ],
          "histogram2d": [
           {
            "colorbar": {
             "outlinewidth": 0,
             "ticks": ""
            },
            "colorscale": [
             [
              0,
              "#0d0887"
             ],
             [
              0.1111111111111111,
              "#46039f"
             ],
             [
              0.2222222222222222,
              "#7201a8"
             ],
             [
              0.3333333333333333,
              "#9c179e"
             ],
             [
              0.4444444444444444,
              "#bd3786"
             ],
             [
              0.5555555555555556,
              "#d8576b"
             ],
             [
              0.6666666666666666,
              "#ed7953"
             ],
             [
              0.7777777777777778,
              "#fb9f3a"
             ],
             [
              0.8888888888888888,
              "#fdca26"
             ],
             [
              1,
              "#f0f921"
             ]
            ],
            "type": "histogram2d"
           }
          ],
          "histogram2dcontour": [
           {
            "colorbar": {
             "outlinewidth": 0,
             "ticks": ""
            },
            "colorscale": [
             [
              0,
              "#0d0887"
             ],
             [
              0.1111111111111111,
              "#46039f"
             ],
             [
              0.2222222222222222,
              "#7201a8"
             ],
             [
              0.3333333333333333,
              "#9c179e"
             ],
             [
              0.4444444444444444,
              "#bd3786"
             ],
             [
              0.5555555555555556,
              "#d8576b"
             ],
             [
              0.6666666666666666,
              "#ed7953"
             ],
             [
              0.7777777777777778,
              "#fb9f3a"
             ],
             [
              0.8888888888888888,
              "#fdca26"
             ],
             [
              1,
              "#f0f921"
             ]
            ],
            "type": "histogram2dcontour"
           }
          ],
          "mesh3d": [
           {
            "colorbar": {
             "outlinewidth": 0,
             "ticks": ""
            },
            "type": "mesh3d"
           }
          ],
          "parcoords": [
           {
            "line": {
             "colorbar": {
              "outlinewidth": 0,
              "ticks": ""
             }
            },
            "type": "parcoords"
           }
          ],
          "pie": [
           {
            "automargin": true,
            "type": "pie"
           }
          ],
          "scatter": [
           {
            "marker": {
             "colorbar": {
              "outlinewidth": 0,
              "ticks": ""
             }
            },
            "type": "scatter"
           }
          ],
          "scatter3d": [
           {
            "line": {
             "colorbar": {
              "outlinewidth": 0,
              "ticks": ""
             }
            },
            "marker": {
             "colorbar": {
              "outlinewidth": 0,
              "ticks": ""
             }
            },
            "type": "scatter3d"
           }
          ],
          "scattercarpet": [
           {
            "marker": {
             "colorbar": {
              "outlinewidth": 0,
              "ticks": ""
             }
            },
            "type": "scattercarpet"
           }
          ],
          "scattergeo": [
           {
            "marker": {
             "colorbar": {
              "outlinewidth": 0,
              "ticks": ""
             }
            },
            "type": "scattergeo"
           }
          ],
          "scattergl": [
           {
            "marker": {
             "colorbar": {
              "outlinewidth": 0,
              "ticks": ""
             }
            },
            "type": "scattergl"
           }
          ],
          "scattermapbox": [
           {
            "marker": {
             "colorbar": {
              "outlinewidth": 0,
              "ticks": ""
             }
            },
            "type": "scattermapbox"
           }
          ],
          "scatterpolar": [
           {
            "marker": {
             "colorbar": {
              "outlinewidth": 0,
              "ticks": ""
             }
            },
            "type": "scatterpolar"
           }
          ],
          "scatterpolargl": [
           {
            "marker": {
             "colorbar": {
              "outlinewidth": 0,
              "ticks": ""
             }
            },
            "type": "scatterpolargl"
           }
          ],
          "scatterternary": [
           {
            "marker": {
             "colorbar": {
              "outlinewidth": 0,
              "ticks": ""
             }
            },
            "type": "scatterternary"
           }
          ],
          "surface": [
           {
            "colorbar": {
             "outlinewidth": 0,
             "ticks": ""
            },
            "colorscale": [
             [
              0,
              "#0d0887"
             ],
             [
              0.1111111111111111,
              "#46039f"
             ],
             [
              0.2222222222222222,
              "#7201a8"
             ],
             [
              0.3333333333333333,
              "#9c179e"
             ],
             [
              0.4444444444444444,
              "#bd3786"
             ],
             [
              0.5555555555555556,
              "#d8576b"
             ],
             [
              0.6666666666666666,
              "#ed7953"
             ],
             [
              0.7777777777777778,
              "#fb9f3a"
             ],
             [
              0.8888888888888888,
              "#fdca26"
             ],
             [
              1,
              "#f0f921"
             ]
            ],
            "type": "surface"
           }
          ],
          "table": [
           {
            "cells": {
             "fill": {
              "color": "#EBF0F8"
             },
             "line": {
              "color": "white"
             }
            },
            "header": {
             "fill": {
              "color": "#C8D4E3"
             },
             "line": {
              "color": "white"
             }
            },
            "type": "table"
           }
          ]
         },
         "layout": {
          "annotationdefaults": {
           "arrowcolor": "#2a3f5f",
           "arrowhead": 0,
           "arrowwidth": 1
          },
          "coloraxis": {
           "colorbar": {
            "outlinewidth": 0,
            "ticks": ""
           }
          },
          "colorscale": {
           "diverging": [
            [
             0,
             "#8e0152"
            ],
            [
             0.1,
             "#c51b7d"
            ],
            [
             0.2,
             "#de77ae"
            ],
            [
             0.3,
             "#f1b6da"
            ],
            [
             0.4,
             "#fde0ef"
            ],
            [
             0.5,
             "#f7f7f7"
            ],
            [
             0.6,
             "#e6f5d0"
            ],
            [
             0.7,
             "#b8e186"
            ],
            [
             0.8,
             "#7fbc41"
            ],
            [
             0.9,
             "#4d9221"
            ],
            [
             1,
             "#276419"
            ]
           ],
           "sequential": [
            [
             0,
             "#0d0887"
            ],
            [
             0.1111111111111111,
             "#46039f"
            ],
            [
             0.2222222222222222,
             "#7201a8"
            ],
            [
             0.3333333333333333,
             "#9c179e"
            ],
            [
             0.4444444444444444,
             "#bd3786"
            ],
            [
             0.5555555555555556,
             "#d8576b"
            ],
            [
             0.6666666666666666,
             "#ed7953"
            ],
            [
             0.7777777777777778,
             "#fb9f3a"
            ],
            [
             0.8888888888888888,
             "#fdca26"
            ],
            [
             1,
             "#f0f921"
            ]
           ],
           "sequentialminus": [
            [
             0,
             "#0d0887"
            ],
            [
             0.1111111111111111,
             "#46039f"
            ],
            [
             0.2222222222222222,
             "#7201a8"
            ],
            [
             0.3333333333333333,
             "#9c179e"
            ],
            [
             0.4444444444444444,
             "#bd3786"
            ],
            [
             0.5555555555555556,
             "#d8576b"
            ],
            [
             0.6666666666666666,
             "#ed7953"
            ],
            [
             0.7777777777777778,
             "#fb9f3a"
            ],
            [
             0.8888888888888888,
             "#fdca26"
            ],
            [
             1,
             "#f0f921"
            ]
           ]
          },
          "colorway": [
           "#636efa",
           "#EF553B",
           "#00cc96",
           "#ab63fa",
           "#FFA15A",
           "#19d3f3",
           "#FF6692",
           "#B6E880",
           "#FF97FF",
           "#FECB52"
          ],
          "font": {
           "color": "#2a3f5f"
          },
          "geo": {
           "bgcolor": "white",
           "lakecolor": "white",
           "landcolor": "#E5ECF6",
           "showlakes": true,
           "showland": true,
           "subunitcolor": "white"
          },
          "hoverlabel": {
           "align": "left"
          },
          "hovermode": "closest",
          "mapbox": {
           "style": "light"
          },
          "paper_bgcolor": "white",
          "plot_bgcolor": "#E5ECF6",
          "polar": {
           "angularaxis": {
            "gridcolor": "white",
            "linecolor": "white",
            "ticks": ""
           },
           "bgcolor": "#E5ECF6",
           "radialaxis": {
            "gridcolor": "white",
            "linecolor": "white",
            "ticks": ""
           }
          },
          "scene": {
           "xaxis": {
            "backgroundcolor": "#E5ECF6",
            "gridcolor": "white",
            "gridwidth": 2,
            "linecolor": "white",
            "showbackground": true,
            "ticks": "",
            "zerolinecolor": "white"
           },
           "yaxis": {
            "backgroundcolor": "#E5ECF6",
            "gridcolor": "white",
            "gridwidth": 2,
            "linecolor": "white",
            "showbackground": true,
            "ticks": "",
            "zerolinecolor": "white"
           },
           "zaxis": {
            "backgroundcolor": "#E5ECF6",
            "gridcolor": "white",
            "gridwidth": 2,
            "linecolor": "white",
            "showbackground": true,
            "ticks": "",
            "zerolinecolor": "white"
           }
          },
          "shapedefaults": {
           "line": {
            "color": "#2a3f5f"
           }
          },
          "ternary": {
           "aaxis": {
            "gridcolor": "white",
            "linecolor": "white",
            "ticks": ""
           },
           "baxis": {
            "gridcolor": "white",
            "linecolor": "white",
            "ticks": ""
           },
           "bgcolor": "#E5ECF6",
           "caxis": {
            "gridcolor": "white",
            "linecolor": "white",
            "ticks": ""
           }
          },
          "title": {
           "x": 0.05
          },
          "xaxis": {
           "automargin": true,
           "gridcolor": "white",
           "linecolor": "white",
           "ticks": "",
           "title": {
            "standoff": 15
           },
           "zerolinecolor": "white",
           "zerolinewidth": 2
          },
          "yaxis": {
           "automargin": true,
           "gridcolor": "white",
           "linecolor": "white",
           "ticks": "",
           "title": {
            "standoff": 15
           },
           "zerolinecolor": "white",
           "zerolinewidth": 2
          }
         }
        },
        "title": {
         "text": "Training Data :: Car Distribution"
        }
       }
      },
      "text/html": [
       "<div>\n",
       "        \n",
       "        \n",
       "            <div id=\"37798749-8bb2-4d97-aab0-6677bd100f88\" class=\"plotly-graph-div\" style=\"height:525px; width:100%;\"></div>\n",
       "            <script type=\"text/javascript\">\n",
       "                require([\"plotly\"], function(Plotly) {\n",
       "                    window.PLOTLYENV=window.PLOTLYENV || {};\n",
       "                    \n",
       "                if (document.getElementById(\"37798749-8bb2-4d97-aab0-6677bd100f88\")) {\n",
       "                    Plotly.newPlot(\n",
       "                        '37798749-8bb2-4d97-aab0-6677bd100f88',\n",
       "                        [{\"labels\": [0, 1, 2, 3, 4, 5, 6, 7, 8, 9, 10, 11, 12, 13, 14, 15, 16, 17, 18, 19, 20, 21, 22, 23, 24, 25, 26, 27, 28, 29, 30, 31, 32, 33, 34, 35, 36, 37, 38, 39, 40, 41, 42, 43, 44, 45, 46, 47, 48, 49, 50, 51, 52, 53, 54, 55, 56, 57, 58, 59, 60, 61, 62, 63, 64, 65, 66, 67, 68, 69, 70, 71, 72, 73, 74, 75, 76, 77, 78, 79, 80, 81, 82, 83, 84, 85, 86, 87, 88, 89, 90, 91, 92, 93, 94, 95, 96, 97, 98, 99, 100, 101, 102, 103, 104, 105, 106, 107, 108, 109, 110, 111, 112, 113, 114, 115, 116, 117, 118, 119, 120, 121, 122, 123, 124, 125, 126, 127, 128, 129, 130, 131, 132, 133, 134, 135, 136, 137, 138, 139, 140, 141, 142, 143, 144, 145, 146, 147, 148, 149, 150, 151, 152, 153, 154, 155, 156, 157, 158, 159, 160, 161, 162, 163, 164, 165, 166, 167, 168, 169, 170, 171, 172, 173, 174, 175, 176, 177, 178, 179, 180, 181, 182, 183, 184, 185, 186, 187, 188, 189, 190, 191, 192, 193, 194, 195, 196, 197, 198, 199, 200, 201, 202, 203, 204, 205, 206, 207, 208, 209, 210, 211, 212, 213, 214, 215, 216, 217, 218, 219, 220, 221, 222, 223, 224, 225, 226, 227, 228, 229, 230, 231, 232, 233, 234, 235, 236, 237, 238, 239, 240, 241, 242, 243, 244, 245, 246, 247, 248, 249, 250, 251, 252, 253, 254, 255, 256, 257, 258, 259, 260, 261, 262, 263, 264, 265, 266, 267, 268, 269, 270, 271, 272, 273, 274, 275, 276, 277, 278, 279, 280, 281, 282, 283, 284, 285, 286, 287, 288, 289, 290, 291, 292, 293, 294, 295, 296, 297, 298, 299, 300, 301, 302, 303, 304, 305, 306, 307, 308, 309, 310, 311, 312, 313, 314, 315, 316, 317, 318, 319, 320, 321, 322, 323, 324, 325, 326, 327, 328, 329, 330, 331, 332, 333, 334, 335, 336, 337, 338, 339, 340, 341, 342, 343, 344, 345, 346, 347, 348, 349, 350, 351, 352, 353, 354, 355, 356, 357, 358, 359, 360, 361, 362, 363, 364, 365, 366, 367, 368, 369, 370, 371, 372, 373, 374, 375, 376, 377, 378, 379, 380, 381, 382, 383, 384, 385, 386, 387, 388, 389, 390, 391, 392, 393, 394, 395, 396, 397], \"marker\": {\"colors\": [\"aqua\", \"pink\", \"teal\"]}, \"type\": \"pie\", \"values\": [[18.0, 8, 307.0, 130.0, 3504, 12.0, 70, \"chevrolet chevelle malibu\", 1.0, 0.0, 0.0, \"USA\"], [15.0, 8, 350.0, 165.0, 3693, 11.5, 70, \"buick skylark 320\", 1.0, 0.0, 0.0, \"USA\"], [18.0, 8, 318.0, 150.0, 3436, 11.0, 70, \"plymouth satellite\", 1.0, 0.0, 0.0, \"USA\"], [16.0, 8, 304.0, 150.0, 3433, 12.0, 70, \"amc rebel sst\", 1.0, 0.0, 0.0, \"USA\"], [17.0, 8, 302.0, 140.0, 3449, 10.5, 70, \"ford torino\", 1.0, 0.0, 0.0, \"USA\"], [15.0, 8, 429.0, 198.0, 4341, 10.0, 70, \"ford galaxie 500\", 1.0, 0.0, 0.0, \"USA\"], [14.0, 8, 454.0, 220.0, 4354, 9.0, 70, \"chevrolet impala\", 1.0, 0.0, 0.0, \"USA\"], [14.0, 8, 440.0, 215.0, 4312, 8.5, 70, \"plymouth fury iii\", 1.0, 0.0, 0.0, \"USA\"], [14.0, 8, 455.0, 225.0, 4425, 10.0, 70, \"pontiac catalina\", 1.0, 0.0, 0.0, \"USA\"], [15.0, 8, 390.0, 190.0, 3850, 8.5, 70, \"amc ambassador dpl\", 1.0, 0.0, 0.0, \"USA\"], [15.0, 8, 383.0, 170.0, 3563, 10.0, 70, \"dodge challenger se\", 1.0, 0.0, 0.0, \"USA\"], [14.0, 8, 340.0, 160.0, 3609, 8.0, 70, \"plymouth 'cuda 340\", 1.0, 0.0, 0.0, \"USA\"], [15.0, 8, 400.0, 150.0, 3761, 9.5, 70, \"chevrolet monte carlo\", 1.0, 0.0, 0.0, \"USA\"], [14.0, 8, 455.0, 225.0, 3086, 10.0, 70, \"buick estate wagon (sw)\", 1.0, 0.0, 0.0, \"USA\"], [24.0, 4, 113.0, 95.0, 2372, 15.0, 70, \"toyota corona mark ii\", 0.0, 0.0, 1.0, \"Japan\"], [22.0, 6, 198.0, 95.0, 2833, 15.5, 70, \"plymouth duster\", 1.0, 0.0, 0.0, \"USA\"], [18.0, 6, 199.0, 97.0, 2774, 15.5, 70, \"amc hornet\", 1.0, 0.0, 0.0, \"USA\"], [21.0, 6, 200.0, 85.0, 2587, 16.0, 70, \"ford maverick\", 1.0, 0.0, 0.0, \"USA\"], [27.0, 4, 97.0, 88.0, 2130, 14.5, 70, \"datsun pl510\", 0.0, 0.0, 1.0, \"Japan\"], [26.0, 4, 97.0, 46.0, 1835, 20.5, 70, \"volkswagen 1131 deluxe sedan\", 0.0, 1.0, 0.0, \"Europe\"], [25.0, 4, 110.0, 87.0, 2672, 17.5, 70, \"peugeot 504\", 0.0, 1.0, 0.0, \"Europe\"], [24.0, 4, 107.0, 90.0, 2430, 14.5, 70, \"audi 100 ls\", 0.0, 1.0, 0.0, \"Europe\"], [25.0, 4, 104.0, 95.0, 2375, 17.5, 70, \"saab 99e\", 0.0, 1.0, 0.0, \"Europe\"], [26.0, 4, 121.0, 113.0, 2234, 12.5, 70, \"bmw 2002\", 0.0, 1.0, 0.0, \"Europe\"], [21.0, 6, 199.0, 90.0, 2648, 15.0, 70, \"amc gremlin\", 1.0, 0.0, 0.0, \"USA\"], [10.0, 8, 360.0, 215.0, 4615, 14.0, 70, \"ford f250\", 1.0, 0.0, 0.0, \"USA\"], [10.0, 8, 307.0, 200.0, 4376, 15.0, 70, \"chevy c20\", 1.0, 0.0, 0.0, \"USA\"], [11.0, 8, 318.0, 210.0, 4382, 13.5, 70, \"dodge d200\", 1.0, 0.0, 0.0, \"USA\"], [9.0, 8, 304.0, 193.0, 4732, 18.5, 70, \"hi 1200d\", 1.0, 0.0, 0.0, \"USA\"], [27.0, 4, 97.0, 88.0, 2130, 14.5, 71, \"datsun pl510\", 0.0, 0.0, 1.0, \"Japan\"], [28.0, 4, 140.0, 90.0, 2264, 15.5, 71, \"chevrolet vega 2300\", 1.0, 0.0, 0.0, \"USA\"], [25.0, 4, 113.0, 95.0, 2228, 14.0, 71, \"toyota corona\", 0.0, 0.0, 1.0, \"Japan\"], [25.0, 4, 98.0, 93.5, 2046, 19.0, 71, \"ford pinto\", 1.0, 0.0, 0.0, \"USA\"], [19.0, 6, 232.0, 100.0, 2634, 13.0, 71, \"amc gremlin\", 1.0, 0.0, 0.0, \"USA\"], [16.0, 6, 225.0, 105.0, 3439, 15.5, 71, \"plymouth satellite custom\", 1.0, 0.0, 0.0, \"USA\"], [17.0, 6, 250.0, 100.0, 3329, 15.5, 71, \"chevrolet chevelle malibu\", 1.0, 0.0, 0.0, \"USA\"], [19.0, 6, 250.0, 88.0, 3302, 15.5, 71, \"ford torino 500\", 1.0, 0.0, 0.0, \"USA\"], [18.0, 6, 232.0, 100.0, 3288, 15.5, 71, \"amc matador\", 1.0, 0.0, 0.0, \"USA\"], [14.0, 8, 350.0, 165.0, 4209, 12.0, 71, \"chevrolet impala\", 1.0, 0.0, 0.0, \"USA\"], [14.0, 8, 400.0, 175.0, 4464, 11.5, 71, \"pontiac catalina brougham\", 1.0, 0.0, 0.0, \"USA\"], [14.0, 8, 351.0, 153.0, 4154, 13.5, 71, \"ford galaxie 500\", 1.0, 0.0, 0.0, \"USA\"], [14.0, 8, 318.0, 150.0, 4096, 13.0, 71, \"plymouth fury iii\", 1.0, 0.0, 0.0, \"USA\"], [12.0, 8, 383.0, 180.0, 4955, 11.5, 71, \"dodge monaco (sw)\", 1.0, 0.0, 0.0, \"USA\"], [13.0, 8, 400.0, 170.0, 4746, 12.0, 71, \"ford country squire (sw)\", 1.0, 0.0, 0.0, \"USA\"], [13.0, 8, 400.0, 175.0, 5140, 12.0, 71, \"pontiac safari (sw)\", 1.0, 0.0, 0.0, \"USA\"], [18.0, 6, 258.0, 110.0, 2962, 13.5, 71, \"amc hornet sportabout (sw)\", 1.0, 0.0, 0.0, \"USA\"], [22.0, 4, 140.0, 72.0, 2408, 19.0, 71, \"chevrolet vega (sw)\", 1.0, 0.0, 0.0, \"USA\"], [19.0, 6, 250.0, 100.0, 3282, 15.0, 71, \"pontiac firebird\", 1.0, 0.0, 0.0, \"USA\"], [18.0, 6, 250.0, 88.0, 3139, 14.5, 71, \"ford mustang\", 1.0, 0.0, 0.0, \"USA\"], [23.0, 4, 122.0, 86.0, 2220, 14.0, 71, \"mercury capri 2000\", 1.0, 0.0, 0.0, \"USA\"], [28.0, 4, 116.0, 90.0, 2123, 14.0, 71, \"opel 1900\", 0.0, 1.0, 0.0, \"Europe\"], [30.0, 4, 79.0, 70.0, 2074, 19.5, 71, \"peugeot 304\", 0.0, 1.0, 0.0, \"Europe\"], [30.0, 4, 88.0, 76.0, 2065, 14.5, 71, \"fiat 124b\", 0.0, 1.0, 0.0, \"Europe\"], [31.0, 4, 71.0, 65.0, 1773, 19.0, 71, \"toyota corolla 1200\", 0.0, 0.0, 1.0, \"Japan\"], [35.0, 4, 72.0, 69.0, 1613, 18.0, 71, \"datsun 1200\", 0.0, 0.0, 1.0, \"Japan\"], [27.0, 4, 97.0, 60.0, 1834, 19.0, 71, \"volkswagen model 111\", 0.0, 1.0, 0.0, \"Europe\"], [26.0, 4, 91.0, 70.0, 1955, 20.5, 71, \"plymouth cricket\", 1.0, 0.0, 0.0, \"USA\"], [24.0, 4, 113.0, 95.0, 2278, 15.5, 72, \"toyota corona hardtop\", 0.0, 0.0, 1.0, \"Japan\"], [25.0, 4, 97.5, 80.0, 2126, 17.0, 72, \"dodge colt hardtop\", 1.0, 0.0, 0.0, \"USA\"], [23.0, 4, 97.0, 54.0, 2254, 23.5, 72, \"volkswagen type 3\", 0.0, 1.0, 0.0, \"Europe\"], [20.0, 4, 140.0, 90.0, 2408, 19.5, 72, \"chevrolet vega\", 1.0, 0.0, 0.0, \"USA\"], [21.0, 4, 122.0, 86.0, 2226, 16.5, 72, \"ford pinto runabout\", 1.0, 0.0, 0.0, \"USA\"], [13.0, 8, 350.0, 165.0, 4274, 12.0, 72, \"chevrolet impala\", 1.0, 0.0, 0.0, \"USA\"], [14.0, 8, 400.0, 175.0, 4385, 12.0, 72, \"pontiac catalina\", 1.0, 0.0, 0.0, \"USA\"], [15.0, 8, 318.0, 150.0, 4135, 13.5, 72, \"plymouth fury iii\", 1.0, 0.0, 0.0, \"USA\"], [14.0, 8, 351.0, 153.0, 4129, 13.0, 72, \"ford galaxie 500\", 1.0, 0.0, 0.0, \"USA\"], [17.0, 8, 304.0, 150.0, 3672, 11.5, 72, \"amc ambassador sst\", 1.0, 0.0, 0.0, \"USA\"], [11.0, 8, 429.0, 208.0, 4633, 11.0, 72, \"mercury marquis\", 1.0, 0.0, 0.0, \"USA\"], [13.0, 8, 350.0, 155.0, 4502, 13.5, 72, \"buick lesabre custom\", 1.0, 0.0, 0.0, \"USA\"], [12.0, 8, 350.0, 160.0, 4456, 13.5, 72, \"oldsmobile delta 88 royale\", 1.0, 0.0, 0.0, \"USA\"], [13.0, 8, 400.0, 190.0, 4422, 12.5, 72, \"chrysler newport royal\", 1.0, 0.0, 0.0, \"USA\"], [19.0, 3, 70.0, 97.0, 2330, 13.5, 72, \"mazda rx2 coupe\", 0.0, 0.0, 1.0, \"Japan\"], [15.0, 8, 304.0, 150.0, 3892, 12.5, 72, \"amc matador (sw)\", 1.0, 0.0, 0.0, \"USA\"], [13.0, 8, 307.0, 130.0, 4098, 14.0, 72, \"chevrolet chevelle concours (sw)\", 1.0, 0.0, 0.0, \"USA\"], [13.0, 8, 302.0, 140.0, 4294, 16.0, 72, \"ford gran torino (sw)\", 1.0, 0.0, 0.0, \"USA\"], [14.0, 8, 318.0, 150.0, 4077, 14.0, 72, \"plymouth satellite custom (sw)\", 1.0, 0.0, 0.0, \"USA\"], [18.0, 4, 121.0, 112.0, 2933, 14.5, 72, \"volvo 145e (sw)\", 0.0, 1.0, 0.0, \"Europe\"], [22.0, 4, 121.0, 76.0, 2511, 18.0, 72, \"volkswagen 411 (sw)\", 0.0, 1.0, 0.0, \"Europe\"], [21.0, 4, 120.0, 87.0, 2979, 19.5, 72, \"peugeot 504 (sw)\", 0.0, 1.0, 0.0, \"Europe\"], [26.0, 4, 96.0, 69.0, 2189, 18.0, 72, \"renault 12 (sw)\", 0.0, 1.0, 0.0, \"Europe\"], [22.0, 4, 122.0, 86.0, 2395, 16.0, 72, \"ford pinto (sw)\", 1.0, 0.0, 0.0, \"USA\"], [28.0, 4, 97.0, 92.0, 2288, 17.0, 72, \"datsun 510 (sw)\", 0.0, 0.0, 1.0, \"Japan\"], [23.0, 4, 120.0, 97.0, 2506, 14.5, 72, \"toyouta corona mark ii (sw)\", 0.0, 0.0, 1.0, \"Japan\"], [28.0, 4, 98.0, 80.0, 2164, 15.0, 72, \"dodge colt (sw)\", 1.0, 0.0, 0.0, \"USA\"], [27.0, 4, 97.0, 88.0, 2100, 16.5, 72, \"toyota corolla 1600 (sw)\", 0.0, 0.0, 1.0, \"Japan\"], [13.0, 8, 350.0, 175.0, 4100, 13.0, 73, \"buick century 350\", 1.0, 0.0, 0.0, \"USA\"], [14.0, 8, 304.0, 150.0, 3672, 11.5, 73, \"amc matador\", 1.0, 0.0, 0.0, \"USA\"], [13.0, 8, 350.0, 145.0, 3988, 13.0, 73, \"chevrolet malibu\", 1.0, 0.0, 0.0, \"USA\"], [14.0, 8, 302.0, 137.0, 4042, 14.5, 73, \"ford gran torino\", 1.0, 0.0, 0.0, \"USA\"], [15.0, 8, 318.0, 150.0, 3777, 12.5, 73, \"dodge coronet custom\", 1.0, 0.0, 0.0, \"USA\"], [12.0, 8, 429.0, 198.0, 4952, 11.5, 73, \"mercury marquis brougham\", 1.0, 0.0, 0.0, \"USA\"], [13.0, 8, 400.0, 150.0, 4464, 12.0, 73, \"chevrolet caprice classic\", 1.0, 0.0, 0.0, \"USA\"], [13.0, 8, 351.0, 158.0, 4363, 13.0, 73, \"ford ltd\", 1.0, 0.0, 0.0, \"USA\"], [14.0, 8, 318.0, 150.0, 4237, 14.5, 73, \"plymouth fury gran sedan\", 1.0, 0.0, 0.0, \"USA\"], [13.0, 8, 440.0, 215.0, 4735, 11.0, 73, \"chrysler new yorker brougham\", 1.0, 0.0, 0.0, \"USA\"], [12.0, 8, 455.0, 225.0, 4951, 11.0, 73, \"buick electra 225 custom\", 1.0, 0.0, 0.0, \"USA\"], [13.0, 8, 360.0, 175.0, 3821, 11.0, 73, \"amc ambassador brougham\", 1.0, 0.0, 0.0, \"USA\"], [18.0, 6, 225.0, 105.0, 3121, 16.5, 73, \"plymouth valiant\", 1.0, 0.0, 0.0, \"USA\"], [16.0, 6, 250.0, 100.0, 3278, 18.0, 73, \"chevrolet nova custom\", 1.0, 0.0, 0.0, \"USA\"], [18.0, 6, 232.0, 100.0, 2945, 16.0, 73, \"amc hornet\", 1.0, 0.0, 0.0, \"USA\"], [18.0, 6, 250.0, 88.0, 3021, 16.5, 73, \"ford maverick\", 1.0, 0.0, 0.0, \"USA\"], [23.0, 6, 198.0, 95.0, 2904, 16.0, 73, \"plymouth duster\", 1.0, 0.0, 0.0, \"USA\"], [26.0, 4, 97.0, 46.0, 1950, 21.0, 73, \"volkswagen super beetle\", 0.0, 1.0, 0.0, \"Europe\"], [11.0, 8, 400.0, 150.0, 4997, 14.0, 73, \"chevrolet impala\", 1.0, 0.0, 0.0, \"USA\"], [12.0, 8, 400.0, 167.0, 4906, 12.5, 73, \"ford country\", 1.0, 0.0, 0.0, \"USA\"], [13.0, 8, 360.0, 170.0, 4654, 13.0, 73, \"plymouth custom suburb\", 1.0, 0.0, 0.0, \"USA\"], [12.0, 8, 350.0, 180.0, 4499, 12.5, 73, \"oldsmobile vista cruiser\", 1.0, 0.0, 0.0, \"USA\"], [18.0, 6, 232.0, 100.0, 2789, 15.0, 73, \"amc gremlin\", 1.0, 0.0, 0.0, \"USA\"], [20.0, 4, 97.0, 88.0, 2279, 19.0, 73, \"toyota carina\", 0.0, 0.0, 1.0, \"Japan\"], [21.0, 4, 140.0, 72.0, 2401, 19.5, 73, \"chevrolet vega\", 1.0, 0.0, 0.0, \"USA\"], [22.0, 4, 108.0, 94.0, 2379, 16.5, 73, \"datsun 610\", 0.0, 0.0, 1.0, \"Japan\"], [18.0, 3, 70.0, 90.0, 2124, 13.5, 73, \"maxda rx3\", 0.0, 0.0, 1.0, \"Japan\"], [19.0, 4, 122.0, 85.0, 2310, 18.5, 73, \"ford pinto\", 1.0, 0.0, 0.0, \"USA\"], [21.0, 6, 155.0, 107.0, 2472, 14.0, 73, \"mercury capri v6\", 1.0, 0.0, 0.0, \"USA\"], [26.0, 4, 98.0, 90.0, 2265, 15.5, 73, \"fiat 124 sport coupe\", 0.0, 1.0, 0.0, \"Europe\"], [15.0, 8, 350.0, 145.0, 4082, 13.0, 73, \"chevrolet monte carlo s\", 1.0, 0.0, 0.0, \"USA\"], [16.0, 8, 400.0, 230.0, 4278, 9.5, 73, \"pontiac grand prix\", 1.0, 0.0, 0.0, \"USA\"], [29.0, 4, 68.0, 49.0, 1867, 19.5, 73, \"fiat 128\", 0.0, 1.0, 0.0, \"Europe\"], [24.0, 4, 116.0, 75.0, 2158, 15.5, 73, \"opel manta\", 0.0, 1.0, 0.0, \"Europe\"], [20.0, 4, 114.0, 91.0, 2582, 14.0, 73, \"audi 100ls\", 0.0, 1.0, 0.0, \"Europe\"], [19.0, 4, 121.0, 112.0, 2868, 15.5, 73, \"volvo 144ea\", 0.0, 1.0, 0.0, \"Europe\"], [15.0, 8, 318.0, 150.0, 3399, 11.0, 73, \"dodge dart custom\", 1.0, 0.0, 0.0, \"USA\"], [24.0, 4, 121.0, 110.0, 2660, 14.0, 73, \"saab 99le\", 0.0, 1.0, 0.0, \"Europe\"], [20.0, 6, 156.0, 122.0, 2807, 13.5, 73, \"toyota mark ii\", 0.0, 0.0, 1.0, \"Japan\"], [11.0, 8, 350.0, 180.0, 3664, 11.0, 73, \"oldsmobile omega\", 1.0, 0.0, 0.0, \"USA\"], [20.0, 6, 198.0, 95.0, 3102, 16.5, 74, \"plymouth duster\", 1.0, 0.0, 0.0, \"USA\"], [21.0, 6, 200.0, 93.5, 2875, 17.0, 74, \"ford maverick\", 1.0, 0.0, 0.0, \"USA\"], [19.0, 6, 232.0, 100.0, 2901, 16.0, 74, \"amc hornet\", 1.0, 0.0, 0.0, \"USA\"], [15.0, 6, 250.0, 100.0, 3336, 17.0, 74, \"chevrolet nova\", 1.0, 0.0, 0.0, \"USA\"], [31.0, 4, 79.0, 67.0, 1950, 19.0, 74, \"datsun b210\", 0.0, 0.0, 1.0, \"Japan\"], [26.0, 4, 122.0, 80.0, 2451, 16.5, 74, \"ford pinto\", 1.0, 0.0, 0.0, \"USA\"], [32.0, 4, 71.0, 65.0, 1836, 21.0, 74, \"toyota corolla 1200\", 0.0, 0.0, 1.0, \"Japan\"], [25.0, 4, 140.0, 75.0, 2542, 17.0, 74, \"chevrolet vega\", 1.0, 0.0, 0.0, \"USA\"], [16.0, 6, 250.0, 100.0, 3781, 17.0, 74, \"chevrolet chevelle malibu classic\", 1.0, 0.0, 0.0, \"USA\"], [16.0, 6, 258.0, 110.0, 3632, 18.0, 74, \"amc matador\", 1.0, 0.0, 0.0, \"USA\"], [18.0, 6, 225.0, 105.0, 3613, 16.5, 74, \"plymouth satellite sebring\", 1.0, 0.0, 0.0, \"USA\"], [16.0, 8, 302.0, 140.0, 4141, 14.0, 74, \"ford gran torino\", 1.0, 0.0, 0.0, \"USA\"], [13.0, 8, 350.0, 150.0, 4699, 14.5, 74, \"buick century luxus (sw)\", 1.0, 0.0, 0.0, \"USA\"], [14.0, 8, 318.0, 150.0, 4457, 13.5, 74, \"dodge coronet custom (sw)\", 1.0, 0.0, 0.0, \"USA\"], [14.0, 8, 302.0, 140.0, 4638, 16.0, 74, \"ford gran torino (sw)\", 1.0, 0.0, 0.0, \"USA\"], [14.0, 8, 304.0, 150.0, 4257, 15.5, 74, \"amc matador (sw)\", 1.0, 0.0, 0.0, \"USA\"], [29.0, 4, 98.0, 83.0, 2219, 16.5, 74, \"audi fox\", 0.0, 1.0, 0.0, \"Europe\"], [26.0, 4, 79.0, 67.0, 1963, 15.5, 74, \"volkswagen dasher\", 0.0, 1.0, 0.0, \"Europe\"], [26.0, 4, 97.0, 78.0, 2300, 14.5, 74, \"opel manta\", 0.0, 1.0, 0.0, \"Europe\"], [31.0, 4, 76.0, 52.0, 1649, 16.5, 74, \"toyota corona\", 0.0, 0.0, 1.0, \"Japan\"], [32.0, 4, 83.0, 61.0, 2003, 19.0, 74, \"datsun 710\", 0.0, 0.0, 1.0, \"Japan\"], [28.0, 4, 90.0, 75.0, 2125, 14.5, 74, \"dodge colt\", 1.0, 0.0, 0.0, \"USA\"], [24.0, 4, 90.0, 75.0, 2108, 15.5, 74, \"fiat 128\", 0.0, 1.0, 0.0, \"Europe\"], [26.0, 4, 116.0, 75.0, 2246, 14.0, 74, \"fiat 124 tc\", 0.0, 1.0, 0.0, \"Europe\"], [24.0, 4, 120.0, 97.0, 2489, 15.0, 74, \"honda civic\", 0.0, 0.0, 1.0, \"Japan\"], [26.0, 4, 108.0, 93.0, 2391, 15.5, 74, \"subaru\", 0.0, 0.0, 1.0, \"Japan\"], [31.0, 4, 79.0, 67.0, 2000, 16.0, 74, \"fiat x1.9\", 0.0, 1.0, 0.0, \"Europe\"], [19.0, 6, 225.0, 95.0, 3264, 16.0, 75, \"plymouth valiant custom\", 1.0, 0.0, 0.0, \"USA\"], [18.0, 6, 250.0, 105.0, 3459, 16.0, 75, \"chevrolet nova\", 1.0, 0.0, 0.0, \"USA\"], [15.0, 6, 250.0, 72.0, 3432, 21.0, 75, \"mercury monarch\", 1.0, 0.0, 0.0, \"USA\"], [15.0, 6, 250.0, 72.0, 3158, 19.5, 75, \"ford maverick\", 1.0, 0.0, 0.0, \"USA\"], [16.0, 8, 400.0, 170.0, 4668, 11.5, 75, \"pontiac catalina\", 1.0, 0.0, 0.0, \"USA\"], [15.0, 8, 350.0, 145.0, 4440, 14.0, 75, \"chevrolet bel air\", 1.0, 0.0, 0.0, \"USA\"], [16.0, 8, 318.0, 150.0, 4498, 14.5, 75, \"plymouth grand fury\", 1.0, 0.0, 0.0, \"USA\"], [14.0, 8, 351.0, 148.0, 4657, 13.5, 75, \"ford ltd\", 1.0, 0.0, 0.0, \"USA\"], [17.0, 6, 231.0, 110.0, 3907, 21.0, 75, \"buick century\", 1.0, 0.0, 0.0, \"USA\"], [16.0, 6, 250.0, 105.0, 3897, 18.5, 75, \"chevroelt chevelle malibu\", 1.0, 0.0, 0.0, \"USA\"], [15.0, 6, 258.0, 110.0, 3730, 19.0, 75, \"amc matador\", 1.0, 0.0, 0.0, \"USA\"], [18.0, 6, 225.0, 95.0, 3785, 19.0, 75, \"plymouth fury\", 1.0, 0.0, 0.0, \"USA\"], [21.0, 6, 231.0, 110.0, 3039, 15.0, 75, \"buick skyhawk\", 1.0, 0.0, 0.0, \"USA\"], [20.0, 8, 262.0, 110.0, 3221, 13.5, 75, \"chevrolet monza 2+2\", 1.0, 0.0, 0.0, \"USA\"], [13.0, 8, 302.0, 129.0, 3169, 12.0, 75, \"ford mustang ii\", 1.0, 0.0, 0.0, \"USA\"], [29.0, 4, 97.0, 75.0, 2171, 16.0, 75, \"toyota corolla\", 0.0, 0.0, 1.0, \"Japan\"], [23.0, 4, 140.0, 83.0, 2639, 17.0, 75, \"ford pinto\", 1.0, 0.0, 0.0, \"USA\"], [20.0, 6, 232.0, 100.0, 2914, 16.0, 75, \"amc gremlin\", 1.0, 0.0, 0.0, \"USA\"], [23.0, 4, 140.0, 78.0, 2592, 18.5, 75, \"pontiac astro\", 1.0, 0.0, 0.0, \"USA\"], [24.0, 4, 134.0, 96.0, 2702, 13.5, 75, \"toyota corona\", 0.0, 0.0, 1.0, \"Japan\"], [25.0, 4, 90.0, 71.0, 2223, 16.5, 75, \"volkswagen dasher\", 0.0, 1.0, 0.0, \"Europe\"], [24.0, 4, 119.0, 97.0, 2545, 17.0, 75, \"datsun 710\", 0.0, 0.0, 1.0, \"Japan\"], [18.0, 6, 171.0, 97.0, 2984, 14.5, 75, \"ford pinto\", 1.0, 0.0, 0.0, \"USA\"], [29.0, 4, 90.0, 70.0, 1937, 14.0, 75, \"volkswagen rabbit\", 0.0, 1.0, 0.0, \"Europe\"], [19.0, 6, 232.0, 90.0, 3211, 17.0, 75, \"amc pacer\", 1.0, 0.0, 0.0, \"USA\"], [23.0, 4, 115.0, 95.0, 2694, 15.0, 75, \"audi 100ls\", 0.0, 1.0, 0.0, \"Europe\"], [23.0, 4, 120.0, 88.0, 2957, 17.0, 75, \"peugeot 504\", 0.0, 1.0, 0.0, \"Europe\"], [22.0, 4, 121.0, 98.0, 2945, 14.5, 75, \"volvo 244dl\", 0.0, 1.0, 0.0, \"Europe\"], [25.0, 4, 121.0, 115.0, 2671, 13.5, 75, \"saab 99le\", 0.0, 1.0, 0.0, \"Europe\"], [33.0, 4, 91.0, 53.0, 1795, 17.5, 75, \"honda civic cvcc\", 0.0, 0.0, 1.0, \"Japan\"], [28.0, 4, 107.0, 86.0, 2464, 15.5, 76, \"fiat 131\", 0.0, 1.0, 0.0, \"Europe\"], [25.0, 4, 116.0, 81.0, 2220, 16.9, 76, \"opel 1900\", 0.0, 1.0, 0.0, \"Europe\"], [25.0, 4, 140.0, 92.0, 2572, 14.9, 76, \"capri ii\", 1.0, 0.0, 0.0, \"USA\"], [26.0, 4, 98.0, 79.0, 2255, 17.7, 76, \"dodge colt\", 1.0, 0.0, 0.0, \"USA\"], [27.0, 4, 101.0, 83.0, 2202, 15.3, 76, \"renault 12tl\", 0.0, 1.0, 0.0, \"Europe\"], [17.5, 8, 305.0, 140.0, 4215, 13.0, 76, \"chevrolet chevelle malibu classic\", 1.0, 0.0, 0.0, \"USA\"], [16.0, 8, 318.0, 150.0, 4190, 13.0, 76, \"dodge coronet brougham\", 1.0, 0.0, 0.0, \"USA\"], [15.5, 8, 304.0, 120.0, 3962, 13.9, 76, \"amc matador\", 1.0, 0.0, 0.0, \"USA\"], [14.5, 8, 351.0, 152.0, 4215, 12.8, 76, \"ford gran torino\", 1.0, 0.0, 0.0, \"USA\"], [22.0, 6, 225.0, 100.0, 3233, 15.4, 76, \"plymouth valiant\", 1.0, 0.0, 0.0, \"USA\"], [22.0, 6, 250.0, 105.0, 3353, 14.5, 76, \"chevrolet nova\", 1.0, 0.0, 0.0, \"USA\"], [24.0, 6, 200.0, 81.0, 3012, 17.6, 76, \"ford maverick\", 1.0, 0.0, 0.0, \"USA\"], [22.5, 6, 232.0, 90.0, 3085, 17.6, 76, \"amc hornet\", 1.0, 0.0, 0.0, \"USA\"], [29.0, 4, 85.0, 52.0, 2035, 22.2, 76, \"chevrolet chevette\", 1.0, 0.0, 0.0, \"USA\"], [24.5, 4, 98.0, 60.0, 2164, 22.1, 76, \"chevrolet woody\", 1.0, 0.0, 0.0, \"USA\"], [29.0, 4, 90.0, 70.0, 1937, 14.2, 76, \"vw rabbit\", 0.0, 1.0, 0.0, \"Europe\"], [33.0, 4, 91.0, 53.0, 1795, 17.4, 76, \"honda civic\", 0.0, 0.0, 1.0, \"Japan\"], [20.0, 6, 225.0, 100.0, 3651, 17.7, 76, \"dodge aspen se\", 1.0, 0.0, 0.0, \"USA\"], [18.0, 6, 250.0, 78.0, 3574, 21.0, 76, \"ford granada ghia\", 1.0, 0.0, 0.0, \"USA\"], [18.5, 6, 250.0, 110.0, 3645, 16.2, 76, \"pontiac ventura sj\", 1.0, 0.0, 0.0, \"USA\"], [17.5, 6, 258.0, 95.0, 3193, 17.8, 76, \"amc pacer d/l\", 1.0, 0.0, 0.0, \"USA\"], [29.5, 4, 97.0, 71.0, 1825, 12.2, 76, \"volkswagen rabbit\", 0.0, 1.0, 0.0, \"Europe\"], [32.0, 4, 85.0, 70.0, 1990, 17.0, 76, \"datsun b-210\", 0.0, 0.0, 1.0, \"Japan\"], [28.0, 4, 97.0, 75.0, 2155, 16.4, 76, \"toyota corolla\", 0.0, 0.0, 1.0, \"Japan\"], [26.5, 4, 140.0, 72.0, 2565, 13.6, 76, \"ford pinto\", 1.0, 0.0, 0.0, \"USA\"], [20.0, 4, 130.0, 102.0, 3150, 15.7, 76, \"volvo 245\", 0.0, 1.0, 0.0, \"Europe\"], [13.0, 8, 318.0, 150.0, 3940, 13.2, 76, \"plymouth volare premier v8\", 1.0, 0.0, 0.0, \"USA\"], [19.0, 4, 120.0, 88.0, 3270, 21.9, 76, \"peugeot 504\", 0.0, 1.0, 0.0, \"Europe\"], [19.0, 6, 156.0, 108.0, 2930, 15.5, 76, \"toyota mark ii\", 0.0, 0.0, 1.0, \"Japan\"], [16.5, 6, 168.0, 120.0, 3820, 16.7, 76, \"mercedes-benz 280s\", 0.0, 1.0, 0.0, \"Europe\"], [16.5, 8, 350.0, 180.0, 4380, 12.1, 76, \"cadillac seville\", 1.0, 0.0, 0.0, \"USA\"], [13.0, 8, 350.0, 145.0, 4055, 12.0, 76, \"chevy c10\", 1.0, 0.0, 0.0, \"USA\"], [13.0, 8, 302.0, 130.0, 3870, 15.0, 76, \"ford f108\", 1.0, 0.0, 0.0, \"USA\"], [13.0, 8, 318.0, 150.0, 3755, 14.0, 76, \"dodge d100\", 1.0, 0.0, 0.0, \"USA\"], [31.5, 4, 98.0, 68.0, 2045, 18.5, 77, \"honda accord cvcc\", 0.0, 0.0, 1.0, \"Japan\"], [30.0, 4, 111.0, 80.0, 2155, 14.8, 77, \"buick opel isuzu deluxe\", 1.0, 0.0, 0.0, \"USA\"], [36.0, 4, 79.0, 58.0, 1825, 18.6, 77, \"renault 5 gtl\", 0.0, 1.0, 0.0, \"Europe\"], [25.5, 4, 122.0, 96.0, 2300, 15.5, 77, \"plymouth arrow gs\", 1.0, 0.0, 0.0, \"USA\"], [33.5, 4, 85.0, 70.0, 1945, 16.8, 77, \"datsun f-10 hatchback\", 0.0, 0.0, 1.0, \"Japan\"], [17.5, 8, 305.0, 145.0, 3880, 12.5, 77, \"chevrolet caprice classic\", 1.0, 0.0, 0.0, \"USA\"], [17.0, 8, 260.0, 110.0, 4060, 19.0, 77, \"oldsmobile cutlass supreme\", 1.0, 0.0, 0.0, \"USA\"], [15.5, 8, 318.0, 145.0, 4140, 13.7, 77, \"dodge monaco brougham\", 1.0, 0.0, 0.0, \"USA\"], [15.0, 8, 302.0, 130.0, 4295, 14.9, 77, \"mercury cougar brougham\", 1.0, 0.0, 0.0, \"USA\"], [17.5, 6, 250.0, 110.0, 3520, 16.4, 77, \"chevrolet concours\", 1.0, 0.0, 0.0, \"USA\"], [20.5, 6, 231.0, 105.0, 3425, 16.9, 77, \"buick skylark\", 1.0, 0.0, 0.0, \"USA\"], [19.0, 6, 225.0, 100.0, 3630, 17.7, 77, \"plymouth volare custom\", 1.0, 0.0, 0.0, \"USA\"], [18.5, 6, 250.0, 98.0, 3525, 19.0, 77, \"ford granada\", 1.0, 0.0, 0.0, \"USA\"], [16.0, 8, 400.0, 180.0, 4220, 11.1, 77, \"pontiac grand prix lj\", 1.0, 0.0, 0.0, \"USA\"], [15.5, 8, 350.0, 170.0, 4165, 11.4, 77, \"chevrolet monte carlo landau\", 1.0, 0.0, 0.0, \"USA\"], [15.5, 8, 400.0, 190.0, 4325, 12.2, 77, \"chrysler cordoba\", 1.0, 0.0, 0.0, \"USA\"], [16.0, 8, 351.0, 149.0, 4335, 14.5, 77, \"ford thunderbird\", 1.0, 0.0, 0.0, \"USA\"], [29.0, 4, 97.0, 78.0, 1940, 14.5, 77, \"volkswagen rabbit custom\", 0.0, 1.0, 0.0, \"Europe\"], [24.5, 4, 151.0, 88.0, 2740, 16.0, 77, \"pontiac sunbird coupe\", 1.0, 0.0, 0.0, \"USA\"], [26.0, 4, 97.0, 75.0, 2265, 18.2, 77, \"toyota corolla liftback\", 0.0, 0.0, 1.0, \"Japan\"], [25.5, 4, 140.0, 89.0, 2755, 15.8, 77, \"ford mustang ii 2+2\", 1.0, 0.0, 0.0, \"USA\"], [30.5, 4, 98.0, 63.0, 2051, 17.0, 77, \"chevrolet chevette\", 1.0, 0.0, 0.0, \"USA\"], [33.5, 4, 98.0, 83.0, 2075, 15.9, 77, \"dodge colt m/m\", 1.0, 0.0, 0.0, \"USA\"], [30.0, 4, 97.0, 67.0, 1985, 16.4, 77, \"subaru dl\", 0.0, 0.0, 1.0, \"Japan\"], [30.5, 4, 97.0, 78.0, 2190, 14.1, 77, \"volkswagen dasher\", 0.0, 1.0, 0.0, \"Europe\"], [22.0, 6, 146.0, 97.0, 2815, 14.5, 77, \"datsun 810\", 0.0, 0.0, 1.0, \"Japan\"], [21.5, 4, 121.0, 110.0, 2600, 12.8, 77, \"bmw 320i\", 0.0, 1.0, 0.0, \"Europe\"], [21.5, 3, 80.0, 110.0, 2720, 13.5, 77, \"mazda rx-4\", 0.0, 0.0, 1.0, \"Japan\"], [43.1, 4, 90.0, 48.0, 1985, 21.5, 78, \"volkswagen rabbit custom diesel\", 0.0, 1.0, 0.0, \"Europe\"], [36.1, 4, 98.0, 66.0, 1800, 14.4, 78, \"ford fiesta\", 1.0, 0.0, 0.0, \"USA\"], [32.8, 4, 78.0, 52.0, 1985, 19.4, 78, \"mazda glc deluxe\", 0.0, 0.0, 1.0, \"Japan\"], [39.4, 4, 85.0, 70.0, 2070, 18.6, 78, \"datsun b210 gx\", 0.0, 0.0, 1.0, \"Japan\"], [36.1, 4, 91.0, 60.0, 1800, 16.4, 78, \"honda civic cvcc\", 0.0, 0.0, 1.0, \"Japan\"], [19.9, 8, 260.0, 110.0, 3365, 15.5, 78, \"oldsmobile cutlass salon brougham\", 1.0, 0.0, 0.0, \"USA\"], [19.4, 8, 318.0, 140.0, 3735, 13.2, 78, \"dodge diplomat\", 1.0, 0.0, 0.0, \"USA\"], [20.2, 8, 302.0, 139.0, 3570, 12.8, 78, \"mercury monarch ghia\", 1.0, 0.0, 0.0, \"USA\"], [19.2, 6, 231.0, 105.0, 3535, 19.2, 78, \"pontiac phoenix lj\", 1.0, 0.0, 0.0, \"USA\"], [20.5, 6, 200.0, 95.0, 3155, 18.2, 78, \"chevrolet malibu\", 1.0, 0.0, 0.0, \"USA\"], [20.2, 6, 200.0, 85.0, 2965, 15.8, 78, \"ford fairmont (auto)\", 1.0, 0.0, 0.0, \"USA\"], [25.1, 4, 140.0, 88.0, 2720, 15.4, 78, \"ford fairmont (man)\", 1.0, 0.0, 0.0, \"USA\"], [20.5, 6, 225.0, 100.0, 3430, 17.2, 78, \"plymouth volare\", 1.0, 0.0, 0.0, \"USA\"], [19.4, 6, 232.0, 90.0, 3210, 17.2, 78, \"amc concord\", 1.0, 0.0, 0.0, \"USA\"], [20.6, 6, 231.0, 105.0, 3380, 15.8, 78, \"buick century special\", 1.0, 0.0, 0.0, \"USA\"], [20.8, 6, 200.0, 85.0, 3070, 16.7, 78, \"mercury zephyr\", 1.0, 0.0, 0.0, \"USA\"], [18.6, 6, 225.0, 110.0, 3620, 18.7, 78, \"dodge aspen\", 1.0, 0.0, 0.0, \"USA\"], [18.1, 6, 258.0, 120.0, 3410, 15.1, 78, \"amc concord d/l\", 1.0, 0.0, 0.0, \"USA\"], [19.2, 8, 305.0, 145.0, 3425, 13.2, 78, \"chevrolet monte carlo landau\", 1.0, 0.0, 0.0, \"USA\"], [17.7, 6, 231.0, 165.0, 3445, 13.4, 78, \"buick regal sport coupe (turbo)\", 1.0, 0.0, 0.0, \"USA\"], [18.1, 8, 302.0, 139.0, 3205, 11.2, 78, \"ford futura\", 1.0, 0.0, 0.0, \"USA\"], [17.5, 8, 318.0, 140.0, 4080, 13.7, 78, \"dodge magnum xe\", 1.0, 0.0, 0.0, \"USA\"], [30.0, 4, 98.0, 68.0, 2155, 16.5, 78, \"chevrolet chevette\", 1.0, 0.0, 0.0, \"USA\"], [27.5, 4, 134.0, 95.0, 2560, 14.2, 78, \"toyota corona\", 0.0, 0.0, 1.0, \"Japan\"], [27.2, 4, 119.0, 97.0, 2300, 14.7, 78, \"datsun 510\", 0.0, 0.0, 1.0, \"Japan\"], [30.9, 4, 105.0, 75.0, 2230, 14.5, 78, \"dodge omni\", 1.0, 0.0, 0.0, \"USA\"], [21.1, 4, 134.0, 95.0, 2515, 14.8, 78, \"toyota celica gt liftback\", 0.0, 0.0, 1.0, \"Japan\"], [23.2, 4, 156.0, 105.0, 2745, 16.7, 78, \"plymouth sapporo\", 1.0, 0.0, 0.0, \"USA\"], [23.8, 4, 151.0, 85.0, 2855, 17.6, 78, \"oldsmobile starfire sx\", 1.0, 0.0, 0.0, \"USA\"], [23.9, 4, 119.0, 97.0, 2405, 14.9, 78, \"datsun 200-sx\", 0.0, 0.0, 1.0, \"Japan\"], [20.3, 5, 131.0, 103.0, 2830, 15.9, 78, \"audi 5000\", 0.0, 1.0, 0.0, \"Europe\"], [17.0, 6, 163.0, 125.0, 3140, 13.6, 78, \"volvo 264gl\", 0.0, 1.0, 0.0, \"Europe\"], [21.6, 4, 121.0, 115.0, 2795, 15.7, 78, \"saab 99gle\", 0.0, 1.0, 0.0, \"Europe\"], [16.2, 6, 163.0, 133.0, 3410, 15.8, 78, \"peugeot 604sl\", 0.0, 1.0, 0.0, \"Europe\"], [31.5, 4, 89.0, 71.0, 1990, 14.9, 78, \"volkswagen scirocco\", 0.0, 1.0, 0.0, \"Europe\"], [29.5, 4, 98.0, 68.0, 2135, 16.6, 78, \"honda accord lx\", 0.0, 0.0, 1.0, \"Japan\"], [21.5, 6, 231.0, 115.0, 3245, 15.4, 79, \"pontiac lemans v6\", 1.0, 0.0, 0.0, \"USA\"], [19.8, 6, 200.0, 85.0, 2990, 18.2, 79, \"mercury zephyr 6\", 1.0, 0.0, 0.0, \"USA\"], [22.3, 4, 140.0, 88.0, 2890, 17.3, 79, \"ford fairmont 4\", 1.0, 0.0, 0.0, \"USA\"], [20.2, 6, 232.0, 90.0, 3265, 18.2, 79, \"amc concord dl 6\", 1.0, 0.0, 0.0, \"USA\"], [20.6, 6, 225.0, 110.0, 3360, 16.6, 79, \"dodge aspen 6\", 1.0, 0.0, 0.0, \"USA\"], [17.0, 8, 305.0, 130.0, 3840, 15.4, 79, \"chevrolet caprice classic\", 1.0, 0.0, 0.0, \"USA\"], [17.6, 8, 302.0, 129.0, 3725, 13.4, 79, \"ford ltd landau\", 1.0, 0.0, 0.0, \"USA\"], [16.5, 8, 351.0, 138.0, 3955, 13.2, 79, \"mercury grand marquis\", 1.0, 0.0, 0.0, \"USA\"], [18.2, 8, 318.0, 135.0, 3830, 15.2, 79, \"dodge st. regis\", 1.0, 0.0, 0.0, \"USA\"], [16.9, 8, 350.0, 155.0, 4360, 14.9, 79, \"buick estate wagon (sw)\", 1.0, 0.0, 0.0, \"USA\"], [15.5, 8, 351.0, 142.0, 4054, 14.3, 79, \"ford country squire (sw)\", 1.0, 0.0, 0.0, \"USA\"], [19.2, 8, 267.0, 125.0, 3605, 15.0, 79, \"chevrolet malibu classic (sw)\", 1.0, 0.0, 0.0, \"USA\"], [18.5, 8, 360.0, 150.0, 3940, 13.0, 79, \"chrysler lebaron town @ country (sw)\", 1.0, 0.0, 0.0, \"USA\"], [31.9, 4, 89.0, 71.0, 1925, 14.0, 79, \"vw rabbit custom\", 0.0, 1.0, 0.0, \"Europe\"], [34.1, 4, 86.0, 65.0, 1975, 15.2, 79, \"maxda glc deluxe\", 0.0, 0.0, 1.0, \"Japan\"], [35.7, 4, 98.0, 80.0, 1915, 14.4, 79, \"dodge colt hatchback custom\", 1.0, 0.0, 0.0, \"USA\"], [27.4, 4, 121.0, 80.0, 2670, 15.0, 79, \"amc spirit dl\", 1.0, 0.0, 0.0, \"USA\"], [25.4, 5, 183.0, 77.0, 3530, 20.1, 79, \"mercedes benz 300d\", 0.0, 1.0, 0.0, \"Europe\"], [23.0, 8, 350.0, 125.0, 3900, 17.4, 79, \"cadillac eldorado\", 1.0, 0.0, 0.0, \"USA\"], [27.2, 4, 141.0, 71.0, 3190, 24.8, 79, \"peugeot 504\", 0.0, 1.0, 0.0, \"Europe\"], [23.9, 8, 260.0, 90.0, 3420, 22.2, 79, \"oldsmobile cutlass salon brougham\", 1.0, 0.0, 0.0, \"USA\"], [34.2, 4, 105.0, 70.0, 2200, 13.2, 79, \"plymouth horizon\", 1.0, 0.0, 0.0, \"USA\"], [34.5, 4, 105.0, 70.0, 2150, 14.9, 79, \"plymouth horizon tc3\", 1.0, 0.0, 0.0, \"USA\"], [31.8, 4, 85.0, 65.0, 2020, 19.2, 79, \"datsun 210\", 0.0, 0.0, 1.0, \"Japan\"], [37.3, 4, 91.0, 69.0, 2130, 14.7, 79, \"fiat strada custom\", 0.0, 1.0, 0.0, \"Europe\"], [28.4, 4, 151.0, 90.0, 2670, 16.0, 79, \"buick skylark limited\", 1.0, 0.0, 0.0, \"USA\"], [28.8, 6, 173.0, 115.0, 2595, 11.3, 79, \"chevrolet citation\", 1.0, 0.0, 0.0, \"USA\"], [26.8, 6, 173.0, 115.0, 2700, 12.9, 79, \"oldsmobile omega brougham\", 1.0, 0.0, 0.0, \"USA\"], [33.5, 4, 151.0, 90.0, 2556, 13.2, 79, \"pontiac phoenix\", 1.0, 0.0, 0.0, \"USA\"], [41.5, 4, 98.0, 76.0, 2144, 14.7, 80, \"vw rabbit\", 0.0, 1.0, 0.0, \"Europe\"], [38.1, 4, 89.0, 60.0, 1968, 18.8, 80, \"toyota corolla tercel\", 0.0, 0.0, 1.0, \"Japan\"], [32.1, 4, 98.0, 70.0, 2120, 15.5, 80, \"chevrolet chevette\", 1.0, 0.0, 0.0, \"USA\"], [37.2, 4, 86.0, 65.0, 2019, 16.4, 80, \"datsun 310\", 0.0, 0.0, 1.0, \"Japan\"], [28.0, 4, 151.0, 90.0, 2678, 16.5, 80, \"chevrolet citation\", 1.0, 0.0, 0.0, \"USA\"], [26.4, 4, 140.0, 88.0, 2870, 18.1, 80, \"ford fairmont\", 1.0, 0.0, 0.0, \"USA\"], [24.3, 4, 151.0, 90.0, 3003, 20.1, 80, \"amc concord\", 1.0, 0.0, 0.0, \"USA\"], [19.1, 6, 225.0, 90.0, 3381, 18.7, 80, \"dodge aspen\", 1.0, 0.0, 0.0, \"USA\"], [34.3, 4, 97.0, 78.0, 2188, 15.8, 80, \"audi 4000\", 0.0, 1.0, 0.0, \"Europe\"], [29.8, 4, 134.0, 90.0, 2711, 15.5, 80, \"toyota corona liftback\", 0.0, 0.0, 1.0, \"Japan\"], [31.3, 4, 120.0, 75.0, 2542, 17.5, 80, \"mazda 626\", 0.0, 0.0, 1.0, \"Japan\"], [37.0, 4, 119.0, 92.0, 2434, 15.0, 80, \"datsun 510 hatchback\", 0.0, 0.0, 1.0, \"Japan\"], [32.2, 4, 108.0, 75.0, 2265, 15.2, 80, \"toyota corolla\", 0.0, 0.0, 1.0, \"Japan\"], [46.6, 4, 86.0, 65.0, 2110, 17.9, 80, \"mazda glc\", 0.0, 0.0, 1.0, \"Japan\"], [27.9, 4, 156.0, 105.0, 2800, 14.4, 80, \"dodge colt\", 1.0, 0.0, 0.0, \"USA\"], [40.8, 4, 85.0, 65.0, 2110, 19.2, 80, \"datsun 210\", 0.0, 0.0, 1.0, \"Japan\"], [44.3, 4, 90.0, 48.0, 2085, 21.7, 80, \"vw rabbit c (diesel)\", 0.0, 1.0, 0.0, \"Europe\"], [43.4, 4, 90.0, 48.0, 2335, 23.7, 80, \"vw dasher (diesel)\", 0.0, 1.0, 0.0, \"Europe\"], [36.4, 5, 121.0, 67.0, 2950, 19.9, 80, \"audi 5000s (diesel)\", 0.0, 1.0, 0.0, \"Europe\"], [30.0, 4, 146.0, 67.0, 3250, 21.8, 80, \"mercedes-benz 240d\", 0.0, 1.0, 0.0, \"Europe\"], [44.6, 4, 91.0, 67.0, 1850, 13.8, 80, \"honda civic 1500 gl\", 0.0, 0.0, 1.0, \"Japan\"], [40.9, 4, 85.0, 93.5, 1835, 17.3, 80, \"renault lecar deluxe\", 0.0, 1.0, 0.0, \"Europe\"], [33.8, 4, 97.0, 67.0, 2145, 18.0, 80, \"subaru dl\", 0.0, 0.0, 1.0, \"Japan\"], [29.8, 4, 89.0, 62.0, 1845, 15.3, 80, \"vokswagen rabbit\", 0.0, 1.0, 0.0, \"Europe\"], [32.7, 6, 168.0, 132.0, 2910, 11.4, 80, \"datsun 280-zx\", 0.0, 0.0, 1.0, \"Japan\"], [23.7, 3, 70.0, 100.0, 2420, 12.5, 80, \"mazda rx-7 gs\", 0.0, 0.0, 1.0, \"Japan\"], [35.0, 4, 122.0, 88.0, 2500, 15.1, 80, \"triumph tr7 coupe\", 0.0, 1.0, 0.0, \"Europe\"], [23.6, 4, 140.0, 93.5, 2905, 14.3, 80, \"ford mustang cobra\", 1.0, 0.0, 0.0, \"USA\"], [32.4, 4, 107.0, 72.0, 2290, 17.0, 80, \"honda accord\", 0.0, 0.0, 1.0, \"Japan\"], [27.2, 4, 135.0, 84.0, 2490, 15.7, 81, \"plymouth reliant\", 1.0, 0.0, 0.0, \"USA\"], [26.6, 4, 151.0, 84.0, 2635, 16.4, 81, \"buick skylark\", 1.0, 0.0, 0.0, \"USA\"], [25.8, 4, 156.0, 92.0, 2620, 14.4, 81, \"dodge aries wagon (sw)\", 1.0, 0.0, 0.0, \"USA\"], [23.5, 6, 173.0, 110.0, 2725, 12.6, 81, \"chevrolet citation\", 1.0, 0.0, 0.0, \"USA\"], [30.0, 4, 135.0, 84.0, 2385, 12.9, 81, \"plymouth reliant\", 1.0, 0.0, 0.0, \"USA\"], [39.1, 4, 79.0, 58.0, 1755, 16.9, 81, \"toyota starlet\", 0.0, 0.0, 1.0, \"Japan\"], [39.0, 4, 86.0, 64.0, 1875, 16.4, 81, \"plymouth champ\", 1.0, 0.0, 0.0, \"USA\"], [35.1, 4, 81.0, 60.0, 1760, 16.1, 81, \"honda civic 1300\", 0.0, 0.0, 1.0, \"Japan\"], [32.3, 4, 97.0, 67.0, 2065, 17.8, 81, \"subaru\", 0.0, 0.0, 1.0, \"Japan\"], [37.0, 4, 85.0, 65.0, 1975, 19.4, 81, \"datsun 210 mpg\", 0.0, 0.0, 1.0, \"Japan\"], [37.7, 4, 89.0, 62.0, 2050, 17.3, 81, \"toyota tercel\", 0.0, 0.0, 1.0, \"Japan\"], [34.1, 4, 91.0, 68.0, 1985, 16.0, 81, \"mazda glc 4\", 0.0, 0.0, 1.0, \"Japan\"], [34.7, 4, 105.0, 63.0, 2215, 14.9, 81, \"plymouth horizon 4\", 1.0, 0.0, 0.0, \"USA\"], [34.4, 4, 98.0, 65.0, 2045, 16.2, 81, \"ford escort 4w\", 1.0, 0.0, 0.0, \"USA\"], [29.9, 4, 98.0, 65.0, 2380, 20.7, 81, \"ford escort 2h\", 1.0, 0.0, 0.0, \"USA\"], [33.0, 4, 105.0, 74.0, 2190, 14.2, 81, \"volkswagen jetta\", 0.0, 1.0, 0.0, \"Europe\"], [34.5, 4, 100.0, 93.5, 2320, 15.8, 81, \"renault 18i\", 0.0, 1.0, 0.0, \"Europe\"], [33.7, 4, 107.0, 75.0, 2210, 14.4, 81, \"honda prelude\", 0.0, 0.0, 1.0, \"Japan\"], [32.4, 4, 108.0, 75.0, 2350, 16.8, 81, \"toyota corolla\", 0.0, 0.0, 1.0, \"Japan\"], [32.9, 4, 119.0, 100.0, 2615, 14.8, 81, \"datsun 200sx\", 0.0, 0.0, 1.0, \"Japan\"], [31.6, 4, 120.0, 74.0, 2635, 18.3, 81, \"mazda 626\", 0.0, 0.0, 1.0, \"Japan\"], [28.1, 4, 141.0, 80.0, 3230, 20.4, 81, \"peugeot 505s turbo diesel\", 0.0, 1.0, 0.0, \"Europe\"], [30.7, 6, 145.0, 76.0, 3160, 19.6, 81, \"volvo diesel\", 0.0, 1.0, 0.0, \"Europe\"], [25.4, 6, 168.0, 116.0, 2900, 12.6, 81, \"toyota cressida\", 0.0, 0.0, 1.0, \"Japan\"], [24.2, 6, 146.0, 120.0, 2930, 13.8, 81, \"datsun 810 maxima\", 0.0, 0.0, 1.0, \"Japan\"], [22.4, 6, 231.0, 110.0, 3415, 15.8, 81, \"buick century\", 1.0, 0.0, 0.0, \"USA\"], [26.6, 8, 350.0, 105.0, 3725, 19.0, 81, \"oldsmobile cutlass ls\", 1.0, 0.0, 0.0, \"USA\"], [20.2, 6, 200.0, 88.0, 3060, 17.1, 81, \"ford granada gl\", 1.0, 0.0, 0.0, \"USA\"], [17.6, 6, 225.0, 85.0, 3465, 16.6, 81, \"chrysler lebaron salon\", 1.0, 0.0, 0.0, \"USA\"], [28.0, 4, 112.0, 88.0, 2605, 19.6, 82, \"chevrolet cavalier\", 1.0, 0.0, 0.0, \"USA\"], [27.0, 4, 112.0, 88.0, 2640, 18.6, 82, \"chevrolet cavalier wagon\", 1.0, 0.0, 0.0, \"USA\"], [34.0, 4, 112.0, 88.0, 2395, 18.0, 82, \"chevrolet cavalier 2-door\", 1.0, 0.0, 0.0, \"USA\"], [31.0, 4, 112.0, 85.0, 2575, 16.2, 82, \"pontiac j2000 se hatchback\", 1.0, 0.0, 0.0, \"USA\"], [29.0, 4, 135.0, 84.0, 2525, 16.0, 82, \"dodge aries se\", 1.0, 0.0, 0.0, \"USA\"], [27.0, 4, 151.0, 90.0, 2735, 18.0, 82, \"pontiac phoenix\", 1.0, 0.0, 0.0, \"USA\"], [24.0, 4, 140.0, 92.0, 2865, 16.4, 82, \"ford fairmont futura\", 1.0, 0.0, 0.0, \"USA\"], [23.0, 4, 151.0, 93.5, 3035, 20.5, 82, \"amc concord dl\", 1.0, 0.0, 0.0, \"USA\"], [36.0, 4, 105.0, 74.0, 1980, 15.3, 82, \"volkswagen rabbit l\", 0.0, 1.0, 0.0, \"Europe\"], [37.0, 4, 91.0, 68.0, 2025, 18.2, 82, \"mazda glc custom l\", 0.0, 0.0, 1.0, \"Japan\"], [31.0, 4, 91.0, 68.0, 1970, 17.6, 82, \"mazda glc custom\", 0.0, 0.0, 1.0, \"Japan\"], [38.0, 4, 105.0, 63.0, 2125, 14.7, 82, \"plymouth horizon miser\", 1.0, 0.0, 0.0, \"USA\"], [36.0, 4, 98.0, 70.0, 2125, 17.3, 82, \"mercury lynx l\", 1.0, 0.0, 0.0, \"USA\"], [36.0, 4, 120.0, 88.0, 2160, 14.5, 82, \"nissan stanza xe\", 0.0, 0.0, 1.0, \"Japan\"], [36.0, 4, 107.0, 75.0, 2205, 14.5, 82, \"honda accord\", 0.0, 0.0, 1.0, \"Japan\"], [34.0, 4, 108.0, 70.0, 2245, 16.9, 82, \"toyota corolla\", 0.0, 0.0, 1.0, \"Japan\"], [38.0, 4, 91.0, 67.0, 1965, 15.0, 82, \"honda civic\", 0.0, 0.0, 1.0, \"Japan\"], [32.0, 4, 91.0, 67.0, 1965, 15.7, 82, \"honda civic (auto)\", 0.0, 0.0, 1.0, \"Japan\"], [38.0, 4, 91.0, 67.0, 1995, 16.2, 82, \"datsun 310 gx\", 0.0, 0.0, 1.0, \"Japan\"], [25.0, 6, 181.0, 110.0, 2945, 16.4, 82, \"buick century limited\", 1.0, 0.0, 0.0, \"USA\"], [38.0, 6, 262.0, 85.0, 3015, 17.0, 82, \"oldsmobile cutlass ciera (diesel)\", 1.0, 0.0, 0.0, \"USA\"], [26.0, 4, 156.0, 92.0, 2585, 14.5, 82, \"chrysler lebaron medallion\", 1.0, 0.0, 0.0, \"USA\"], [22.0, 6, 232.0, 112.0, 2835, 14.7, 82, \"ford granada l\", 1.0, 0.0, 0.0, \"USA\"], [32.0, 4, 144.0, 96.0, 2665, 13.9, 82, \"toyota celica gt\", 0.0, 0.0, 1.0, \"Japan\"], [36.0, 4, 135.0, 84.0, 2370, 13.0, 82, \"dodge charger 2.2\", 1.0, 0.0, 0.0, \"USA\"], [27.0, 4, 151.0, 90.0, 2950, 17.3, 82, \"chevrolet camaro\", 1.0, 0.0, 0.0, \"USA\"], [27.0, 4, 140.0, 86.0, 2790, 15.6, 82, \"ford mustang gl\", 1.0, 0.0, 0.0, \"USA\"], [44.0, 4, 97.0, 52.0, 2130, 24.6, 82, \"vw pickup\", 0.0, 1.0, 0.0, \"Europe\"], [32.0, 4, 135.0, 84.0, 2295, 11.6, 82, \"dodge rampage\", 1.0, 0.0, 0.0, \"USA\"], [28.0, 4, 120.0, 79.0, 2625, 18.6, 82, \"ford ranger\", 1.0, 0.0, 0.0, \"USA\"], [31.0, 4, 119.0, 82.0, 2720, 19.4, 82, \"chevy s-10\", 1.0, 0.0, 0.0, \"USA\"]]}],\n",
       "                        {\"template\": {\"data\": {\"bar\": [{\"error_x\": {\"color\": \"#2a3f5f\"}, \"error_y\": {\"color\": \"#2a3f5f\"}, \"marker\": {\"line\": {\"color\": \"#E5ECF6\", \"width\": 0.5}}, \"type\": \"bar\"}], \"barpolar\": [{\"marker\": {\"line\": {\"color\": \"#E5ECF6\", \"width\": 0.5}}, \"type\": \"barpolar\"}], \"carpet\": [{\"aaxis\": {\"endlinecolor\": \"#2a3f5f\", \"gridcolor\": \"white\", \"linecolor\": \"white\", \"minorgridcolor\": \"white\", \"startlinecolor\": \"#2a3f5f\"}, \"baxis\": {\"endlinecolor\": \"#2a3f5f\", \"gridcolor\": \"white\", \"linecolor\": \"white\", \"minorgridcolor\": \"white\", \"startlinecolor\": \"#2a3f5f\"}, \"type\": \"carpet\"}], \"choropleth\": [{\"colorbar\": {\"outlinewidth\": 0, \"ticks\": \"\"}, \"type\": \"choropleth\"}], \"contour\": [{\"colorbar\": {\"outlinewidth\": 0, \"ticks\": \"\"}, \"colorscale\": [[0.0, \"#0d0887\"], [0.1111111111111111, \"#46039f\"], [0.2222222222222222, \"#7201a8\"], [0.3333333333333333, \"#9c179e\"], [0.4444444444444444, \"#bd3786\"], [0.5555555555555556, \"#d8576b\"], [0.6666666666666666, \"#ed7953\"], [0.7777777777777778, \"#fb9f3a\"], [0.8888888888888888, \"#fdca26\"], [1.0, \"#f0f921\"]], \"type\": \"contour\"}], \"contourcarpet\": [{\"colorbar\": {\"outlinewidth\": 0, \"ticks\": \"\"}, \"type\": \"contourcarpet\"}], \"heatmap\": [{\"colorbar\": {\"outlinewidth\": 0, \"ticks\": \"\"}, \"colorscale\": [[0.0, \"#0d0887\"], [0.1111111111111111, \"#46039f\"], [0.2222222222222222, \"#7201a8\"], [0.3333333333333333, \"#9c179e\"], [0.4444444444444444, \"#bd3786\"], [0.5555555555555556, \"#d8576b\"], [0.6666666666666666, \"#ed7953\"], [0.7777777777777778, \"#fb9f3a\"], [0.8888888888888888, \"#fdca26\"], [1.0, \"#f0f921\"]], \"type\": \"heatmap\"}], \"heatmapgl\": [{\"colorbar\": {\"outlinewidth\": 0, \"ticks\": \"\"}, \"colorscale\": [[0.0, \"#0d0887\"], [0.1111111111111111, \"#46039f\"], [0.2222222222222222, \"#7201a8\"], [0.3333333333333333, \"#9c179e\"], [0.4444444444444444, \"#bd3786\"], [0.5555555555555556, \"#d8576b\"], [0.6666666666666666, \"#ed7953\"], [0.7777777777777778, \"#fb9f3a\"], [0.8888888888888888, \"#fdca26\"], [1.0, \"#f0f921\"]], \"type\": \"heatmapgl\"}], \"histogram\": [{\"marker\": {\"colorbar\": {\"outlinewidth\": 0, \"ticks\": \"\"}}, \"type\": \"histogram\"}], \"histogram2d\": [{\"colorbar\": {\"outlinewidth\": 0, \"ticks\": \"\"}, \"colorscale\": [[0.0, \"#0d0887\"], [0.1111111111111111, \"#46039f\"], [0.2222222222222222, \"#7201a8\"], [0.3333333333333333, \"#9c179e\"], [0.4444444444444444, \"#bd3786\"], [0.5555555555555556, \"#d8576b\"], [0.6666666666666666, \"#ed7953\"], [0.7777777777777778, \"#fb9f3a\"], [0.8888888888888888, \"#fdca26\"], [1.0, \"#f0f921\"]], \"type\": \"histogram2d\"}], \"histogram2dcontour\": [{\"colorbar\": {\"outlinewidth\": 0, \"ticks\": \"\"}, \"colorscale\": [[0.0, \"#0d0887\"], [0.1111111111111111, \"#46039f\"], [0.2222222222222222, \"#7201a8\"], [0.3333333333333333, \"#9c179e\"], [0.4444444444444444, \"#bd3786\"], [0.5555555555555556, \"#d8576b\"], [0.6666666666666666, \"#ed7953\"], [0.7777777777777778, \"#fb9f3a\"], [0.8888888888888888, \"#fdca26\"], [1.0, \"#f0f921\"]], \"type\": \"histogram2dcontour\"}], \"mesh3d\": [{\"colorbar\": {\"outlinewidth\": 0, \"ticks\": \"\"}, \"type\": \"mesh3d\"}], \"parcoords\": [{\"line\": {\"colorbar\": {\"outlinewidth\": 0, \"ticks\": \"\"}}, \"type\": \"parcoords\"}], \"pie\": [{\"automargin\": true, \"type\": \"pie\"}], \"scatter\": [{\"marker\": {\"colorbar\": {\"outlinewidth\": 0, \"ticks\": \"\"}}, \"type\": \"scatter\"}], \"scatter3d\": [{\"line\": {\"colorbar\": {\"outlinewidth\": 0, \"ticks\": \"\"}}, \"marker\": {\"colorbar\": {\"outlinewidth\": 0, \"ticks\": \"\"}}, \"type\": \"scatter3d\"}], \"scattercarpet\": [{\"marker\": {\"colorbar\": {\"outlinewidth\": 0, \"ticks\": \"\"}}, \"type\": \"scattercarpet\"}], \"scattergeo\": [{\"marker\": {\"colorbar\": {\"outlinewidth\": 0, \"ticks\": \"\"}}, \"type\": \"scattergeo\"}], \"scattergl\": [{\"marker\": {\"colorbar\": {\"outlinewidth\": 0, \"ticks\": \"\"}}, \"type\": \"scattergl\"}], \"scattermapbox\": [{\"marker\": {\"colorbar\": {\"outlinewidth\": 0, \"ticks\": \"\"}}, \"type\": \"scattermapbox\"}], \"scatterpolar\": [{\"marker\": {\"colorbar\": {\"outlinewidth\": 0, \"ticks\": \"\"}}, \"type\": \"scatterpolar\"}], \"scatterpolargl\": [{\"marker\": {\"colorbar\": {\"outlinewidth\": 0, \"ticks\": \"\"}}, \"type\": \"scatterpolargl\"}], \"scatterternary\": [{\"marker\": {\"colorbar\": {\"outlinewidth\": 0, \"ticks\": \"\"}}, \"type\": \"scatterternary\"}], \"surface\": [{\"colorbar\": {\"outlinewidth\": 0, \"ticks\": \"\"}, \"colorscale\": [[0.0, \"#0d0887\"], [0.1111111111111111, \"#46039f\"], [0.2222222222222222, \"#7201a8\"], [0.3333333333333333, \"#9c179e\"], [0.4444444444444444, \"#bd3786\"], [0.5555555555555556, \"#d8576b\"], [0.6666666666666666, \"#ed7953\"], [0.7777777777777778, \"#fb9f3a\"], [0.8888888888888888, \"#fdca26\"], [1.0, \"#f0f921\"]], \"type\": \"surface\"}], \"table\": [{\"cells\": {\"fill\": {\"color\": \"#EBF0F8\"}, \"line\": {\"color\": \"white\"}}, \"header\": {\"fill\": {\"color\": \"#C8D4E3\"}, \"line\": {\"color\": \"white\"}}, \"type\": \"table\"}]}, \"layout\": {\"annotationdefaults\": {\"arrowcolor\": \"#2a3f5f\", \"arrowhead\": 0, \"arrowwidth\": 1}, \"coloraxis\": {\"colorbar\": {\"outlinewidth\": 0, \"ticks\": \"\"}}, \"colorscale\": {\"diverging\": [[0, \"#8e0152\"], [0.1, \"#c51b7d\"], [0.2, \"#de77ae\"], [0.3, \"#f1b6da\"], [0.4, \"#fde0ef\"], [0.5, \"#f7f7f7\"], [0.6, \"#e6f5d0\"], [0.7, \"#b8e186\"], [0.8, \"#7fbc41\"], [0.9, \"#4d9221\"], [1, \"#276419\"]], \"sequential\": [[0.0, \"#0d0887\"], [0.1111111111111111, \"#46039f\"], [0.2222222222222222, \"#7201a8\"], [0.3333333333333333, \"#9c179e\"], [0.4444444444444444, \"#bd3786\"], [0.5555555555555556, \"#d8576b\"], [0.6666666666666666, \"#ed7953\"], [0.7777777777777778, \"#fb9f3a\"], [0.8888888888888888, \"#fdca26\"], [1.0, \"#f0f921\"]], \"sequentialminus\": [[0.0, \"#0d0887\"], [0.1111111111111111, \"#46039f\"], [0.2222222222222222, \"#7201a8\"], [0.3333333333333333, \"#9c179e\"], [0.4444444444444444, \"#bd3786\"], [0.5555555555555556, \"#d8576b\"], [0.6666666666666666, \"#ed7953\"], [0.7777777777777778, \"#fb9f3a\"], [0.8888888888888888, \"#fdca26\"], [1.0, \"#f0f921\"]]}, \"colorway\": [\"#636efa\", \"#EF553B\", \"#00cc96\", \"#ab63fa\", \"#FFA15A\", \"#19d3f3\", \"#FF6692\", \"#B6E880\", \"#FF97FF\", \"#FECB52\"], \"font\": {\"color\": \"#2a3f5f\"}, \"geo\": {\"bgcolor\": \"white\", \"lakecolor\": \"white\", \"landcolor\": \"#E5ECF6\", \"showlakes\": true, \"showland\": true, \"subunitcolor\": \"white\"}, \"hoverlabel\": {\"align\": \"left\"}, \"hovermode\": \"closest\", \"mapbox\": {\"style\": \"light\"}, \"paper_bgcolor\": \"white\", \"plot_bgcolor\": \"#E5ECF6\", \"polar\": {\"angularaxis\": {\"gridcolor\": \"white\", \"linecolor\": \"white\", \"ticks\": \"\"}, \"bgcolor\": \"#E5ECF6\", \"radialaxis\": {\"gridcolor\": \"white\", \"linecolor\": \"white\", \"ticks\": \"\"}}, \"scene\": {\"xaxis\": {\"backgroundcolor\": \"#E5ECF6\", \"gridcolor\": \"white\", \"gridwidth\": 2, \"linecolor\": \"white\", \"showbackground\": true, \"ticks\": \"\", \"zerolinecolor\": \"white\"}, \"yaxis\": {\"backgroundcolor\": \"#E5ECF6\", \"gridcolor\": \"white\", \"gridwidth\": 2, \"linecolor\": \"white\", \"showbackground\": true, \"ticks\": \"\", \"zerolinecolor\": \"white\"}, \"zaxis\": {\"backgroundcolor\": \"#E5ECF6\", \"gridcolor\": \"white\", \"gridwidth\": 2, \"linecolor\": \"white\", \"showbackground\": true, \"ticks\": \"\", \"zerolinecolor\": \"white\"}}, \"shapedefaults\": {\"line\": {\"color\": \"#2a3f5f\"}}, \"ternary\": {\"aaxis\": {\"gridcolor\": \"white\", \"linecolor\": \"white\", \"ticks\": \"\"}, \"baxis\": {\"gridcolor\": \"white\", \"linecolor\": \"white\", \"ticks\": \"\"}, \"bgcolor\": \"#E5ECF6\", \"caxis\": {\"gridcolor\": \"white\", \"linecolor\": \"white\", \"ticks\": \"\"}}, \"title\": {\"x\": 0.05}, \"xaxis\": {\"automargin\": true, \"gridcolor\": \"white\", \"linecolor\": \"white\", \"ticks\": \"\", \"title\": {\"standoff\": 15}, \"zerolinecolor\": \"white\", \"zerolinewidth\": 2}, \"yaxis\": {\"automargin\": true, \"gridcolor\": \"white\", \"linecolor\": \"white\", \"ticks\": \"\", \"title\": {\"standoff\": 15}, \"zerolinecolor\": \"white\", \"zerolinewidth\": 2}}}, \"title\": {\"text\": \"Training Data :: Car Distribution\"}},\n",
       "                        {\"responsive\": true}\n",
       "                    ).then(function(){\n",
       "                            \n",
       "var gd = document.getElementById('37798749-8bb2-4d97-aab0-6677bd100f88');\n",
       "var x = new MutationObserver(function (mutations, observer) {{\n",
       "        var display = window.getComputedStyle(gd).display;\n",
       "        if (!display || display === 'none') {{\n",
       "            console.log([gd, 'removed!']);\n",
       "            Plotly.purge(gd);\n",
       "            observer.disconnect();\n",
       "        }}\n",
       "}});\n",
       "\n",
       "// Listen for the removal of the full notebook cells\n",
       "var notebookContainer = gd.closest('#notebook-container');\n",
       "if (notebookContainer) {{\n",
       "    x.observe(notebookContainer, {childList: true});\n",
       "}}\n",
       "\n",
       "// Listen for the clearing of the current output cell\n",
       "var outputEl = gd.closest('.output');\n",
       "if (outputEl) {{\n",
       "    x.observe(outputEl, {childList: true});\n",
       "}}\n",
       "\n",
       "                        })\n",
       "                };\n",
       "                });\n",
       "            </script>\n",
       "        </div>"
      ]
     },
     "metadata": {},
     "output_type": "display_data"
    }
   ],
   "source": [
    "# Set notebook mode to work in offline\n",
    "py.init_notebook_mode(connected=True)\n",
    "\n",
    "colors = ['aqua', 'pink', 'teal']\n",
    "\n",
    "trace_train= go.Pie(labels = cars.index,\n",
    "              values = cars.values, marker=dict(colors=colors))\n",
    "\n",
    "layout = go.Layout(title = \"Training Data :: Car Distribution\")\n",
    "data = [trace_train]\n",
    "fig = go.Figure(data=data, layout=layout)\n",
    "py.iplot(fig)"
   ]
  },
  {
   "cell_type": "markdown",
   "metadata": {},
   "source": [
    "##### Car vs Mileage "
   ]
  },
  {
   "cell_type": "code",
   "execution_count": 125,
   "metadata": {},
   "outputs": [
    {
     "name": "stdout",
     "output_type": "stream",
     "text": [
      "322    46.6\n",
      "329    44.6\n",
      "325    44.3\n",
      "394    44.0\n",
      "326    43.4\n",
      "244    43.1\n",
      "309    41.5\n",
      "330    40.9\n",
      "324    40.8\n",
      "247    39.4\n",
      "343    39.1\n",
      "344    39.0\n",
      "310    38.1\n",
      "378    38.0\n",
      "383    38.0\n",
      "Name: mpg, dtype: float64\n"
     ]
    },
    {
     "data": {
      "application/vnd.plotly.v1+json": {
       "config": {
        "linkText": "Export to plot.ly",
        "plotlyServerURL": "https://plot.ly",
        "showLink": false
       },
       "data": [
        {
         "marker": {
          "color": [
           18,
           15,
           18,
           16,
           17,
           15,
           14,
           14,
           14,
           15,
           15,
           14,
           15,
           14,
           24,
           22,
           18,
           21,
           27,
           26,
           25,
           24,
           25,
           26,
           21,
           10,
           10,
           11,
           9,
           27,
           28,
           25,
           25,
           19,
           16,
           17,
           19,
           18,
           14,
           14,
           14,
           14,
           12,
           13,
           13,
           18,
           22,
           19,
           18,
           23,
           28,
           30,
           30,
           31,
           35,
           27,
           26,
           24,
           25,
           23,
           20,
           21,
           13,
           14,
           15,
           14,
           17,
           11,
           13,
           12,
           13,
           19,
           15,
           13,
           13,
           14,
           18,
           22,
           21,
           26,
           22,
           28,
           23,
           28,
           27,
           13,
           14,
           13,
           14,
           15,
           12,
           13,
           13,
           14,
           13,
           12,
           13,
           18,
           16,
           18,
           18,
           23,
           26,
           11,
           12,
           13,
           12,
           18,
           20,
           21,
           22,
           18,
           19,
           21,
           26,
           15,
           16,
           29,
           24,
           20,
           19,
           15,
           24,
           20,
           11,
           20,
           21,
           19,
           15,
           31,
           26,
           32,
           25,
           16,
           16,
           18,
           16,
           13,
           14,
           14,
           14,
           29,
           26,
           26,
           31,
           32,
           28,
           24,
           26,
           24,
           26,
           31,
           19,
           18,
           15,
           15,
           16,
           15,
           16,
           14,
           17,
           16,
           15,
           18,
           21,
           20,
           13,
           29,
           23,
           20,
           23,
           24,
           25,
           24,
           18,
           29,
           19,
           23,
           23,
           22,
           25,
           33,
           28,
           25,
           25,
           26,
           27,
           17.5,
           16,
           15.5,
           14.5,
           22,
           22,
           24,
           22.5,
           29,
           24.5,
           29,
           33,
           20,
           18,
           18.5,
           17.5,
           29.5,
           32,
           28,
           26.5,
           20,
           13,
           19,
           19,
           16.5,
           16.5,
           13,
           13,
           13,
           31.5,
           30,
           36,
           25.5,
           33.5,
           17.5,
           17,
           15.5,
           15,
           17.5,
           20.5,
           19,
           18.5,
           16,
           15.5,
           15.5,
           16,
           29,
           24.5,
           26,
           25.5,
           30.5,
           33.5,
           30,
           30.5,
           22,
           21.5,
           21.5,
           43.1,
           36.1,
           32.8,
           39.4,
           36.1,
           19.9,
           19.4,
           20.2,
           19.2,
           20.5,
           20.2,
           25.1,
           20.5,
           19.4,
           20.6,
           20.8,
           18.6,
           18.1,
           19.2,
           17.7,
           18.1,
           17.5,
           30,
           27.5,
           27.2,
           30.9,
           21.1,
           23.2,
           23.8,
           23.9,
           20.3,
           17,
           21.6,
           16.2,
           31.5,
           29.5,
           21.5,
           19.8,
           22.3,
           20.2,
           20.6,
           17,
           17.6,
           16.5,
           18.2,
           16.9,
           15.5,
           19.2,
           18.5,
           31.9,
           34.1,
           35.7,
           27.4,
           25.4,
           23,
           27.2,
           23.9,
           34.2,
           34.5,
           31.8,
           37.3,
           28.4,
           28.8,
           26.8,
           33.5,
           41.5,
           38.1,
           32.1,
           37.2,
           28,
           26.4,
           24.3,
           19.1,
           34.3,
           29.8,
           31.3,
           37,
           32.2,
           46.6,
           27.9,
           40.8,
           44.3,
           43.4,
           36.4,
           30,
           44.6,
           40.9,
           33.8,
           29.8,
           32.7,
           23.7,
           35,
           23.6,
           32.4,
           27.2,
           26.6,
           25.8,
           23.5,
           30,
           39.1,
           39,
           35.1,
           32.3,
           37,
           37.7,
           34.1,
           34.7,
           34.4,
           29.9,
           33,
           34.5,
           33.7,
           32.4,
           32.9,
           31.6,
           28.1,
           30.7,
           25.4,
           24.2,
           22.4,
           26.6,
           20.2,
           17.6,
           28,
           27,
           34,
           31,
           29,
           27,
           24,
           23,
           36,
           37,
           31,
           38,
           36,
           36,
           36,
           34,
           38,
           32,
           38,
           25,
           38,
           26,
           22,
           32,
           36,
           27,
           27,
           44,
           32,
           28,
           31
          ],
          "colorscale": [
           [
            0,
            "rgb(0,0,131)"
           ],
           [
            0.2,
            "rgb(0,60,170)"
           ],
           [
            0.4,
            "rgb(5,255,255)"
           ],
           [
            0.6,
            "rgb(255,255,0)"
           ],
           [
            0.8,
            "rgb(250,0,0)"
           ],
           [
            1,
            "rgb(128,0,0)"
           ]
          ],
          "showscale": true
         },
         "type": "bar",
         "x": [
          "mazda glc",
          "honda civic 1500 gl",
          "vw rabbit c (diesel)",
          "vw pickup",
          "vw dasher (diesel)",
          "volkswagen rabbit custom diesel",
          "vw rabbit",
          "renault lecar deluxe",
          "datsun 210",
          "datsun b210 gx",
          "toyota starlet",
          "plymouth champ",
          "toyota corolla tercel",
          "plymouth horizon miser",
          "honda civic"
         ],
         "y": [
          46.6,
          44.6,
          44.3,
          44,
          43.4,
          43.1,
          41.5,
          40.9,
          40.8,
          39.4,
          39.1,
          39,
          38.1,
          38,
          38
         ]
        }
       ],
       "layout": {
        "template": {
         "data": {
          "bar": [
           {
            "error_x": {
             "color": "#2a3f5f"
            },
            "error_y": {
             "color": "#2a3f5f"
            },
            "marker": {
             "line": {
              "color": "#E5ECF6",
              "width": 0.5
             }
            },
            "type": "bar"
           }
          ],
          "barpolar": [
           {
            "marker": {
             "line": {
              "color": "#E5ECF6",
              "width": 0.5
             }
            },
            "type": "barpolar"
           }
          ],
          "carpet": [
           {
            "aaxis": {
             "endlinecolor": "#2a3f5f",
             "gridcolor": "white",
             "linecolor": "white",
             "minorgridcolor": "white",
             "startlinecolor": "#2a3f5f"
            },
            "baxis": {
             "endlinecolor": "#2a3f5f",
             "gridcolor": "white",
             "linecolor": "white",
             "minorgridcolor": "white",
             "startlinecolor": "#2a3f5f"
            },
            "type": "carpet"
           }
          ],
          "choropleth": [
           {
            "colorbar": {
             "outlinewidth": 0,
             "ticks": ""
            },
            "type": "choropleth"
           }
          ],
          "contour": [
           {
            "colorbar": {
             "outlinewidth": 0,
             "ticks": ""
            },
            "colorscale": [
             [
              0,
              "#0d0887"
             ],
             [
              0.1111111111111111,
              "#46039f"
             ],
             [
              0.2222222222222222,
              "#7201a8"
             ],
             [
              0.3333333333333333,
              "#9c179e"
             ],
             [
              0.4444444444444444,
              "#bd3786"
             ],
             [
              0.5555555555555556,
              "#d8576b"
             ],
             [
              0.6666666666666666,
              "#ed7953"
             ],
             [
              0.7777777777777778,
              "#fb9f3a"
             ],
             [
              0.8888888888888888,
              "#fdca26"
             ],
             [
              1,
              "#f0f921"
             ]
            ],
            "type": "contour"
           }
          ],
          "contourcarpet": [
           {
            "colorbar": {
             "outlinewidth": 0,
             "ticks": ""
            },
            "type": "contourcarpet"
           }
          ],
          "heatmap": [
           {
            "colorbar": {
             "outlinewidth": 0,
             "ticks": ""
            },
            "colorscale": [
             [
              0,
              "#0d0887"
             ],
             [
              0.1111111111111111,
              "#46039f"
             ],
             [
              0.2222222222222222,
              "#7201a8"
             ],
             [
              0.3333333333333333,
              "#9c179e"
             ],
             [
              0.4444444444444444,
              "#bd3786"
             ],
             [
              0.5555555555555556,
              "#d8576b"
             ],
             [
              0.6666666666666666,
              "#ed7953"
             ],
             [
              0.7777777777777778,
              "#fb9f3a"
             ],
             [
              0.8888888888888888,
              "#fdca26"
             ],
             [
              1,
              "#f0f921"
             ]
            ],
            "type": "heatmap"
           }
          ],
          "heatmapgl": [
           {
            "colorbar": {
             "outlinewidth": 0,
             "ticks": ""
            },
            "colorscale": [
             [
              0,
              "#0d0887"
             ],
             [
              0.1111111111111111,
              "#46039f"
             ],
             [
              0.2222222222222222,
              "#7201a8"
             ],
             [
              0.3333333333333333,
              "#9c179e"
             ],
             [
              0.4444444444444444,
              "#bd3786"
             ],
             [
              0.5555555555555556,
              "#d8576b"
             ],
             [
              0.6666666666666666,
              "#ed7953"
             ],
             [
              0.7777777777777778,
              "#fb9f3a"
             ],
             [
              0.8888888888888888,
              "#fdca26"
             ],
             [
              1,
              "#f0f921"
             ]
            ],
            "type": "heatmapgl"
           }
          ],
          "histogram": [
           {
            "marker": {
             "colorbar": {
              "outlinewidth": 0,
              "ticks": ""
             }
            },
            "type": "histogram"
           }
          ],
          "histogram2d": [
           {
            "colorbar": {
             "outlinewidth": 0,
             "ticks": ""
            },
            "colorscale": [
             [
              0,
              "#0d0887"
             ],
             [
              0.1111111111111111,
              "#46039f"
             ],
             [
              0.2222222222222222,
              "#7201a8"
             ],
             [
              0.3333333333333333,
              "#9c179e"
             ],
             [
              0.4444444444444444,
              "#bd3786"
             ],
             [
              0.5555555555555556,
              "#d8576b"
             ],
             [
              0.6666666666666666,
              "#ed7953"
             ],
             [
              0.7777777777777778,
              "#fb9f3a"
             ],
             [
              0.8888888888888888,
              "#fdca26"
             ],
             [
              1,
              "#f0f921"
             ]
            ],
            "type": "histogram2d"
           }
          ],
          "histogram2dcontour": [
           {
            "colorbar": {
             "outlinewidth": 0,
             "ticks": ""
            },
            "colorscale": [
             [
              0,
              "#0d0887"
             ],
             [
              0.1111111111111111,
              "#46039f"
             ],
             [
              0.2222222222222222,
              "#7201a8"
             ],
             [
              0.3333333333333333,
              "#9c179e"
             ],
             [
              0.4444444444444444,
              "#bd3786"
             ],
             [
              0.5555555555555556,
              "#d8576b"
             ],
             [
              0.6666666666666666,
              "#ed7953"
             ],
             [
              0.7777777777777778,
              "#fb9f3a"
             ],
             [
              0.8888888888888888,
              "#fdca26"
             ],
             [
              1,
              "#f0f921"
             ]
            ],
            "type": "histogram2dcontour"
           }
          ],
          "mesh3d": [
           {
            "colorbar": {
             "outlinewidth": 0,
             "ticks": ""
            },
            "type": "mesh3d"
           }
          ],
          "parcoords": [
           {
            "line": {
             "colorbar": {
              "outlinewidth": 0,
              "ticks": ""
             }
            },
            "type": "parcoords"
           }
          ],
          "pie": [
           {
            "automargin": true,
            "type": "pie"
           }
          ],
          "scatter": [
           {
            "marker": {
             "colorbar": {
              "outlinewidth": 0,
              "ticks": ""
             }
            },
            "type": "scatter"
           }
          ],
          "scatter3d": [
           {
            "line": {
             "colorbar": {
              "outlinewidth": 0,
              "ticks": ""
             }
            },
            "marker": {
             "colorbar": {
              "outlinewidth": 0,
              "ticks": ""
             }
            },
            "type": "scatter3d"
           }
          ],
          "scattercarpet": [
           {
            "marker": {
             "colorbar": {
              "outlinewidth": 0,
              "ticks": ""
             }
            },
            "type": "scattercarpet"
           }
          ],
          "scattergeo": [
           {
            "marker": {
             "colorbar": {
              "outlinewidth": 0,
              "ticks": ""
             }
            },
            "type": "scattergeo"
           }
          ],
          "scattergl": [
           {
            "marker": {
             "colorbar": {
              "outlinewidth": 0,
              "ticks": ""
             }
            },
            "type": "scattergl"
           }
          ],
          "scattermapbox": [
           {
            "marker": {
             "colorbar": {
              "outlinewidth": 0,
              "ticks": ""
             }
            },
            "type": "scattermapbox"
           }
          ],
          "scatterpolar": [
           {
            "marker": {
             "colorbar": {
              "outlinewidth": 0,
              "ticks": ""
             }
            },
            "type": "scatterpolar"
           }
          ],
          "scatterpolargl": [
           {
            "marker": {
             "colorbar": {
              "outlinewidth": 0,
              "ticks": ""
             }
            },
            "type": "scatterpolargl"
           }
          ],
          "scatterternary": [
           {
            "marker": {
             "colorbar": {
              "outlinewidth": 0,
              "ticks": ""
             }
            },
            "type": "scatterternary"
           }
          ],
          "surface": [
           {
            "colorbar": {
             "outlinewidth": 0,
             "ticks": ""
            },
            "colorscale": [
             [
              0,
              "#0d0887"
             ],
             [
              0.1111111111111111,
              "#46039f"
             ],
             [
              0.2222222222222222,
              "#7201a8"
             ],
             [
              0.3333333333333333,
              "#9c179e"
             ],
             [
              0.4444444444444444,
              "#bd3786"
             ],
             [
              0.5555555555555556,
              "#d8576b"
             ],
             [
              0.6666666666666666,
              "#ed7953"
             ],
             [
              0.7777777777777778,
              "#fb9f3a"
             ],
             [
              0.8888888888888888,
              "#fdca26"
             ],
             [
              1,
              "#f0f921"
             ]
            ],
            "type": "surface"
           }
          ],
          "table": [
           {
            "cells": {
             "fill": {
              "color": "#EBF0F8"
             },
             "line": {
              "color": "white"
             }
            },
            "header": {
             "fill": {
              "color": "#C8D4E3"
             },
             "line": {
              "color": "white"
             }
            },
            "type": "table"
           }
          ]
         },
         "layout": {
          "annotationdefaults": {
           "arrowcolor": "#2a3f5f",
           "arrowhead": 0,
           "arrowwidth": 1
          },
          "coloraxis": {
           "colorbar": {
            "outlinewidth": 0,
            "ticks": ""
           }
          },
          "colorscale": {
           "diverging": [
            [
             0,
             "#8e0152"
            ],
            [
             0.1,
             "#c51b7d"
            ],
            [
             0.2,
             "#de77ae"
            ],
            [
             0.3,
             "#f1b6da"
            ],
            [
             0.4,
             "#fde0ef"
            ],
            [
             0.5,
             "#f7f7f7"
            ],
            [
             0.6,
             "#e6f5d0"
            ],
            [
             0.7,
             "#b8e186"
            ],
            [
             0.8,
             "#7fbc41"
            ],
            [
             0.9,
             "#4d9221"
            ],
            [
             1,
             "#276419"
            ]
           ],
           "sequential": [
            [
             0,
             "#0d0887"
            ],
            [
             0.1111111111111111,
             "#46039f"
            ],
            [
             0.2222222222222222,
             "#7201a8"
            ],
            [
             0.3333333333333333,
             "#9c179e"
            ],
            [
             0.4444444444444444,
             "#bd3786"
            ],
            [
             0.5555555555555556,
             "#d8576b"
            ],
            [
             0.6666666666666666,
             "#ed7953"
            ],
            [
             0.7777777777777778,
             "#fb9f3a"
            ],
            [
             0.8888888888888888,
             "#fdca26"
            ],
            [
             1,
             "#f0f921"
            ]
           ],
           "sequentialminus": [
            [
             0,
             "#0d0887"
            ],
            [
             0.1111111111111111,
             "#46039f"
            ],
            [
             0.2222222222222222,
             "#7201a8"
            ],
            [
             0.3333333333333333,
             "#9c179e"
            ],
            [
             0.4444444444444444,
             "#bd3786"
            ],
            [
             0.5555555555555556,
             "#d8576b"
            ],
            [
             0.6666666666666666,
             "#ed7953"
            ],
            [
             0.7777777777777778,
             "#fb9f3a"
            ],
            [
             0.8888888888888888,
             "#fdca26"
            ],
            [
             1,
             "#f0f921"
            ]
           ]
          },
          "colorway": [
           "#636efa",
           "#EF553B",
           "#00cc96",
           "#ab63fa",
           "#FFA15A",
           "#19d3f3",
           "#FF6692",
           "#B6E880",
           "#FF97FF",
           "#FECB52"
          ],
          "font": {
           "color": "#2a3f5f"
          },
          "geo": {
           "bgcolor": "white",
           "lakecolor": "white",
           "landcolor": "#E5ECF6",
           "showlakes": true,
           "showland": true,
           "subunitcolor": "white"
          },
          "hoverlabel": {
           "align": "left"
          },
          "hovermode": "closest",
          "mapbox": {
           "style": "light"
          },
          "paper_bgcolor": "white",
          "plot_bgcolor": "#E5ECF6",
          "polar": {
           "angularaxis": {
            "gridcolor": "white",
            "linecolor": "white",
            "ticks": ""
           },
           "bgcolor": "#E5ECF6",
           "radialaxis": {
            "gridcolor": "white",
            "linecolor": "white",
            "ticks": ""
           }
          },
          "scene": {
           "xaxis": {
            "backgroundcolor": "#E5ECF6",
            "gridcolor": "white",
            "gridwidth": 2,
            "linecolor": "white",
            "showbackground": true,
            "ticks": "",
            "zerolinecolor": "white"
           },
           "yaxis": {
            "backgroundcolor": "#E5ECF6",
            "gridcolor": "white",
            "gridwidth": 2,
            "linecolor": "white",
            "showbackground": true,
            "ticks": "",
            "zerolinecolor": "white"
           },
           "zaxis": {
            "backgroundcolor": "#E5ECF6",
            "gridcolor": "white",
            "gridwidth": 2,
            "linecolor": "white",
            "showbackground": true,
            "ticks": "",
            "zerolinecolor": "white"
           }
          },
          "shapedefaults": {
           "line": {
            "color": "#2a3f5f"
           }
          },
          "ternary": {
           "aaxis": {
            "gridcolor": "white",
            "linecolor": "white",
            "ticks": ""
           },
           "baxis": {
            "gridcolor": "white",
            "linecolor": "white",
            "ticks": ""
           },
           "bgcolor": "#E5ECF6",
           "caxis": {
            "gridcolor": "white",
            "linecolor": "white",
            "ticks": ""
           }
          },
          "title": {
           "x": 0.05
          },
          "xaxis": {
           "automargin": true,
           "gridcolor": "white",
           "linecolor": "white",
           "ticks": "",
           "title": {
            "standoff": 15
           },
           "zerolinecolor": "white",
           "zerolinewidth": 2
          },
          "yaxis": {
           "automargin": true,
           "gridcolor": "white",
           "linecolor": "white",
           "ticks": "",
           "title": {
            "standoff": 15
           },
           "zerolinecolor": "white",
           "zerolinewidth": 2
          }
         }
        },
        "title": {
         "text": "Car Mileage Distribution :: Most Fuel Efficient Cars (Top 15)"
        },
        "yaxis": {
         "title": {
          "text": "Fuel Efficiency"
         }
        }
       }
      },
      "text/html": [
       "<div>\n",
       "        \n",
       "        \n",
       "            <div id=\"862999af-1521-452a-8545-8b90cae4ce6a\" class=\"plotly-graph-div\" style=\"height:525px; width:100%;\"></div>\n",
       "            <script type=\"text/javascript\">\n",
       "                require([\"plotly\"], function(Plotly) {\n",
       "                    window.PLOTLYENV=window.PLOTLYENV || {};\n",
       "                    \n",
       "                if (document.getElementById(\"862999af-1521-452a-8545-8b90cae4ce6a\")) {\n",
       "                    Plotly.newPlot(\n",
       "                        '862999af-1521-452a-8545-8b90cae4ce6a',\n",
       "                        [{\"marker\": {\"color\": [18.0, 15.0, 18.0, 16.0, 17.0, 15.0, 14.0, 14.0, 14.0, 15.0, 15.0, 14.0, 15.0, 14.0, 24.0, 22.0, 18.0, 21.0, 27.0, 26.0, 25.0, 24.0, 25.0, 26.0, 21.0, 10.0, 10.0, 11.0, 9.0, 27.0, 28.0, 25.0, 25.0, 19.0, 16.0, 17.0, 19.0, 18.0, 14.0, 14.0, 14.0, 14.0, 12.0, 13.0, 13.0, 18.0, 22.0, 19.0, 18.0, 23.0, 28.0, 30.0, 30.0, 31.0, 35.0, 27.0, 26.0, 24.0, 25.0, 23.0, 20.0, 21.0, 13.0, 14.0, 15.0, 14.0, 17.0, 11.0, 13.0, 12.0, 13.0, 19.0, 15.0, 13.0, 13.0, 14.0, 18.0, 22.0, 21.0, 26.0, 22.0, 28.0, 23.0, 28.0, 27.0, 13.0, 14.0, 13.0, 14.0, 15.0, 12.0, 13.0, 13.0, 14.0, 13.0, 12.0, 13.0, 18.0, 16.0, 18.0, 18.0, 23.0, 26.0, 11.0, 12.0, 13.0, 12.0, 18.0, 20.0, 21.0, 22.0, 18.0, 19.0, 21.0, 26.0, 15.0, 16.0, 29.0, 24.0, 20.0, 19.0, 15.0, 24.0, 20.0, 11.0, 20.0, 21.0, 19.0, 15.0, 31.0, 26.0, 32.0, 25.0, 16.0, 16.0, 18.0, 16.0, 13.0, 14.0, 14.0, 14.0, 29.0, 26.0, 26.0, 31.0, 32.0, 28.0, 24.0, 26.0, 24.0, 26.0, 31.0, 19.0, 18.0, 15.0, 15.0, 16.0, 15.0, 16.0, 14.0, 17.0, 16.0, 15.0, 18.0, 21.0, 20.0, 13.0, 29.0, 23.0, 20.0, 23.0, 24.0, 25.0, 24.0, 18.0, 29.0, 19.0, 23.0, 23.0, 22.0, 25.0, 33.0, 28.0, 25.0, 25.0, 26.0, 27.0, 17.5, 16.0, 15.5, 14.5, 22.0, 22.0, 24.0, 22.5, 29.0, 24.5, 29.0, 33.0, 20.0, 18.0, 18.5, 17.5, 29.5, 32.0, 28.0, 26.5, 20.0, 13.0, 19.0, 19.0, 16.5, 16.5, 13.0, 13.0, 13.0, 31.5, 30.0, 36.0, 25.5, 33.5, 17.5, 17.0, 15.5, 15.0, 17.5, 20.5, 19.0, 18.5, 16.0, 15.5, 15.5, 16.0, 29.0, 24.5, 26.0, 25.5, 30.5, 33.5, 30.0, 30.5, 22.0, 21.5, 21.5, 43.1, 36.1, 32.8, 39.4, 36.1, 19.9, 19.4, 20.2, 19.2, 20.5, 20.2, 25.1, 20.5, 19.4, 20.6, 20.8, 18.6, 18.1, 19.2, 17.7, 18.1, 17.5, 30.0, 27.5, 27.2, 30.9, 21.1, 23.2, 23.8, 23.9, 20.3, 17.0, 21.6, 16.2, 31.5, 29.5, 21.5, 19.8, 22.3, 20.2, 20.6, 17.0, 17.6, 16.5, 18.2, 16.9, 15.5, 19.2, 18.5, 31.9, 34.1, 35.7, 27.4, 25.4, 23.0, 27.2, 23.9, 34.2, 34.5, 31.8, 37.3, 28.4, 28.8, 26.8, 33.5, 41.5, 38.1, 32.1, 37.2, 28.0, 26.4, 24.3, 19.1, 34.3, 29.8, 31.3, 37.0, 32.2, 46.6, 27.9, 40.8, 44.3, 43.4, 36.4, 30.0, 44.6, 40.9, 33.8, 29.8, 32.7, 23.7, 35.0, 23.6, 32.4, 27.2, 26.6, 25.8, 23.5, 30.0, 39.1, 39.0, 35.1, 32.3, 37.0, 37.7, 34.1, 34.7, 34.4, 29.9, 33.0, 34.5, 33.7, 32.4, 32.9, 31.6, 28.1, 30.7, 25.4, 24.2, 22.4, 26.6, 20.2, 17.6, 28.0, 27.0, 34.0, 31.0, 29.0, 27.0, 24.0, 23.0, 36.0, 37.0, 31.0, 38.0, 36.0, 36.0, 36.0, 34.0, 38.0, 32.0, 38.0, 25.0, 38.0, 26.0, 22.0, 32.0, 36.0, 27.0, 27.0, 44.0, 32.0, 28.0, 31.0], \"colorscale\": [[0.0, \"rgb(0,0,131)\"], [0.2, \"rgb(0,60,170)\"], [0.4, \"rgb(5,255,255)\"], [0.6, \"rgb(255,255,0)\"], [0.8, \"rgb(250,0,0)\"], [1.0, \"rgb(128,0,0)\"]], \"showscale\": true}, \"type\": \"bar\", \"x\": [\"mazda glc\", \"honda civic 1500 gl\", \"vw rabbit c (diesel)\", \"vw pickup\", \"vw dasher (diesel)\", \"volkswagen rabbit custom diesel\", \"vw rabbit\", \"renault lecar deluxe\", \"datsun 210\", \"datsun b210 gx\", \"toyota starlet\", \"plymouth champ\", \"toyota corolla tercel\", \"plymouth horizon miser\", \"honda civic\"], \"y\": [46.6, 44.6, 44.3, 44.0, 43.4, 43.1, 41.5, 40.9, 40.8, 39.4, 39.1, 39.0, 38.1, 38.0, 38.0]}],\n",
       "                        {\"template\": {\"data\": {\"bar\": [{\"error_x\": {\"color\": \"#2a3f5f\"}, \"error_y\": {\"color\": \"#2a3f5f\"}, \"marker\": {\"line\": {\"color\": \"#E5ECF6\", \"width\": 0.5}}, \"type\": \"bar\"}], \"barpolar\": [{\"marker\": {\"line\": {\"color\": \"#E5ECF6\", \"width\": 0.5}}, \"type\": \"barpolar\"}], \"carpet\": [{\"aaxis\": {\"endlinecolor\": \"#2a3f5f\", \"gridcolor\": \"white\", \"linecolor\": \"white\", \"minorgridcolor\": \"white\", \"startlinecolor\": \"#2a3f5f\"}, \"baxis\": {\"endlinecolor\": \"#2a3f5f\", \"gridcolor\": \"white\", \"linecolor\": \"white\", \"minorgridcolor\": \"white\", \"startlinecolor\": \"#2a3f5f\"}, \"type\": \"carpet\"}], \"choropleth\": [{\"colorbar\": {\"outlinewidth\": 0, \"ticks\": \"\"}, \"type\": \"choropleth\"}], \"contour\": [{\"colorbar\": {\"outlinewidth\": 0, \"ticks\": \"\"}, \"colorscale\": [[0.0, \"#0d0887\"], [0.1111111111111111, \"#46039f\"], [0.2222222222222222, \"#7201a8\"], [0.3333333333333333, \"#9c179e\"], [0.4444444444444444, \"#bd3786\"], [0.5555555555555556, \"#d8576b\"], [0.6666666666666666, \"#ed7953\"], [0.7777777777777778, \"#fb9f3a\"], [0.8888888888888888, \"#fdca26\"], [1.0, \"#f0f921\"]], \"type\": \"contour\"}], \"contourcarpet\": [{\"colorbar\": {\"outlinewidth\": 0, \"ticks\": \"\"}, \"type\": \"contourcarpet\"}], \"heatmap\": [{\"colorbar\": {\"outlinewidth\": 0, \"ticks\": \"\"}, \"colorscale\": [[0.0, \"#0d0887\"], [0.1111111111111111, \"#46039f\"], [0.2222222222222222, \"#7201a8\"], [0.3333333333333333, \"#9c179e\"], [0.4444444444444444, \"#bd3786\"], [0.5555555555555556, \"#d8576b\"], [0.6666666666666666, \"#ed7953\"], [0.7777777777777778, \"#fb9f3a\"], [0.8888888888888888, \"#fdca26\"], [1.0, \"#f0f921\"]], \"type\": \"heatmap\"}], \"heatmapgl\": [{\"colorbar\": {\"outlinewidth\": 0, \"ticks\": \"\"}, \"colorscale\": [[0.0, \"#0d0887\"], [0.1111111111111111, \"#46039f\"], [0.2222222222222222, \"#7201a8\"], [0.3333333333333333, \"#9c179e\"], [0.4444444444444444, \"#bd3786\"], [0.5555555555555556, \"#d8576b\"], [0.6666666666666666, \"#ed7953\"], [0.7777777777777778, \"#fb9f3a\"], [0.8888888888888888, \"#fdca26\"], [1.0, \"#f0f921\"]], \"type\": \"heatmapgl\"}], \"histogram\": [{\"marker\": {\"colorbar\": {\"outlinewidth\": 0, \"ticks\": \"\"}}, \"type\": \"histogram\"}], \"histogram2d\": [{\"colorbar\": {\"outlinewidth\": 0, \"ticks\": \"\"}, \"colorscale\": [[0.0, \"#0d0887\"], [0.1111111111111111, \"#46039f\"], [0.2222222222222222, \"#7201a8\"], [0.3333333333333333, \"#9c179e\"], [0.4444444444444444, \"#bd3786\"], [0.5555555555555556, \"#d8576b\"], [0.6666666666666666, \"#ed7953\"], [0.7777777777777778, \"#fb9f3a\"], [0.8888888888888888, \"#fdca26\"], [1.0, \"#f0f921\"]], \"type\": \"histogram2d\"}], \"histogram2dcontour\": [{\"colorbar\": {\"outlinewidth\": 0, \"ticks\": \"\"}, \"colorscale\": [[0.0, \"#0d0887\"], [0.1111111111111111, \"#46039f\"], [0.2222222222222222, \"#7201a8\"], [0.3333333333333333, \"#9c179e\"], [0.4444444444444444, \"#bd3786\"], [0.5555555555555556, \"#d8576b\"], [0.6666666666666666, \"#ed7953\"], [0.7777777777777778, \"#fb9f3a\"], [0.8888888888888888, \"#fdca26\"], [1.0, \"#f0f921\"]], \"type\": \"histogram2dcontour\"}], \"mesh3d\": [{\"colorbar\": {\"outlinewidth\": 0, \"ticks\": \"\"}, \"type\": \"mesh3d\"}], \"parcoords\": [{\"line\": {\"colorbar\": {\"outlinewidth\": 0, \"ticks\": \"\"}}, \"type\": \"parcoords\"}], \"pie\": [{\"automargin\": true, \"type\": \"pie\"}], \"scatter\": [{\"marker\": {\"colorbar\": {\"outlinewidth\": 0, \"ticks\": \"\"}}, \"type\": \"scatter\"}], \"scatter3d\": [{\"line\": {\"colorbar\": {\"outlinewidth\": 0, \"ticks\": \"\"}}, \"marker\": {\"colorbar\": {\"outlinewidth\": 0, \"ticks\": \"\"}}, \"type\": \"scatter3d\"}], \"scattercarpet\": [{\"marker\": {\"colorbar\": {\"outlinewidth\": 0, \"ticks\": \"\"}}, \"type\": \"scattercarpet\"}], \"scattergeo\": [{\"marker\": {\"colorbar\": {\"outlinewidth\": 0, \"ticks\": \"\"}}, \"type\": \"scattergeo\"}], \"scattergl\": [{\"marker\": {\"colorbar\": {\"outlinewidth\": 0, \"ticks\": \"\"}}, \"type\": \"scattergl\"}], \"scattermapbox\": [{\"marker\": {\"colorbar\": {\"outlinewidth\": 0, \"ticks\": \"\"}}, \"type\": \"scattermapbox\"}], \"scatterpolar\": [{\"marker\": {\"colorbar\": {\"outlinewidth\": 0, \"ticks\": \"\"}}, \"type\": \"scatterpolar\"}], \"scatterpolargl\": [{\"marker\": {\"colorbar\": {\"outlinewidth\": 0, \"ticks\": \"\"}}, \"type\": \"scatterpolargl\"}], \"scatterternary\": [{\"marker\": {\"colorbar\": {\"outlinewidth\": 0, \"ticks\": \"\"}}, \"type\": \"scatterternary\"}], \"surface\": [{\"colorbar\": {\"outlinewidth\": 0, \"ticks\": \"\"}, \"colorscale\": [[0.0, \"#0d0887\"], [0.1111111111111111, \"#46039f\"], [0.2222222222222222, \"#7201a8\"], [0.3333333333333333, \"#9c179e\"], [0.4444444444444444, \"#bd3786\"], [0.5555555555555556, \"#d8576b\"], [0.6666666666666666, \"#ed7953\"], [0.7777777777777778, \"#fb9f3a\"], [0.8888888888888888, \"#fdca26\"], [1.0, \"#f0f921\"]], \"type\": \"surface\"}], \"table\": [{\"cells\": {\"fill\": {\"color\": \"#EBF0F8\"}, \"line\": {\"color\": \"white\"}}, \"header\": {\"fill\": {\"color\": \"#C8D4E3\"}, \"line\": {\"color\": \"white\"}}, \"type\": \"table\"}]}, \"layout\": {\"annotationdefaults\": {\"arrowcolor\": \"#2a3f5f\", \"arrowhead\": 0, \"arrowwidth\": 1}, \"coloraxis\": {\"colorbar\": {\"outlinewidth\": 0, \"ticks\": \"\"}}, \"colorscale\": {\"diverging\": [[0, \"#8e0152\"], [0.1, \"#c51b7d\"], [0.2, \"#de77ae\"], [0.3, \"#f1b6da\"], [0.4, \"#fde0ef\"], [0.5, \"#f7f7f7\"], [0.6, \"#e6f5d0\"], [0.7, \"#b8e186\"], [0.8, \"#7fbc41\"], [0.9, \"#4d9221\"], [1, \"#276419\"]], \"sequential\": [[0.0, \"#0d0887\"], [0.1111111111111111, \"#46039f\"], [0.2222222222222222, \"#7201a8\"], [0.3333333333333333, \"#9c179e\"], [0.4444444444444444, \"#bd3786\"], [0.5555555555555556, \"#d8576b\"], [0.6666666666666666, \"#ed7953\"], [0.7777777777777778, \"#fb9f3a\"], [0.8888888888888888, \"#fdca26\"], [1.0, \"#f0f921\"]], \"sequentialminus\": [[0.0, \"#0d0887\"], [0.1111111111111111, \"#46039f\"], [0.2222222222222222, \"#7201a8\"], [0.3333333333333333, \"#9c179e\"], [0.4444444444444444, \"#bd3786\"], [0.5555555555555556, \"#d8576b\"], [0.6666666666666666, \"#ed7953\"], [0.7777777777777778, \"#fb9f3a\"], [0.8888888888888888, \"#fdca26\"], [1.0, \"#f0f921\"]]}, \"colorway\": [\"#636efa\", \"#EF553B\", \"#00cc96\", \"#ab63fa\", \"#FFA15A\", \"#19d3f3\", \"#FF6692\", \"#B6E880\", \"#FF97FF\", \"#FECB52\"], \"font\": {\"color\": \"#2a3f5f\"}, \"geo\": {\"bgcolor\": \"white\", \"lakecolor\": \"white\", \"landcolor\": \"#E5ECF6\", \"showlakes\": true, \"showland\": true, \"subunitcolor\": \"white\"}, \"hoverlabel\": {\"align\": \"left\"}, \"hovermode\": \"closest\", \"mapbox\": {\"style\": \"light\"}, \"paper_bgcolor\": \"white\", \"plot_bgcolor\": \"#E5ECF6\", \"polar\": {\"angularaxis\": {\"gridcolor\": \"white\", \"linecolor\": \"white\", \"ticks\": \"\"}, \"bgcolor\": \"#E5ECF6\", \"radialaxis\": {\"gridcolor\": \"white\", \"linecolor\": \"white\", \"ticks\": \"\"}}, \"scene\": {\"xaxis\": {\"backgroundcolor\": \"#E5ECF6\", \"gridcolor\": \"white\", \"gridwidth\": 2, \"linecolor\": \"white\", \"showbackground\": true, \"ticks\": \"\", \"zerolinecolor\": \"white\"}, \"yaxis\": {\"backgroundcolor\": \"#E5ECF6\", \"gridcolor\": \"white\", \"gridwidth\": 2, \"linecolor\": \"white\", \"showbackground\": true, \"ticks\": \"\", \"zerolinecolor\": \"white\"}, \"zaxis\": {\"backgroundcolor\": \"#E5ECF6\", \"gridcolor\": \"white\", \"gridwidth\": 2, \"linecolor\": \"white\", \"showbackground\": true, \"ticks\": \"\", \"zerolinecolor\": \"white\"}}, \"shapedefaults\": {\"line\": {\"color\": \"#2a3f5f\"}}, \"ternary\": {\"aaxis\": {\"gridcolor\": \"white\", \"linecolor\": \"white\", \"ticks\": \"\"}, \"baxis\": {\"gridcolor\": \"white\", \"linecolor\": \"white\", \"ticks\": \"\"}, \"bgcolor\": \"#E5ECF6\", \"caxis\": {\"gridcolor\": \"white\", \"linecolor\": \"white\", \"ticks\": \"\"}}, \"title\": {\"x\": 0.05}, \"xaxis\": {\"automargin\": true, \"gridcolor\": \"white\", \"linecolor\": \"white\", \"ticks\": \"\", \"title\": {\"standoff\": 15}, \"zerolinecolor\": \"white\", \"zerolinewidth\": 2}, \"yaxis\": {\"automargin\": true, \"gridcolor\": \"white\", \"linecolor\": \"white\", \"ticks\": \"\", \"title\": {\"standoff\": 15}, \"zerolinecolor\": \"white\", \"zerolinewidth\": 2}}}, \"title\": {\"text\": \"Car Mileage Distribution :: Most Fuel Efficient Cars (Top 15)\"}, \"yaxis\": {\"title\": {\"text\": \"Fuel Efficiency\"}}},\n",
       "                        {\"responsive\": true}\n",
       "                    ).then(function(){\n",
       "                            \n",
       "var gd = document.getElementById('862999af-1521-452a-8545-8b90cae4ce6a');\n",
       "var x = new MutationObserver(function (mutations, observer) {{\n",
       "        var display = window.getComputedStyle(gd).display;\n",
       "        if (!display || display === 'none') {{\n",
       "            console.log([gd, 'removed!']);\n",
       "            Plotly.purge(gd);\n",
       "            observer.disconnect();\n",
       "        }}\n",
       "}});\n",
       "\n",
       "// Listen for the removal of the full notebook cells\n",
       "var notebookContainer = gd.closest('#notebook-container');\n",
       "if (notebookContainer) {{\n",
       "    x.observe(notebookContainer, {childList: true});\n",
       "}}\n",
       "\n",
       "// Listen for the clearing of the current output cell\n",
       "var outputEl = gd.closest('.output');\n",
       "if (outputEl) {{\n",
       "    x.observe(outputEl, {childList: true});\n",
       "}}\n",
       "\n",
       "                        })\n",
       "                };\n",
       "                });\n",
       "            </script>\n",
       "        </div>"
      ]
     },
     "metadata": {},
     "output_type": "display_data"
    },
    {
     "data": {
      "text/html": [
       "<div>\n",
       "<style scoped>\n",
       "    .dataframe tbody tr th:only-of-type {\n",
       "        vertical-align: middle;\n",
       "    }\n",
       "\n",
       "    .dataframe tbody tr th {\n",
       "        vertical-align: top;\n",
       "    }\n",
       "\n",
       "    .dataframe thead th {\n",
       "        text-align: right;\n",
       "    }\n",
       "</style>\n",
       "<table border=\"1\" class=\"dataframe\">\n",
       "  <thead>\n",
       "    <tr style=\"text-align: right;\">\n",
       "      <th></th>\n",
       "      <th>mpg</th>\n",
       "      <th>cylinders</th>\n",
       "      <th>displacement</th>\n",
       "      <th>horsepower</th>\n",
       "      <th>weight</th>\n",
       "      <th>acceleration</th>\n",
       "      <th>model year</th>\n",
       "      <th>car name</th>\n",
       "      <th>USA</th>\n",
       "      <th>Europe</th>\n",
       "      <th>Japan</th>\n",
       "      <th>Continent</th>\n",
       "    </tr>\n",
       "  </thead>\n",
       "  <tbody>\n",
       "    <tr>\n",
       "      <th>0</th>\n",
       "      <td>18.0</td>\n",
       "      <td>8</td>\n",
       "      <td>307.0</td>\n",
       "      <td>130.0</td>\n",
       "      <td>3504</td>\n",
       "      <td>12.0</td>\n",
       "      <td>70</td>\n",
       "      <td>chevrolet chevelle malibu</td>\n",
       "      <td>1.0</td>\n",
       "      <td>0.0</td>\n",
       "      <td>0.0</td>\n",
       "      <td>USA</td>\n",
       "    </tr>\n",
       "    <tr>\n",
       "      <th>1</th>\n",
       "      <td>15.0</td>\n",
       "      <td>8</td>\n",
       "      <td>350.0</td>\n",
       "      <td>165.0</td>\n",
       "      <td>3693</td>\n",
       "      <td>11.5</td>\n",
       "      <td>70</td>\n",
       "      <td>buick skylark 320</td>\n",
       "      <td>1.0</td>\n",
       "      <td>0.0</td>\n",
       "      <td>0.0</td>\n",
       "      <td>USA</td>\n",
       "    </tr>\n",
       "    <tr>\n",
       "      <th>2</th>\n",
       "      <td>18.0</td>\n",
       "      <td>8</td>\n",
       "      <td>318.0</td>\n",
       "      <td>150.0</td>\n",
       "      <td>3436</td>\n",
       "      <td>11.0</td>\n",
       "      <td>70</td>\n",
       "      <td>plymouth satellite</td>\n",
       "      <td>1.0</td>\n",
       "      <td>0.0</td>\n",
       "      <td>0.0</td>\n",
       "      <td>USA</td>\n",
       "    </tr>\n",
       "    <tr>\n",
       "      <th>3</th>\n",
       "      <td>16.0</td>\n",
       "      <td>8</td>\n",
       "      <td>304.0</td>\n",
       "      <td>150.0</td>\n",
       "      <td>3433</td>\n",
       "      <td>12.0</td>\n",
       "      <td>70</td>\n",
       "      <td>amc rebel sst</td>\n",
       "      <td>1.0</td>\n",
       "      <td>0.0</td>\n",
       "      <td>0.0</td>\n",
       "      <td>USA</td>\n",
       "    </tr>\n",
       "    <tr>\n",
       "      <th>4</th>\n",
       "      <td>17.0</td>\n",
       "      <td>8</td>\n",
       "      <td>302.0</td>\n",
       "      <td>140.0</td>\n",
       "      <td>3449</td>\n",
       "      <td>10.5</td>\n",
       "      <td>70</td>\n",
       "      <td>ford torino</td>\n",
       "      <td>1.0</td>\n",
       "      <td>0.0</td>\n",
       "      <td>0.0</td>\n",
       "      <td>USA</td>\n",
       "    </tr>\n",
       "  </tbody>\n",
       "</table>\n",
       "</div>"
      ],
      "text/plain": [
       "    mpg  cylinders  displacement  horsepower  weight  acceleration  \\\n",
       "0  18.0          8         307.0       130.0    3504          12.0   \n",
       "1  15.0          8         350.0       165.0    3693          11.5   \n",
       "2  18.0          8         318.0       150.0    3436          11.0   \n",
       "3  16.0          8         304.0       150.0    3433          12.0   \n",
       "4  17.0          8         302.0       140.0    3449          10.5   \n",
       "\n",
       "   model year                   car name  USA  Europe  Japan Continent  \n",
       "0          70  chevrolet chevelle malibu  1.0     0.0    0.0       USA  \n",
       "1          70          buick skylark 320  1.0     0.0    0.0       USA  \n",
       "2          70         plymouth satellite  1.0     0.0    0.0       USA  \n",
       "3          70              amc rebel sst  1.0     0.0    0.0       USA  \n",
       "4          70                ford torino  1.0     0.0    0.0       USA  "
      ]
     },
     "execution_count": 125,
     "metadata": {},
     "output_type": "execute_result"
    }
   ],
   "source": [
    "#age_count = df[\"Age\"].dropna().value_counts()\n",
    "top_fifteen_train_dataset = cars.nlargest(15, 'mpg')\n",
    "train_car_names = top_fifteen_train_dataset[\"car name\"].dropna()\n",
    "train_car_mileage = top_fifteen_train_dataset[\"mpg\"].dropna()\n",
    "print(train_car_mileage)\n",
    "trace = go.Bar(x = train_car_names,\n",
    "              y = train_car_mileage, \n",
    "              marker = dict(color = cars[\"mpg\"],\n",
    "                           colorscale = \"Jet\", \n",
    "                           showscale = True))\n",
    "layout = go.Layout(title = \"Car Mileage Distribution :: Most Fuel Efficient Cars (Top 15)\", \n",
    "                  yaxis = dict(title = \"Fuel Efficiency\"))\n",
    "data = [trace]\n",
    "fig = go.Figure(data = data, layout = layout)\n",
    "py.iplot(fig)\n"
   ]
  },
  {
   "cell_type": "code",
   "execution_count": 126,
   "metadata": {},
   "outputs": [
    {
     "data": {
      "application/vnd.plotly.v1+json": {
       "config": {
        "linkText": "Export to plot.ly",
        "plotlyServerURL": "https://plot.ly",
        "showLink": false
       },
       "data": [
        {
         "fillcolor": "aqua",
         "name": "USA",
         "type": "box",
         "y": [
          18,
          15,
          18,
          16,
          17,
          15,
          14,
          14,
          14,
          15,
          15,
          14,
          15,
          14,
          22,
          18,
          21,
          21,
          10,
          10,
          11,
          9,
          28,
          25,
          19,
          16,
          17,
          19,
          18,
          14,
          14,
          14,
          14,
          12,
          13,
          13,
          18,
          22,
          19,
          18,
          23,
          26,
          25,
          20,
          21,
          13,
          14,
          15,
          14,
          17,
          11,
          13,
          12,
          13,
          15,
          13,
          13,
          14,
          22,
          28,
          13,
          14,
          13,
          14,
          15,
          12,
          13,
          13,
          14,
          13,
          12,
          13,
          18,
          16,
          18,
          18,
          23,
          11,
          12,
          13,
          12,
          18,
          21,
          19,
          21,
          15,
          16,
          15,
          11,
          20,
          21,
          19,
          15,
          26,
          25,
          16,
          16,
          18,
          16,
          13,
          14,
          14,
          14,
          28,
          19,
          18,
          15,
          15,
          16,
          15,
          16,
          14,
          17,
          16,
          15,
          18,
          21,
          20,
          13,
          23,
          20,
          23,
          18,
          19,
          25,
          26,
          17.5,
          16,
          15.5,
          14.5,
          22,
          22,
          24,
          22.5,
          29,
          24.5,
          20,
          18,
          18.5,
          17.5,
          26.5,
          13,
          16.5,
          13,
          13,
          13,
          30,
          25.5,
          17.5,
          17,
          15.5,
          15,
          17.5,
          20.5,
          19,
          18.5,
          16,
          15.5,
          15.5,
          16,
          24.5,
          25.5,
          30.5,
          33.5,
          36.1,
          19.9,
          19.4,
          20.2,
          19.2,
          20.5,
          20.2,
          25.1,
          20.5,
          19.4,
          20.6,
          20.8,
          18.6,
          18.1,
          19.2,
          17.7,
          18.1,
          17.5,
          30,
          30.9,
          23.2,
          23.8,
          21.5,
          19.8,
          22.3,
          20.2,
          20.6,
          17,
          17.6,
          16.5,
          18.2,
          16.9,
          15.5,
          19.2,
          18.5,
          35.7,
          27.4,
          23,
          23.9,
          34.2,
          34.5,
          28.4,
          28.8,
          26.8,
          33.5,
          32.1,
          28,
          26.4,
          24.3,
          19.1,
          27.9,
          23.6,
          27.2,
          26.6,
          25.8,
          23.5,
          30,
          39,
          34.7,
          34.4,
          29.9,
          22.4,
          26.6,
          20.2,
          17.6,
          28,
          27,
          34,
          31,
          29,
          27,
          24,
          23,
          38,
          36,
          25,
          38,
          26,
          22,
          36,
          27,
          27,
          32,
          28,
          31
         ]
        },
        {
         "fillcolor": "pink",
         "name": "Europe",
         "type": "box",
         "y": [
          26,
          25,
          24,
          25,
          26,
          28,
          30,
          30,
          27,
          23,
          18,
          22,
          21,
          26,
          26,
          26,
          29,
          24,
          20,
          19,
          24,
          29,
          26,
          26,
          24,
          26,
          31,
          25,
          29,
          23,
          23,
          22,
          25,
          28,
          25,
          27,
          29,
          29.5,
          20,
          19,
          16.5,
          36,
          29,
          30.5,
          21.5,
          43.1,
          20.3,
          17,
          21.6,
          16.2,
          31.5,
          31.9,
          25.4,
          27.2,
          37.3,
          41.5,
          34.3,
          44.3,
          43.4,
          36.4,
          30,
          40.9,
          29.8,
          35,
          33,
          34.5,
          28.1,
          30.7,
          36,
          44
         ]
        },
        {
         "fillcolor": "teal",
         "name": "Japan",
         "type": "box",
         "y": [
          24,
          27,
          27,
          25,
          31,
          35,
          24,
          19,
          28,
          23,
          27,
          20,
          22,
          18,
          20,
          31,
          32,
          31,
          32,
          24,
          26,
          29,
          24,
          24,
          33,
          33,
          32,
          28,
          19,
          31.5,
          33.5,
          26,
          30,
          22,
          21.5,
          32.8,
          39.4,
          36.1,
          27.5,
          27.2,
          21.1,
          23.9,
          29.5,
          34.1,
          31.8,
          38.1,
          37.2,
          29.8,
          31.3,
          37,
          32.2,
          46.6,
          40.8,
          44.6,
          33.8,
          32.7,
          23.7,
          32.4,
          39.1,
          35.1,
          32.3,
          37,
          37.7,
          34.1,
          33.7,
          32.4,
          32.9,
          31.6,
          25.4,
          24.2,
          37,
          31,
          36,
          36,
          34,
          38,
          32,
          38,
          32
         ]
        }
       ],
       "layout": {
        "template": {
         "data": {
          "bar": [
           {
            "error_x": {
             "color": "#2a3f5f"
            },
            "error_y": {
             "color": "#2a3f5f"
            },
            "marker": {
             "line": {
              "color": "#E5ECF6",
              "width": 0.5
             }
            },
            "type": "bar"
           }
          ],
          "barpolar": [
           {
            "marker": {
             "line": {
              "color": "#E5ECF6",
              "width": 0.5
             }
            },
            "type": "barpolar"
           }
          ],
          "carpet": [
           {
            "aaxis": {
             "endlinecolor": "#2a3f5f",
             "gridcolor": "white",
             "linecolor": "white",
             "minorgridcolor": "white",
             "startlinecolor": "#2a3f5f"
            },
            "baxis": {
             "endlinecolor": "#2a3f5f",
             "gridcolor": "white",
             "linecolor": "white",
             "minorgridcolor": "white",
             "startlinecolor": "#2a3f5f"
            },
            "type": "carpet"
           }
          ],
          "choropleth": [
           {
            "colorbar": {
             "outlinewidth": 0,
             "ticks": ""
            },
            "type": "choropleth"
           }
          ],
          "contour": [
           {
            "colorbar": {
             "outlinewidth": 0,
             "ticks": ""
            },
            "colorscale": [
             [
              0,
              "#0d0887"
             ],
             [
              0.1111111111111111,
              "#46039f"
             ],
             [
              0.2222222222222222,
              "#7201a8"
             ],
             [
              0.3333333333333333,
              "#9c179e"
             ],
             [
              0.4444444444444444,
              "#bd3786"
             ],
             [
              0.5555555555555556,
              "#d8576b"
             ],
             [
              0.6666666666666666,
              "#ed7953"
             ],
             [
              0.7777777777777778,
              "#fb9f3a"
             ],
             [
              0.8888888888888888,
              "#fdca26"
             ],
             [
              1,
              "#f0f921"
             ]
            ],
            "type": "contour"
           }
          ],
          "contourcarpet": [
           {
            "colorbar": {
             "outlinewidth": 0,
             "ticks": ""
            },
            "type": "contourcarpet"
           }
          ],
          "heatmap": [
           {
            "colorbar": {
             "outlinewidth": 0,
             "ticks": ""
            },
            "colorscale": [
             [
              0,
              "#0d0887"
             ],
             [
              0.1111111111111111,
              "#46039f"
             ],
             [
              0.2222222222222222,
              "#7201a8"
             ],
             [
              0.3333333333333333,
              "#9c179e"
             ],
             [
              0.4444444444444444,
              "#bd3786"
             ],
             [
              0.5555555555555556,
              "#d8576b"
             ],
             [
              0.6666666666666666,
              "#ed7953"
             ],
             [
              0.7777777777777778,
              "#fb9f3a"
             ],
             [
              0.8888888888888888,
              "#fdca26"
             ],
             [
              1,
              "#f0f921"
             ]
            ],
            "type": "heatmap"
           }
          ],
          "heatmapgl": [
           {
            "colorbar": {
             "outlinewidth": 0,
             "ticks": ""
            },
            "colorscale": [
             [
              0,
              "#0d0887"
             ],
             [
              0.1111111111111111,
              "#46039f"
             ],
             [
              0.2222222222222222,
              "#7201a8"
             ],
             [
              0.3333333333333333,
              "#9c179e"
             ],
             [
              0.4444444444444444,
              "#bd3786"
             ],
             [
              0.5555555555555556,
              "#d8576b"
             ],
             [
              0.6666666666666666,
              "#ed7953"
             ],
             [
              0.7777777777777778,
              "#fb9f3a"
             ],
             [
              0.8888888888888888,
              "#fdca26"
             ],
             [
              1,
              "#f0f921"
             ]
            ],
            "type": "heatmapgl"
           }
          ],
          "histogram": [
           {
            "marker": {
             "colorbar": {
              "outlinewidth": 0,
              "ticks": ""
             }
            },
            "type": "histogram"
           }
          ],
          "histogram2d": [
           {
            "colorbar": {
             "outlinewidth": 0,
             "ticks": ""
            },
            "colorscale": [
             [
              0,
              "#0d0887"
             ],
             [
              0.1111111111111111,
              "#46039f"
             ],
             [
              0.2222222222222222,
              "#7201a8"
             ],
             [
              0.3333333333333333,
              "#9c179e"
             ],
             [
              0.4444444444444444,
              "#bd3786"
             ],
             [
              0.5555555555555556,
              "#d8576b"
             ],
             [
              0.6666666666666666,
              "#ed7953"
             ],
             [
              0.7777777777777778,
              "#fb9f3a"
             ],
             [
              0.8888888888888888,
              "#fdca26"
             ],
             [
              1,
              "#f0f921"
             ]
            ],
            "type": "histogram2d"
           }
          ],
          "histogram2dcontour": [
           {
            "colorbar": {
             "outlinewidth": 0,
             "ticks": ""
            },
            "colorscale": [
             [
              0,
              "#0d0887"
             ],
             [
              0.1111111111111111,
              "#46039f"
             ],
             [
              0.2222222222222222,
              "#7201a8"
             ],
             [
              0.3333333333333333,
              "#9c179e"
             ],
             [
              0.4444444444444444,
              "#bd3786"
             ],
             [
              0.5555555555555556,
              "#d8576b"
             ],
             [
              0.6666666666666666,
              "#ed7953"
             ],
             [
              0.7777777777777778,
              "#fb9f3a"
             ],
             [
              0.8888888888888888,
              "#fdca26"
             ],
             [
              1,
              "#f0f921"
             ]
            ],
            "type": "histogram2dcontour"
           }
          ],
          "mesh3d": [
           {
            "colorbar": {
             "outlinewidth": 0,
             "ticks": ""
            },
            "type": "mesh3d"
           }
          ],
          "parcoords": [
           {
            "line": {
             "colorbar": {
              "outlinewidth": 0,
              "ticks": ""
             }
            },
            "type": "parcoords"
           }
          ],
          "pie": [
           {
            "automargin": true,
            "type": "pie"
           }
          ],
          "scatter": [
           {
            "marker": {
             "colorbar": {
              "outlinewidth": 0,
              "ticks": ""
             }
            },
            "type": "scatter"
           }
          ],
          "scatter3d": [
           {
            "line": {
             "colorbar": {
              "outlinewidth": 0,
              "ticks": ""
             }
            },
            "marker": {
             "colorbar": {
              "outlinewidth": 0,
              "ticks": ""
             }
            },
            "type": "scatter3d"
           }
          ],
          "scattercarpet": [
           {
            "marker": {
             "colorbar": {
              "outlinewidth": 0,
              "ticks": ""
             }
            },
            "type": "scattercarpet"
           }
          ],
          "scattergeo": [
           {
            "marker": {
             "colorbar": {
              "outlinewidth": 0,
              "ticks": ""
             }
            },
            "type": "scattergeo"
           }
          ],
          "scattergl": [
           {
            "marker": {
             "colorbar": {
              "outlinewidth": 0,
              "ticks": ""
             }
            },
            "type": "scattergl"
           }
          ],
          "scattermapbox": [
           {
            "marker": {
             "colorbar": {
              "outlinewidth": 0,
              "ticks": ""
             }
            },
            "type": "scattermapbox"
           }
          ],
          "scatterpolar": [
           {
            "marker": {
             "colorbar": {
              "outlinewidth": 0,
              "ticks": ""
             }
            },
            "type": "scatterpolar"
           }
          ],
          "scatterpolargl": [
           {
            "marker": {
             "colorbar": {
              "outlinewidth": 0,
              "ticks": ""
             }
            },
            "type": "scatterpolargl"
           }
          ],
          "scatterternary": [
           {
            "marker": {
             "colorbar": {
              "outlinewidth": 0,
              "ticks": ""
             }
            },
            "type": "scatterternary"
           }
          ],
          "surface": [
           {
            "colorbar": {
             "outlinewidth": 0,
             "ticks": ""
            },
            "colorscale": [
             [
              0,
              "#0d0887"
             ],
             [
              0.1111111111111111,
              "#46039f"
             ],
             [
              0.2222222222222222,
              "#7201a8"
             ],
             [
              0.3333333333333333,
              "#9c179e"
             ],
             [
              0.4444444444444444,
              "#bd3786"
             ],
             [
              0.5555555555555556,
              "#d8576b"
             ],
             [
              0.6666666666666666,
              "#ed7953"
             ],
             [
              0.7777777777777778,
              "#fb9f3a"
             ],
             [
              0.8888888888888888,
              "#fdca26"
             ],
             [
              1,
              "#f0f921"
             ]
            ],
            "type": "surface"
           }
          ],
          "table": [
           {
            "cells": {
             "fill": {
              "color": "#EBF0F8"
             },
             "line": {
              "color": "white"
             }
            },
            "header": {
             "fill": {
              "color": "#C8D4E3"
             },
             "line": {
              "color": "white"
             }
            },
            "type": "table"
           }
          ]
         },
         "layout": {
          "annotationdefaults": {
           "arrowcolor": "#2a3f5f",
           "arrowhead": 0,
           "arrowwidth": 1
          },
          "coloraxis": {
           "colorbar": {
            "outlinewidth": 0,
            "ticks": ""
           }
          },
          "colorscale": {
           "diverging": [
            [
             0,
             "#8e0152"
            ],
            [
             0.1,
             "#c51b7d"
            ],
            [
             0.2,
             "#de77ae"
            ],
            [
             0.3,
             "#f1b6da"
            ],
            [
             0.4,
             "#fde0ef"
            ],
            [
             0.5,
             "#f7f7f7"
            ],
            [
             0.6,
             "#e6f5d0"
            ],
            [
             0.7,
             "#b8e186"
            ],
            [
             0.8,
             "#7fbc41"
            ],
            [
             0.9,
             "#4d9221"
            ],
            [
             1,
             "#276419"
            ]
           ],
           "sequential": [
            [
             0,
             "#0d0887"
            ],
            [
             0.1111111111111111,
             "#46039f"
            ],
            [
             0.2222222222222222,
             "#7201a8"
            ],
            [
             0.3333333333333333,
             "#9c179e"
            ],
            [
             0.4444444444444444,
             "#bd3786"
            ],
            [
             0.5555555555555556,
             "#d8576b"
            ],
            [
             0.6666666666666666,
             "#ed7953"
            ],
            [
             0.7777777777777778,
             "#fb9f3a"
            ],
            [
             0.8888888888888888,
             "#fdca26"
            ],
            [
             1,
             "#f0f921"
            ]
           ],
           "sequentialminus": [
            [
             0,
             "#0d0887"
            ],
            [
             0.1111111111111111,
             "#46039f"
            ],
            [
             0.2222222222222222,
             "#7201a8"
            ],
            [
             0.3333333333333333,
             "#9c179e"
            ],
            [
             0.4444444444444444,
             "#bd3786"
            ],
            [
             0.5555555555555556,
             "#d8576b"
            ],
            [
             0.6666666666666666,
             "#ed7953"
            ],
            [
             0.7777777777777778,
             "#fb9f3a"
            ],
            [
             0.8888888888888888,
             "#fdca26"
            ],
            [
             1,
             "#f0f921"
            ]
           ]
          },
          "colorway": [
           "#636efa",
           "#EF553B",
           "#00cc96",
           "#ab63fa",
           "#FFA15A",
           "#19d3f3",
           "#FF6692",
           "#B6E880",
           "#FF97FF",
           "#FECB52"
          ],
          "font": {
           "color": "#2a3f5f"
          },
          "geo": {
           "bgcolor": "white",
           "lakecolor": "white",
           "landcolor": "#E5ECF6",
           "showlakes": true,
           "showland": true,
           "subunitcolor": "white"
          },
          "hoverlabel": {
           "align": "left"
          },
          "hovermode": "closest",
          "mapbox": {
           "style": "light"
          },
          "paper_bgcolor": "white",
          "plot_bgcolor": "#E5ECF6",
          "polar": {
           "angularaxis": {
            "gridcolor": "white",
            "linecolor": "white",
            "ticks": ""
           },
           "bgcolor": "#E5ECF6",
           "radialaxis": {
            "gridcolor": "white",
            "linecolor": "white",
            "ticks": ""
           }
          },
          "scene": {
           "xaxis": {
            "backgroundcolor": "#E5ECF6",
            "gridcolor": "white",
            "gridwidth": 2,
            "linecolor": "white",
            "showbackground": true,
            "ticks": "",
            "zerolinecolor": "white"
           },
           "yaxis": {
            "backgroundcolor": "#E5ECF6",
            "gridcolor": "white",
            "gridwidth": 2,
            "linecolor": "white",
            "showbackground": true,
            "ticks": "",
            "zerolinecolor": "white"
           },
           "zaxis": {
            "backgroundcolor": "#E5ECF6",
            "gridcolor": "white",
            "gridwidth": 2,
            "linecolor": "white",
            "showbackground": true,
            "ticks": "",
            "zerolinecolor": "white"
           }
          },
          "shapedefaults": {
           "line": {
            "color": "#2a3f5f"
           }
          },
          "ternary": {
           "aaxis": {
            "gridcolor": "white",
            "linecolor": "white",
            "ticks": ""
           },
           "baxis": {
            "gridcolor": "white",
            "linecolor": "white",
            "ticks": ""
           },
           "bgcolor": "#E5ECF6",
           "caxis": {
            "gridcolor": "white",
            "linecolor": "white",
            "ticks": ""
           }
          },
          "title": {
           "x": 0.05
          },
          "xaxis": {
           "automargin": true,
           "gridcolor": "white",
           "linecolor": "white",
           "ticks": "",
           "title": {
            "standoff": 15
           },
           "zerolinecolor": "white",
           "zerolinewidth": 2
          },
          "yaxis": {
           "automargin": true,
           "gridcolor": "white",
           "linecolor": "white",
           "ticks": "",
           "title": {
            "standoff": 15
           },
           "zerolinecolor": "white",
           "zerolinewidth": 2
          }
         }
        },
        "title": {
         "text": "Fuel Efficiency Distribution w.r.t Continent :: [Box Plot]"
        },
        "xaxis": {
         "title": {
          "text": "Continent (USA / Europe  /Japan)"
         }
        },
        "yaxis": {
         "title": {
          "text": "Fuel Efficiency (mile per gallon)"
         }
        }
       }
      },
      "text/html": [
       "<div>\n",
       "        \n",
       "        \n",
       "            <div id=\"eacb1ce7-c2b0-4f39-8f2b-fa24bc743e28\" class=\"plotly-graph-div\" style=\"height:525px; width:100%;\"></div>\n",
       "            <script type=\"text/javascript\">\n",
       "                require([\"plotly\"], function(Plotly) {\n",
       "                    window.PLOTLYENV=window.PLOTLYENV || {};\n",
       "                    \n",
       "                if (document.getElementById(\"eacb1ce7-c2b0-4f39-8f2b-fa24bc743e28\")) {\n",
       "                    Plotly.newPlot(\n",
       "                        'eacb1ce7-c2b0-4f39-8f2b-fa24bc743e28',\n",
       "                        [{\"fillcolor\": \"aqua\", \"name\": \"USA\", \"type\": \"box\", \"y\": [18.0, 15.0, 18.0, 16.0, 17.0, 15.0, 14.0, 14.0, 14.0, 15.0, 15.0, 14.0, 15.0, 14.0, 22.0, 18.0, 21.0, 21.0, 10.0, 10.0, 11.0, 9.0, 28.0, 25.0, 19.0, 16.0, 17.0, 19.0, 18.0, 14.0, 14.0, 14.0, 14.0, 12.0, 13.0, 13.0, 18.0, 22.0, 19.0, 18.0, 23.0, 26.0, 25.0, 20.0, 21.0, 13.0, 14.0, 15.0, 14.0, 17.0, 11.0, 13.0, 12.0, 13.0, 15.0, 13.0, 13.0, 14.0, 22.0, 28.0, 13.0, 14.0, 13.0, 14.0, 15.0, 12.0, 13.0, 13.0, 14.0, 13.0, 12.0, 13.0, 18.0, 16.0, 18.0, 18.0, 23.0, 11.0, 12.0, 13.0, 12.0, 18.0, 21.0, 19.0, 21.0, 15.0, 16.0, 15.0, 11.0, 20.0, 21.0, 19.0, 15.0, 26.0, 25.0, 16.0, 16.0, 18.0, 16.0, 13.0, 14.0, 14.0, 14.0, 28.0, 19.0, 18.0, 15.0, 15.0, 16.0, 15.0, 16.0, 14.0, 17.0, 16.0, 15.0, 18.0, 21.0, 20.0, 13.0, 23.0, 20.0, 23.0, 18.0, 19.0, 25.0, 26.0, 17.5, 16.0, 15.5, 14.5, 22.0, 22.0, 24.0, 22.5, 29.0, 24.5, 20.0, 18.0, 18.5, 17.5, 26.5, 13.0, 16.5, 13.0, 13.0, 13.0, 30.0, 25.5, 17.5, 17.0, 15.5, 15.0, 17.5, 20.5, 19.0, 18.5, 16.0, 15.5, 15.5, 16.0, 24.5, 25.5, 30.5, 33.5, 36.1, 19.9, 19.4, 20.2, 19.2, 20.5, 20.2, 25.1, 20.5, 19.4, 20.6, 20.8, 18.6, 18.1, 19.2, 17.7, 18.1, 17.5, 30.0, 30.9, 23.2, 23.8, 21.5, 19.8, 22.3, 20.2, 20.6, 17.0, 17.6, 16.5, 18.2, 16.9, 15.5, 19.2, 18.5, 35.7, 27.4, 23.0, 23.9, 34.2, 34.5, 28.4, 28.8, 26.8, 33.5, 32.1, 28.0, 26.4, 24.3, 19.1, 27.9, 23.6, 27.2, 26.6, 25.8, 23.5, 30.0, 39.0, 34.7, 34.4, 29.9, 22.4, 26.6, 20.2, 17.6, 28.0, 27.0, 34.0, 31.0, 29.0, 27.0, 24.0, 23.0, 38.0, 36.0, 25.0, 38.0, 26.0, 22.0, 36.0, 27.0, 27.0, 32.0, 28.0, 31.0]}, {\"fillcolor\": \"pink\", \"name\": \"Europe\", \"type\": \"box\", \"y\": [26.0, 25.0, 24.0, 25.0, 26.0, 28.0, 30.0, 30.0, 27.0, 23.0, 18.0, 22.0, 21.0, 26.0, 26.0, 26.0, 29.0, 24.0, 20.0, 19.0, 24.0, 29.0, 26.0, 26.0, 24.0, 26.0, 31.0, 25.0, 29.0, 23.0, 23.0, 22.0, 25.0, 28.0, 25.0, 27.0, 29.0, 29.5, 20.0, 19.0, 16.5, 36.0, 29.0, 30.5, 21.5, 43.1, 20.3, 17.0, 21.6, 16.2, 31.5, 31.9, 25.4, 27.2, 37.3, 41.5, 34.3, 44.3, 43.4, 36.4, 30.0, 40.9, 29.8, 35.0, 33.0, 34.5, 28.1, 30.7, 36.0, 44.0]}, {\"fillcolor\": \"teal\", \"name\": \"Japan\", \"type\": \"box\", \"y\": [24.0, 27.0, 27.0, 25.0, 31.0, 35.0, 24.0, 19.0, 28.0, 23.0, 27.0, 20.0, 22.0, 18.0, 20.0, 31.0, 32.0, 31.0, 32.0, 24.0, 26.0, 29.0, 24.0, 24.0, 33.0, 33.0, 32.0, 28.0, 19.0, 31.5, 33.5, 26.0, 30.0, 22.0, 21.5, 32.8, 39.4, 36.1, 27.5, 27.2, 21.1, 23.9, 29.5, 34.1, 31.8, 38.1, 37.2, 29.8, 31.3, 37.0, 32.2, 46.6, 40.8, 44.6, 33.8, 32.7, 23.7, 32.4, 39.1, 35.1, 32.3, 37.0, 37.7, 34.1, 33.7, 32.4, 32.9, 31.6, 25.4, 24.2, 37.0, 31.0, 36.0, 36.0, 34.0, 38.0, 32.0, 38.0, 32.0]}],\n",
       "                        {\"template\": {\"data\": {\"bar\": [{\"error_x\": {\"color\": \"#2a3f5f\"}, \"error_y\": {\"color\": \"#2a3f5f\"}, \"marker\": {\"line\": {\"color\": \"#E5ECF6\", \"width\": 0.5}}, \"type\": \"bar\"}], \"barpolar\": [{\"marker\": {\"line\": {\"color\": \"#E5ECF6\", \"width\": 0.5}}, \"type\": \"barpolar\"}], \"carpet\": [{\"aaxis\": {\"endlinecolor\": \"#2a3f5f\", \"gridcolor\": \"white\", \"linecolor\": \"white\", \"minorgridcolor\": \"white\", \"startlinecolor\": \"#2a3f5f\"}, \"baxis\": {\"endlinecolor\": \"#2a3f5f\", \"gridcolor\": \"white\", \"linecolor\": \"white\", \"minorgridcolor\": \"white\", \"startlinecolor\": \"#2a3f5f\"}, \"type\": \"carpet\"}], \"choropleth\": [{\"colorbar\": {\"outlinewidth\": 0, \"ticks\": \"\"}, \"type\": \"choropleth\"}], \"contour\": [{\"colorbar\": {\"outlinewidth\": 0, \"ticks\": \"\"}, \"colorscale\": [[0.0, \"#0d0887\"], [0.1111111111111111, \"#46039f\"], [0.2222222222222222, \"#7201a8\"], [0.3333333333333333, \"#9c179e\"], [0.4444444444444444, \"#bd3786\"], [0.5555555555555556, \"#d8576b\"], [0.6666666666666666, \"#ed7953\"], [0.7777777777777778, \"#fb9f3a\"], [0.8888888888888888, \"#fdca26\"], [1.0, \"#f0f921\"]], \"type\": \"contour\"}], \"contourcarpet\": [{\"colorbar\": {\"outlinewidth\": 0, \"ticks\": \"\"}, \"type\": \"contourcarpet\"}], \"heatmap\": [{\"colorbar\": {\"outlinewidth\": 0, \"ticks\": \"\"}, \"colorscale\": [[0.0, \"#0d0887\"], [0.1111111111111111, \"#46039f\"], [0.2222222222222222, \"#7201a8\"], [0.3333333333333333, \"#9c179e\"], [0.4444444444444444, \"#bd3786\"], [0.5555555555555556, \"#d8576b\"], [0.6666666666666666, \"#ed7953\"], [0.7777777777777778, \"#fb9f3a\"], [0.8888888888888888, \"#fdca26\"], [1.0, \"#f0f921\"]], \"type\": \"heatmap\"}], \"heatmapgl\": [{\"colorbar\": {\"outlinewidth\": 0, \"ticks\": \"\"}, \"colorscale\": [[0.0, \"#0d0887\"], [0.1111111111111111, \"#46039f\"], [0.2222222222222222, \"#7201a8\"], [0.3333333333333333, \"#9c179e\"], [0.4444444444444444, \"#bd3786\"], [0.5555555555555556, \"#d8576b\"], [0.6666666666666666, \"#ed7953\"], [0.7777777777777778, \"#fb9f3a\"], [0.8888888888888888, \"#fdca26\"], [1.0, \"#f0f921\"]], \"type\": \"heatmapgl\"}], \"histogram\": [{\"marker\": {\"colorbar\": {\"outlinewidth\": 0, \"ticks\": \"\"}}, \"type\": \"histogram\"}], \"histogram2d\": [{\"colorbar\": {\"outlinewidth\": 0, \"ticks\": \"\"}, \"colorscale\": [[0.0, \"#0d0887\"], [0.1111111111111111, \"#46039f\"], [0.2222222222222222, \"#7201a8\"], [0.3333333333333333, \"#9c179e\"], [0.4444444444444444, \"#bd3786\"], [0.5555555555555556, \"#d8576b\"], [0.6666666666666666, \"#ed7953\"], [0.7777777777777778, \"#fb9f3a\"], [0.8888888888888888, \"#fdca26\"], [1.0, \"#f0f921\"]], \"type\": \"histogram2d\"}], \"histogram2dcontour\": [{\"colorbar\": {\"outlinewidth\": 0, \"ticks\": \"\"}, \"colorscale\": [[0.0, \"#0d0887\"], [0.1111111111111111, \"#46039f\"], [0.2222222222222222, \"#7201a8\"], [0.3333333333333333, \"#9c179e\"], [0.4444444444444444, \"#bd3786\"], [0.5555555555555556, \"#d8576b\"], [0.6666666666666666, \"#ed7953\"], [0.7777777777777778, \"#fb9f3a\"], [0.8888888888888888, \"#fdca26\"], [1.0, \"#f0f921\"]], \"type\": \"histogram2dcontour\"}], \"mesh3d\": [{\"colorbar\": {\"outlinewidth\": 0, \"ticks\": \"\"}, \"type\": \"mesh3d\"}], \"parcoords\": [{\"line\": {\"colorbar\": {\"outlinewidth\": 0, \"ticks\": \"\"}}, \"type\": \"parcoords\"}], \"pie\": [{\"automargin\": true, \"type\": \"pie\"}], \"scatter\": [{\"marker\": {\"colorbar\": {\"outlinewidth\": 0, \"ticks\": \"\"}}, \"type\": \"scatter\"}], \"scatter3d\": [{\"line\": {\"colorbar\": {\"outlinewidth\": 0, \"ticks\": \"\"}}, \"marker\": {\"colorbar\": {\"outlinewidth\": 0, \"ticks\": \"\"}}, \"type\": \"scatter3d\"}], \"scattercarpet\": [{\"marker\": {\"colorbar\": {\"outlinewidth\": 0, \"ticks\": \"\"}}, \"type\": \"scattercarpet\"}], \"scattergeo\": [{\"marker\": {\"colorbar\": {\"outlinewidth\": 0, \"ticks\": \"\"}}, \"type\": \"scattergeo\"}], \"scattergl\": [{\"marker\": {\"colorbar\": {\"outlinewidth\": 0, \"ticks\": \"\"}}, \"type\": \"scattergl\"}], \"scattermapbox\": [{\"marker\": {\"colorbar\": {\"outlinewidth\": 0, \"ticks\": \"\"}}, \"type\": \"scattermapbox\"}], \"scatterpolar\": [{\"marker\": {\"colorbar\": {\"outlinewidth\": 0, \"ticks\": \"\"}}, \"type\": \"scatterpolar\"}], \"scatterpolargl\": [{\"marker\": {\"colorbar\": {\"outlinewidth\": 0, \"ticks\": \"\"}}, \"type\": \"scatterpolargl\"}], \"scatterternary\": [{\"marker\": {\"colorbar\": {\"outlinewidth\": 0, \"ticks\": \"\"}}, \"type\": \"scatterternary\"}], \"surface\": [{\"colorbar\": {\"outlinewidth\": 0, \"ticks\": \"\"}, \"colorscale\": [[0.0, \"#0d0887\"], [0.1111111111111111, \"#46039f\"], [0.2222222222222222, \"#7201a8\"], [0.3333333333333333, \"#9c179e\"], [0.4444444444444444, \"#bd3786\"], [0.5555555555555556, \"#d8576b\"], [0.6666666666666666, \"#ed7953\"], [0.7777777777777778, \"#fb9f3a\"], [0.8888888888888888, \"#fdca26\"], [1.0, \"#f0f921\"]], \"type\": \"surface\"}], \"table\": [{\"cells\": {\"fill\": {\"color\": \"#EBF0F8\"}, \"line\": {\"color\": \"white\"}}, \"header\": {\"fill\": {\"color\": \"#C8D4E3\"}, \"line\": {\"color\": \"white\"}}, \"type\": \"table\"}]}, \"layout\": {\"annotationdefaults\": {\"arrowcolor\": \"#2a3f5f\", \"arrowhead\": 0, \"arrowwidth\": 1}, \"coloraxis\": {\"colorbar\": {\"outlinewidth\": 0, \"ticks\": \"\"}}, \"colorscale\": {\"diverging\": [[0, \"#8e0152\"], [0.1, \"#c51b7d\"], [0.2, \"#de77ae\"], [0.3, \"#f1b6da\"], [0.4, \"#fde0ef\"], [0.5, \"#f7f7f7\"], [0.6, \"#e6f5d0\"], [0.7, \"#b8e186\"], [0.8, \"#7fbc41\"], [0.9, \"#4d9221\"], [1, \"#276419\"]], \"sequential\": [[0.0, \"#0d0887\"], [0.1111111111111111, \"#46039f\"], [0.2222222222222222, \"#7201a8\"], [0.3333333333333333, \"#9c179e\"], [0.4444444444444444, \"#bd3786\"], [0.5555555555555556, \"#d8576b\"], [0.6666666666666666, \"#ed7953\"], [0.7777777777777778, \"#fb9f3a\"], [0.8888888888888888, \"#fdca26\"], [1.0, \"#f0f921\"]], \"sequentialminus\": [[0.0, \"#0d0887\"], [0.1111111111111111, \"#46039f\"], [0.2222222222222222, \"#7201a8\"], [0.3333333333333333, \"#9c179e\"], [0.4444444444444444, \"#bd3786\"], [0.5555555555555556, \"#d8576b\"], [0.6666666666666666, \"#ed7953\"], [0.7777777777777778, \"#fb9f3a\"], [0.8888888888888888, \"#fdca26\"], [1.0, \"#f0f921\"]]}, \"colorway\": [\"#636efa\", \"#EF553B\", \"#00cc96\", \"#ab63fa\", \"#FFA15A\", \"#19d3f3\", \"#FF6692\", \"#B6E880\", \"#FF97FF\", \"#FECB52\"], \"font\": {\"color\": \"#2a3f5f\"}, \"geo\": {\"bgcolor\": \"white\", \"lakecolor\": \"white\", \"landcolor\": \"#E5ECF6\", \"showlakes\": true, \"showland\": true, \"subunitcolor\": \"white\"}, \"hoverlabel\": {\"align\": \"left\"}, \"hovermode\": \"closest\", \"mapbox\": {\"style\": \"light\"}, \"paper_bgcolor\": \"white\", \"plot_bgcolor\": \"#E5ECF6\", \"polar\": {\"angularaxis\": {\"gridcolor\": \"white\", \"linecolor\": \"white\", \"ticks\": \"\"}, \"bgcolor\": \"#E5ECF6\", \"radialaxis\": {\"gridcolor\": \"white\", \"linecolor\": \"white\", \"ticks\": \"\"}}, \"scene\": {\"xaxis\": {\"backgroundcolor\": \"#E5ECF6\", \"gridcolor\": \"white\", \"gridwidth\": 2, \"linecolor\": \"white\", \"showbackground\": true, \"ticks\": \"\", \"zerolinecolor\": \"white\"}, \"yaxis\": {\"backgroundcolor\": \"#E5ECF6\", \"gridcolor\": \"white\", \"gridwidth\": 2, \"linecolor\": \"white\", \"showbackground\": true, \"ticks\": \"\", \"zerolinecolor\": \"white\"}, \"zaxis\": {\"backgroundcolor\": \"#E5ECF6\", \"gridcolor\": \"white\", \"gridwidth\": 2, \"linecolor\": \"white\", \"showbackground\": true, \"ticks\": \"\", \"zerolinecolor\": \"white\"}}, \"shapedefaults\": {\"line\": {\"color\": \"#2a3f5f\"}}, \"ternary\": {\"aaxis\": {\"gridcolor\": \"white\", \"linecolor\": \"white\", \"ticks\": \"\"}, \"baxis\": {\"gridcolor\": \"white\", \"linecolor\": \"white\", \"ticks\": \"\"}, \"bgcolor\": \"#E5ECF6\", \"caxis\": {\"gridcolor\": \"white\", \"linecolor\": \"white\", \"ticks\": \"\"}}, \"title\": {\"x\": 0.05}, \"xaxis\": {\"automargin\": true, \"gridcolor\": \"white\", \"linecolor\": \"white\", \"ticks\": \"\", \"title\": {\"standoff\": 15}, \"zerolinecolor\": \"white\", \"zerolinewidth\": 2}, \"yaxis\": {\"automargin\": true, \"gridcolor\": \"white\", \"linecolor\": \"white\", \"ticks\": \"\", \"title\": {\"standoff\": 15}, \"zerolinecolor\": \"white\", \"zerolinewidth\": 2}}}, \"title\": {\"text\": \"Fuel Efficiency Distribution w.r.t Continent :: [Box Plot]\"}, \"xaxis\": {\"title\": {\"text\": \"Continent (USA / Europe  /Japan)\"}}, \"yaxis\": {\"title\": {\"text\": \"Fuel Efficiency (mile per gallon)\"}}},\n",
       "                        {\"responsive\": true}\n",
       "                    ).then(function(){\n",
       "                            \n",
       "var gd = document.getElementById('eacb1ce7-c2b0-4f39-8f2b-fa24bc743e28');\n",
       "var x = new MutationObserver(function (mutations, observer) {{\n",
       "        var display = window.getComputedStyle(gd).display;\n",
       "        if (!display || display === 'none') {{\n",
       "            console.log([gd, 'removed!']);\n",
       "            Plotly.purge(gd);\n",
       "            observer.disconnect();\n",
       "        }}\n",
       "}});\n",
       "\n",
       "// Listen for the removal of the full notebook cells\n",
       "var notebookContainer = gd.closest('#notebook-container');\n",
       "if (notebookContainer) {{\n",
       "    x.observe(notebookContainer, {childList: true});\n",
       "}}\n",
       "\n",
       "// Listen for the clearing of the current output cell\n",
       "var outputEl = gd.closest('.output');\n",
       "if (outputEl) {{\n",
       "    x.observe(outputEl, {childList: true});\n",
       "}}\n",
       "\n",
       "                        })\n",
       "                };\n",
       "                });\n",
       "            </script>\n",
       "        </div>"
      ]
     },
     "metadata": {},
     "output_type": "display_data"
    }
   ],
   "source": [
    "# 1 Boxplot \n",
    "\n",
    "usa = cars[working_dataset[\"Continent\"]==\"USA\"]\n",
    "europe = cars[cars[\"Continent\"]==\"Europe\"]\n",
    "japan = cars[cars[\"Continent\"]==\"Japan\"]\n",
    "\n",
    "trace = go.Box(y = usa[\"mpg\"],fillcolor=\"aqua\", name= \"USA\" )\n",
    "trace1 = go.Box(y = europe[\"mpg\"], fillcolor=\"pink\", name= \"Europe\" )\n",
    "trace2 = go.Box(y = japan[\"mpg\"], fillcolor=\"teal\", name= \"Japan\" )\n",
    "\n",
    "layout = go.Layout(title=\"Fuel Efficiency Distribution w.r.t Continent :: [Box Plot]\", \n",
    "                   yaxis=dict(title=\"Fuel Efficiency (mile per gallon)\"), \n",
    "                   xaxis= dict(title=\"Continent (USA / Europe  /Japan)\"))\n",
    "\n",
    "data=[trace, trace1, trace2]\n",
    "fig = go.Figure(data = data, layout=layout)\n",
    "py.iplot(fig)"
   ]
  },
  {
   "cell_type": "code",
   "execution_count": 127,
   "metadata": {},
   "outputs": [
    {
     "data": {
      "application/vnd.plotly.v1+json": {
       "config": {
        "linkText": "Export to plot.ly",
        "plotlyServerURL": "https://plot.ly",
        "showLink": false
       },
       "data": [
        {
         "fillcolor": "aqua",
         "name": "USA",
         "type": "violin",
         "y": [
          18,
          15,
          18,
          16,
          17,
          15,
          14,
          14,
          14,
          15,
          15,
          14,
          15,
          14,
          22,
          18,
          21,
          21,
          10,
          10,
          11,
          9,
          28,
          25,
          19,
          16,
          17,
          19,
          18,
          14,
          14,
          14,
          14,
          12,
          13,
          13,
          18,
          22,
          19,
          18,
          23,
          26,
          25,
          20,
          21,
          13,
          14,
          15,
          14,
          17,
          11,
          13,
          12,
          13,
          15,
          13,
          13,
          14,
          22,
          28,
          13,
          14,
          13,
          14,
          15,
          12,
          13,
          13,
          14,
          13,
          12,
          13,
          18,
          16,
          18,
          18,
          23,
          11,
          12,
          13,
          12,
          18,
          21,
          19,
          21,
          15,
          16,
          15,
          11,
          20,
          21,
          19,
          15,
          26,
          25,
          16,
          16,
          18,
          16,
          13,
          14,
          14,
          14,
          28,
          19,
          18,
          15,
          15,
          16,
          15,
          16,
          14,
          17,
          16,
          15,
          18,
          21,
          20,
          13,
          23,
          20,
          23,
          18,
          19,
          25,
          26,
          17.5,
          16,
          15.5,
          14.5,
          22,
          22,
          24,
          22.5,
          29,
          24.5,
          20,
          18,
          18.5,
          17.5,
          26.5,
          13,
          16.5,
          13,
          13,
          13,
          30,
          25.5,
          17.5,
          17,
          15.5,
          15,
          17.5,
          20.5,
          19,
          18.5,
          16,
          15.5,
          15.5,
          16,
          24.5,
          25.5,
          30.5,
          33.5,
          36.1,
          19.9,
          19.4,
          20.2,
          19.2,
          20.5,
          20.2,
          25.1,
          20.5,
          19.4,
          20.6,
          20.8,
          18.6,
          18.1,
          19.2,
          17.7,
          18.1,
          17.5,
          30,
          30.9,
          23.2,
          23.8,
          21.5,
          19.8,
          22.3,
          20.2,
          20.6,
          17,
          17.6,
          16.5,
          18.2,
          16.9,
          15.5,
          19.2,
          18.5,
          35.7,
          27.4,
          23,
          23.9,
          34.2,
          34.5,
          28.4,
          28.8,
          26.8,
          33.5,
          32.1,
          28,
          26.4,
          24.3,
          19.1,
          27.9,
          23.6,
          27.2,
          26.6,
          25.8,
          23.5,
          30,
          39,
          34.7,
          34.4,
          29.9,
          22.4,
          26.6,
          20.2,
          17.6,
          28,
          27,
          34,
          31,
          29,
          27,
          24,
          23,
          38,
          36,
          25,
          38,
          26,
          22,
          36,
          27,
          27,
          32,
          28,
          31
         ]
        },
        {
         "fillcolor": "pink",
         "name": "Europe",
         "type": "violin",
         "y": [
          26,
          25,
          24,
          25,
          26,
          28,
          30,
          30,
          27,
          23,
          18,
          22,
          21,
          26,
          26,
          26,
          29,
          24,
          20,
          19,
          24,
          29,
          26,
          26,
          24,
          26,
          31,
          25,
          29,
          23,
          23,
          22,
          25,
          28,
          25,
          27,
          29,
          29.5,
          20,
          19,
          16.5,
          36,
          29,
          30.5,
          21.5,
          43.1,
          20.3,
          17,
          21.6,
          16.2,
          31.5,
          31.9,
          25.4,
          27.2,
          37.3,
          41.5,
          34.3,
          44.3,
          43.4,
          36.4,
          30,
          40.9,
          29.8,
          35,
          33,
          34.5,
          28.1,
          30.7,
          36,
          44
         ]
        },
        {
         "fillcolor": "teal",
         "name": "Japan",
         "type": "violin",
         "y": [
          24,
          27,
          27,
          25,
          31,
          35,
          24,
          19,
          28,
          23,
          27,
          20,
          22,
          18,
          20,
          31,
          32,
          31,
          32,
          24,
          26,
          29,
          24,
          24,
          33,
          33,
          32,
          28,
          19,
          31.5,
          33.5,
          26,
          30,
          22,
          21.5,
          32.8,
          39.4,
          36.1,
          27.5,
          27.2,
          21.1,
          23.9,
          29.5,
          34.1,
          31.8,
          38.1,
          37.2,
          29.8,
          31.3,
          37,
          32.2,
          46.6,
          40.8,
          44.6,
          33.8,
          32.7,
          23.7,
          32.4,
          39.1,
          35.1,
          32.3,
          37,
          37.7,
          34.1,
          33.7,
          32.4,
          32.9,
          31.6,
          25.4,
          24.2,
          37,
          31,
          36,
          36,
          34,
          38,
          32,
          38,
          32
         ]
        }
       ],
       "layout": {
        "template": {
         "data": {
          "bar": [
           {
            "error_x": {
             "color": "#2a3f5f"
            },
            "error_y": {
             "color": "#2a3f5f"
            },
            "marker": {
             "line": {
              "color": "#E5ECF6",
              "width": 0.5
             }
            },
            "type": "bar"
           }
          ],
          "barpolar": [
           {
            "marker": {
             "line": {
              "color": "#E5ECF6",
              "width": 0.5
             }
            },
            "type": "barpolar"
           }
          ],
          "carpet": [
           {
            "aaxis": {
             "endlinecolor": "#2a3f5f",
             "gridcolor": "white",
             "linecolor": "white",
             "minorgridcolor": "white",
             "startlinecolor": "#2a3f5f"
            },
            "baxis": {
             "endlinecolor": "#2a3f5f",
             "gridcolor": "white",
             "linecolor": "white",
             "minorgridcolor": "white",
             "startlinecolor": "#2a3f5f"
            },
            "type": "carpet"
           }
          ],
          "choropleth": [
           {
            "colorbar": {
             "outlinewidth": 0,
             "ticks": ""
            },
            "type": "choropleth"
           }
          ],
          "contour": [
           {
            "colorbar": {
             "outlinewidth": 0,
             "ticks": ""
            },
            "colorscale": [
             [
              0,
              "#0d0887"
             ],
             [
              0.1111111111111111,
              "#46039f"
             ],
             [
              0.2222222222222222,
              "#7201a8"
             ],
             [
              0.3333333333333333,
              "#9c179e"
             ],
             [
              0.4444444444444444,
              "#bd3786"
             ],
             [
              0.5555555555555556,
              "#d8576b"
             ],
             [
              0.6666666666666666,
              "#ed7953"
             ],
             [
              0.7777777777777778,
              "#fb9f3a"
             ],
             [
              0.8888888888888888,
              "#fdca26"
             ],
             [
              1,
              "#f0f921"
             ]
            ],
            "type": "contour"
           }
          ],
          "contourcarpet": [
           {
            "colorbar": {
             "outlinewidth": 0,
             "ticks": ""
            },
            "type": "contourcarpet"
           }
          ],
          "heatmap": [
           {
            "colorbar": {
             "outlinewidth": 0,
             "ticks": ""
            },
            "colorscale": [
             [
              0,
              "#0d0887"
             ],
             [
              0.1111111111111111,
              "#46039f"
             ],
             [
              0.2222222222222222,
              "#7201a8"
             ],
             [
              0.3333333333333333,
              "#9c179e"
             ],
             [
              0.4444444444444444,
              "#bd3786"
             ],
             [
              0.5555555555555556,
              "#d8576b"
             ],
             [
              0.6666666666666666,
              "#ed7953"
             ],
             [
              0.7777777777777778,
              "#fb9f3a"
             ],
             [
              0.8888888888888888,
              "#fdca26"
             ],
             [
              1,
              "#f0f921"
             ]
            ],
            "type": "heatmap"
           }
          ],
          "heatmapgl": [
           {
            "colorbar": {
             "outlinewidth": 0,
             "ticks": ""
            },
            "colorscale": [
             [
              0,
              "#0d0887"
             ],
             [
              0.1111111111111111,
              "#46039f"
             ],
             [
              0.2222222222222222,
              "#7201a8"
             ],
             [
              0.3333333333333333,
              "#9c179e"
             ],
             [
              0.4444444444444444,
              "#bd3786"
             ],
             [
              0.5555555555555556,
              "#d8576b"
             ],
             [
              0.6666666666666666,
              "#ed7953"
             ],
             [
              0.7777777777777778,
              "#fb9f3a"
             ],
             [
              0.8888888888888888,
              "#fdca26"
             ],
             [
              1,
              "#f0f921"
             ]
            ],
            "type": "heatmapgl"
           }
          ],
          "histogram": [
           {
            "marker": {
             "colorbar": {
              "outlinewidth": 0,
              "ticks": ""
             }
            },
            "type": "histogram"
           }
          ],
          "histogram2d": [
           {
            "colorbar": {
             "outlinewidth": 0,
             "ticks": ""
            },
            "colorscale": [
             [
              0,
              "#0d0887"
             ],
             [
              0.1111111111111111,
              "#46039f"
             ],
             [
              0.2222222222222222,
              "#7201a8"
             ],
             [
              0.3333333333333333,
              "#9c179e"
             ],
             [
              0.4444444444444444,
              "#bd3786"
             ],
             [
              0.5555555555555556,
              "#d8576b"
             ],
             [
              0.6666666666666666,
              "#ed7953"
             ],
             [
              0.7777777777777778,
              "#fb9f3a"
             ],
             [
              0.8888888888888888,
              "#fdca26"
             ],
             [
              1,
              "#f0f921"
             ]
            ],
            "type": "histogram2d"
           }
          ],
          "histogram2dcontour": [
           {
            "colorbar": {
             "outlinewidth": 0,
             "ticks": ""
            },
            "colorscale": [
             [
              0,
              "#0d0887"
             ],
             [
              0.1111111111111111,
              "#46039f"
             ],
             [
              0.2222222222222222,
              "#7201a8"
             ],
             [
              0.3333333333333333,
              "#9c179e"
             ],
             [
              0.4444444444444444,
              "#bd3786"
             ],
             [
              0.5555555555555556,
              "#d8576b"
             ],
             [
              0.6666666666666666,
              "#ed7953"
             ],
             [
              0.7777777777777778,
              "#fb9f3a"
             ],
             [
              0.8888888888888888,
              "#fdca26"
             ],
             [
              1,
              "#f0f921"
             ]
            ],
            "type": "histogram2dcontour"
           }
          ],
          "mesh3d": [
           {
            "colorbar": {
             "outlinewidth": 0,
             "ticks": ""
            },
            "type": "mesh3d"
           }
          ],
          "parcoords": [
           {
            "line": {
             "colorbar": {
              "outlinewidth": 0,
              "ticks": ""
             }
            },
            "type": "parcoords"
           }
          ],
          "pie": [
           {
            "automargin": true,
            "type": "pie"
           }
          ],
          "scatter": [
           {
            "marker": {
             "colorbar": {
              "outlinewidth": 0,
              "ticks": ""
             }
            },
            "type": "scatter"
           }
          ],
          "scatter3d": [
           {
            "line": {
             "colorbar": {
              "outlinewidth": 0,
              "ticks": ""
             }
            },
            "marker": {
             "colorbar": {
              "outlinewidth": 0,
              "ticks": ""
             }
            },
            "type": "scatter3d"
           }
          ],
          "scattercarpet": [
           {
            "marker": {
             "colorbar": {
              "outlinewidth": 0,
              "ticks": ""
             }
            },
            "type": "scattercarpet"
           }
          ],
          "scattergeo": [
           {
            "marker": {
             "colorbar": {
              "outlinewidth": 0,
              "ticks": ""
             }
            },
            "type": "scattergeo"
           }
          ],
          "scattergl": [
           {
            "marker": {
             "colorbar": {
              "outlinewidth": 0,
              "ticks": ""
             }
            },
            "type": "scattergl"
           }
          ],
          "scattermapbox": [
           {
            "marker": {
             "colorbar": {
              "outlinewidth": 0,
              "ticks": ""
             }
            },
            "type": "scattermapbox"
           }
          ],
          "scatterpolar": [
           {
            "marker": {
             "colorbar": {
              "outlinewidth": 0,
              "ticks": ""
             }
            },
            "type": "scatterpolar"
           }
          ],
          "scatterpolargl": [
           {
            "marker": {
             "colorbar": {
              "outlinewidth": 0,
              "ticks": ""
             }
            },
            "type": "scatterpolargl"
           }
          ],
          "scatterternary": [
           {
            "marker": {
             "colorbar": {
              "outlinewidth": 0,
              "ticks": ""
             }
            },
            "type": "scatterternary"
           }
          ],
          "surface": [
           {
            "colorbar": {
             "outlinewidth": 0,
             "ticks": ""
            },
            "colorscale": [
             [
              0,
              "#0d0887"
             ],
             [
              0.1111111111111111,
              "#46039f"
             ],
             [
              0.2222222222222222,
              "#7201a8"
             ],
             [
              0.3333333333333333,
              "#9c179e"
             ],
             [
              0.4444444444444444,
              "#bd3786"
             ],
             [
              0.5555555555555556,
              "#d8576b"
             ],
             [
              0.6666666666666666,
              "#ed7953"
             ],
             [
              0.7777777777777778,
              "#fb9f3a"
             ],
             [
              0.8888888888888888,
              "#fdca26"
             ],
             [
              1,
              "#f0f921"
             ]
            ],
            "type": "surface"
           }
          ],
          "table": [
           {
            "cells": {
             "fill": {
              "color": "#EBF0F8"
             },
             "line": {
              "color": "white"
             }
            },
            "header": {
             "fill": {
              "color": "#C8D4E3"
             },
             "line": {
              "color": "white"
             }
            },
            "type": "table"
           }
          ]
         },
         "layout": {
          "annotationdefaults": {
           "arrowcolor": "#2a3f5f",
           "arrowhead": 0,
           "arrowwidth": 1
          },
          "coloraxis": {
           "colorbar": {
            "outlinewidth": 0,
            "ticks": ""
           }
          },
          "colorscale": {
           "diverging": [
            [
             0,
             "#8e0152"
            ],
            [
             0.1,
             "#c51b7d"
            ],
            [
             0.2,
             "#de77ae"
            ],
            [
             0.3,
             "#f1b6da"
            ],
            [
             0.4,
             "#fde0ef"
            ],
            [
             0.5,
             "#f7f7f7"
            ],
            [
             0.6,
             "#e6f5d0"
            ],
            [
             0.7,
             "#b8e186"
            ],
            [
             0.8,
             "#7fbc41"
            ],
            [
             0.9,
             "#4d9221"
            ],
            [
             1,
             "#276419"
            ]
           ],
           "sequential": [
            [
             0,
             "#0d0887"
            ],
            [
             0.1111111111111111,
             "#46039f"
            ],
            [
             0.2222222222222222,
             "#7201a8"
            ],
            [
             0.3333333333333333,
             "#9c179e"
            ],
            [
             0.4444444444444444,
             "#bd3786"
            ],
            [
             0.5555555555555556,
             "#d8576b"
            ],
            [
             0.6666666666666666,
             "#ed7953"
            ],
            [
             0.7777777777777778,
             "#fb9f3a"
            ],
            [
             0.8888888888888888,
             "#fdca26"
            ],
            [
             1,
             "#f0f921"
            ]
           ],
           "sequentialminus": [
            [
             0,
             "#0d0887"
            ],
            [
             0.1111111111111111,
             "#46039f"
            ],
            [
             0.2222222222222222,
             "#7201a8"
            ],
            [
             0.3333333333333333,
             "#9c179e"
            ],
            [
             0.4444444444444444,
             "#bd3786"
            ],
            [
             0.5555555555555556,
             "#d8576b"
            ],
            [
             0.6666666666666666,
             "#ed7953"
            ],
            [
             0.7777777777777778,
             "#fb9f3a"
            ],
            [
             0.8888888888888888,
             "#fdca26"
            ],
            [
             1,
             "#f0f921"
            ]
           ]
          },
          "colorway": [
           "#636efa",
           "#EF553B",
           "#00cc96",
           "#ab63fa",
           "#FFA15A",
           "#19d3f3",
           "#FF6692",
           "#B6E880",
           "#FF97FF",
           "#FECB52"
          ],
          "font": {
           "color": "#2a3f5f"
          },
          "geo": {
           "bgcolor": "white",
           "lakecolor": "white",
           "landcolor": "#E5ECF6",
           "showlakes": true,
           "showland": true,
           "subunitcolor": "white"
          },
          "hoverlabel": {
           "align": "left"
          },
          "hovermode": "closest",
          "mapbox": {
           "style": "light"
          },
          "paper_bgcolor": "white",
          "plot_bgcolor": "#E5ECF6",
          "polar": {
           "angularaxis": {
            "gridcolor": "white",
            "linecolor": "white",
            "ticks": ""
           },
           "bgcolor": "#E5ECF6",
           "radialaxis": {
            "gridcolor": "white",
            "linecolor": "white",
            "ticks": ""
           }
          },
          "scene": {
           "xaxis": {
            "backgroundcolor": "#E5ECF6",
            "gridcolor": "white",
            "gridwidth": 2,
            "linecolor": "white",
            "showbackground": true,
            "ticks": "",
            "zerolinecolor": "white"
           },
           "yaxis": {
            "backgroundcolor": "#E5ECF6",
            "gridcolor": "white",
            "gridwidth": 2,
            "linecolor": "white",
            "showbackground": true,
            "ticks": "",
            "zerolinecolor": "white"
           },
           "zaxis": {
            "backgroundcolor": "#E5ECF6",
            "gridcolor": "white",
            "gridwidth": 2,
            "linecolor": "white",
            "showbackground": true,
            "ticks": "",
            "zerolinecolor": "white"
           }
          },
          "shapedefaults": {
           "line": {
            "color": "#2a3f5f"
           }
          },
          "ternary": {
           "aaxis": {
            "gridcolor": "white",
            "linecolor": "white",
            "ticks": ""
           },
           "baxis": {
            "gridcolor": "white",
            "linecolor": "white",
            "ticks": ""
           },
           "bgcolor": "#E5ECF6",
           "caxis": {
            "gridcolor": "white",
            "linecolor": "white",
            "ticks": ""
           }
          },
          "title": {
           "x": 0.05
          },
          "xaxis": {
           "automargin": true,
           "gridcolor": "white",
           "linecolor": "white",
           "ticks": "",
           "title": {
            "standoff": 15
           },
           "zerolinecolor": "white",
           "zerolinewidth": 2
          },
          "yaxis": {
           "automargin": true,
           "gridcolor": "white",
           "linecolor": "white",
           "ticks": "",
           "title": {
            "standoff": 15
           },
           "zerolinecolor": "white",
           "zerolinewidth": 2
          }
         }
        },
        "title": {
         "text": "Fuel Efficiency Distribution w.r.t Continent :: [Violin Plot]"
        },
        "xaxis": {
         "title": {
          "text": "Continent (USA / Europe  /Japan)"
         }
        },
        "yaxis": {
         "title": {
          "text": "Fuel Efficiency (mile per gallon)"
         }
        }
       }
      },
      "text/html": [
       "<div>\n",
       "        \n",
       "        \n",
       "            <div id=\"cc3e2e94-bbef-4a51-8d85-08838c5ab3bc\" class=\"plotly-graph-div\" style=\"height:525px; width:100%;\"></div>\n",
       "            <script type=\"text/javascript\">\n",
       "                require([\"plotly\"], function(Plotly) {\n",
       "                    window.PLOTLYENV=window.PLOTLYENV || {};\n",
       "                    \n",
       "                if (document.getElementById(\"cc3e2e94-bbef-4a51-8d85-08838c5ab3bc\")) {\n",
       "                    Plotly.newPlot(\n",
       "                        'cc3e2e94-bbef-4a51-8d85-08838c5ab3bc',\n",
       "                        [{\"fillcolor\": \"aqua\", \"name\": \"USA\", \"type\": \"violin\", \"y\": [18.0, 15.0, 18.0, 16.0, 17.0, 15.0, 14.0, 14.0, 14.0, 15.0, 15.0, 14.0, 15.0, 14.0, 22.0, 18.0, 21.0, 21.0, 10.0, 10.0, 11.0, 9.0, 28.0, 25.0, 19.0, 16.0, 17.0, 19.0, 18.0, 14.0, 14.0, 14.0, 14.0, 12.0, 13.0, 13.0, 18.0, 22.0, 19.0, 18.0, 23.0, 26.0, 25.0, 20.0, 21.0, 13.0, 14.0, 15.0, 14.0, 17.0, 11.0, 13.0, 12.0, 13.0, 15.0, 13.0, 13.0, 14.0, 22.0, 28.0, 13.0, 14.0, 13.0, 14.0, 15.0, 12.0, 13.0, 13.0, 14.0, 13.0, 12.0, 13.0, 18.0, 16.0, 18.0, 18.0, 23.0, 11.0, 12.0, 13.0, 12.0, 18.0, 21.0, 19.0, 21.0, 15.0, 16.0, 15.0, 11.0, 20.0, 21.0, 19.0, 15.0, 26.0, 25.0, 16.0, 16.0, 18.0, 16.0, 13.0, 14.0, 14.0, 14.0, 28.0, 19.0, 18.0, 15.0, 15.0, 16.0, 15.0, 16.0, 14.0, 17.0, 16.0, 15.0, 18.0, 21.0, 20.0, 13.0, 23.0, 20.0, 23.0, 18.0, 19.0, 25.0, 26.0, 17.5, 16.0, 15.5, 14.5, 22.0, 22.0, 24.0, 22.5, 29.0, 24.5, 20.0, 18.0, 18.5, 17.5, 26.5, 13.0, 16.5, 13.0, 13.0, 13.0, 30.0, 25.5, 17.5, 17.0, 15.5, 15.0, 17.5, 20.5, 19.0, 18.5, 16.0, 15.5, 15.5, 16.0, 24.5, 25.5, 30.5, 33.5, 36.1, 19.9, 19.4, 20.2, 19.2, 20.5, 20.2, 25.1, 20.5, 19.4, 20.6, 20.8, 18.6, 18.1, 19.2, 17.7, 18.1, 17.5, 30.0, 30.9, 23.2, 23.8, 21.5, 19.8, 22.3, 20.2, 20.6, 17.0, 17.6, 16.5, 18.2, 16.9, 15.5, 19.2, 18.5, 35.7, 27.4, 23.0, 23.9, 34.2, 34.5, 28.4, 28.8, 26.8, 33.5, 32.1, 28.0, 26.4, 24.3, 19.1, 27.9, 23.6, 27.2, 26.6, 25.8, 23.5, 30.0, 39.0, 34.7, 34.4, 29.9, 22.4, 26.6, 20.2, 17.6, 28.0, 27.0, 34.0, 31.0, 29.0, 27.0, 24.0, 23.0, 38.0, 36.0, 25.0, 38.0, 26.0, 22.0, 36.0, 27.0, 27.0, 32.0, 28.0, 31.0]}, {\"fillcolor\": \"pink\", \"name\": \"Europe\", \"type\": \"violin\", \"y\": [26.0, 25.0, 24.0, 25.0, 26.0, 28.0, 30.0, 30.0, 27.0, 23.0, 18.0, 22.0, 21.0, 26.0, 26.0, 26.0, 29.0, 24.0, 20.0, 19.0, 24.0, 29.0, 26.0, 26.0, 24.0, 26.0, 31.0, 25.0, 29.0, 23.0, 23.0, 22.0, 25.0, 28.0, 25.0, 27.0, 29.0, 29.5, 20.0, 19.0, 16.5, 36.0, 29.0, 30.5, 21.5, 43.1, 20.3, 17.0, 21.6, 16.2, 31.5, 31.9, 25.4, 27.2, 37.3, 41.5, 34.3, 44.3, 43.4, 36.4, 30.0, 40.9, 29.8, 35.0, 33.0, 34.5, 28.1, 30.7, 36.0, 44.0]}, {\"fillcolor\": \"teal\", \"name\": \"Japan\", \"type\": \"violin\", \"y\": [24.0, 27.0, 27.0, 25.0, 31.0, 35.0, 24.0, 19.0, 28.0, 23.0, 27.0, 20.0, 22.0, 18.0, 20.0, 31.0, 32.0, 31.0, 32.0, 24.0, 26.0, 29.0, 24.0, 24.0, 33.0, 33.0, 32.0, 28.0, 19.0, 31.5, 33.5, 26.0, 30.0, 22.0, 21.5, 32.8, 39.4, 36.1, 27.5, 27.2, 21.1, 23.9, 29.5, 34.1, 31.8, 38.1, 37.2, 29.8, 31.3, 37.0, 32.2, 46.6, 40.8, 44.6, 33.8, 32.7, 23.7, 32.4, 39.1, 35.1, 32.3, 37.0, 37.7, 34.1, 33.7, 32.4, 32.9, 31.6, 25.4, 24.2, 37.0, 31.0, 36.0, 36.0, 34.0, 38.0, 32.0, 38.0, 32.0]}],\n",
       "                        {\"template\": {\"data\": {\"bar\": [{\"error_x\": {\"color\": \"#2a3f5f\"}, \"error_y\": {\"color\": \"#2a3f5f\"}, \"marker\": {\"line\": {\"color\": \"#E5ECF6\", \"width\": 0.5}}, \"type\": \"bar\"}], \"barpolar\": [{\"marker\": {\"line\": {\"color\": \"#E5ECF6\", \"width\": 0.5}}, \"type\": \"barpolar\"}], \"carpet\": [{\"aaxis\": {\"endlinecolor\": \"#2a3f5f\", \"gridcolor\": \"white\", \"linecolor\": \"white\", \"minorgridcolor\": \"white\", \"startlinecolor\": \"#2a3f5f\"}, \"baxis\": {\"endlinecolor\": \"#2a3f5f\", \"gridcolor\": \"white\", \"linecolor\": \"white\", \"minorgridcolor\": \"white\", \"startlinecolor\": \"#2a3f5f\"}, \"type\": \"carpet\"}], \"choropleth\": [{\"colorbar\": {\"outlinewidth\": 0, \"ticks\": \"\"}, \"type\": \"choropleth\"}], \"contour\": [{\"colorbar\": {\"outlinewidth\": 0, \"ticks\": \"\"}, \"colorscale\": [[0.0, \"#0d0887\"], [0.1111111111111111, \"#46039f\"], [0.2222222222222222, \"#7201a8\"], [0.3333333333333333, \"#9c179e\"], [0.4444444444444444, \"#bd3786\"], [0.5555555555555556, \"#d8576b\"], [0.6666666666666666, \"#ed7953\"], [0.7777777777777778, \"#fb9f3a\"], [0.8888888888888888, \"#fdca26\"], [1.0, \"#f0f921\"]], \"type\": \"contour\"}], \"contourcarpet\": [{\"colorbar\": {\"outlinewidth\": 0, \"ticks\": \"\"}, \"type\": \"contourcarpet\"}], \"heatmap\": [{\"colorbar\": {\"outlinewidth\": 0, \"ticks\": \"\"}, \"colorscale\": [[0.0, \"#0d0887\"], [0.1111111111111111, \"#46039f\"], [0.2222222222222222, \"#7201a8\"], [0.3333333333333333, \"#9c179e\"], [0.4444444444444444, \"#bd3786\"], [0.5555555555555556, \"#d8576b\"], [0.6666666666666666, \"#ed7953\"], [0.7777777777777778, \"#fb9f3a\"], [0.8888888888888888, \"#fdca26\"], [1.0, \"#f0f921\"]], \"type\": \"heatmap\"}], \"heatmapgl\": [{\"colorbar\": {\"outlinewidth\": 0, \"ticks\": \"\"}, \"colorscale\": [[0.0, \"#0d0887\"], [0.1111111111111111, \"#46039f\"], [0.2222222222222222, \"#7201a8\"], [0.3333333333333333, \"#9c179e\"], [0.4444444444444444, \"#bd3786\"], [0.5555555555555556, \"#d8576b\"], [0.6666666666666666, \"#ed7953\"], [0.7777777777777778, \"#fb9f3a\"], [0.8888888888888888, \"#fdca26\"], [1.0, \"#f0f921\"]], \"type\": \"heatmapgl\"}], \"histogram\": [{\"marker\": {\"colorbar\": {\"outlinewidth\": 0, \"ticks\": \"\"}}, \"type\": \"histogram\"}], \"histogram2d\": [{\"colorbar\": {\"outlinewidth\": 0, \"ticks\": \"\"}, \"colorscale\": [[0.0, \"#0d0887\"], [0.1111111111111111, \"#46039f\"], [0.2222222222222222, \"#7201a8\"], [0.3333333333333333, \"#9c179e\"], [0.4444444444444444, \"#bd3786\"], [0.5555555555555556, \"#d8576b\"], [0.6666666666666666, \"#ed7953\"], [0.7777777777777778, \"#fb9f3a\"], [0.8888888888888888, \"#fdca26\"], [1.0, \"#f0f921\"]], \"type\": \"histogram2d\"}], \"histogram2dcontour\": [{\"colorbar\": {\"outlinewidth\": 0, \"ticks\": \"\"}, \"colorscale\": [[0.0, \"#0d0887\"], [0.1111111111111111, \"#46039f\"], [0.2222222222222222, \"#7201a8\"], [0.3333333333333333, \"#9c179e\"], [0.4444444444444444, \"#bd3786\"], [0.5555555555555556, \"#d8576b\"], [0.6666666666666666, \"#ed7953\"], [0.7777777777777778, \"#fb9f3a\"], [0.8888888888888888, \"#fdca26\"], [1.0, \"#f0f921\"]], \"type\": \"histogram2dcontour\"}], \"mesh3d\": [{\"colorbar\": {\"outlinewidth\": 0, \"ticks\": \"\"}, \"type\": \"mesh3d\"}], \"parcoords\": [{\"line\": {\"colorbar\": {\"outlinewidth\": 0, \"ticks\": \"\"}}, \"type\": \"parcoords\"}], \"pie\": [{\"automargin\": true, \"type\": \"pie\"}], \"scatter\": [{\"marker\": {\"colorbar\": {\"outlinewidth\": 0, \"ticks\": \"\"}}, \"type\": \"scatter\"}], \"scatter3d\": [{\"line\": {\"colorbar\": {\"outlinewidth\": 0, \"ticks\": \"\"}}, \"marker\": {\"colorbar\": {\"outlinewidth\": 0, \"ticks\": \"\"}}, \"type\": \"scatter3d\"}], \"scattercarpet\": [{\"marker\": {\"colorbar\": {\"outlinewidth\": 0, \"ticks\": \"\"}}, \"type\": \"scattercarpet\"}], \"scattergeo\": [{\"marker\": {\"colorbar\": {\"outlinewidth\": 0, \"ticks\": \"\"}}, \"type\": \"scattergeo\"}], \"scattergl\": [{\"marker\": {\"colorbar\": {\"outlinewidth\": 0, \"ticks\": \"\"}}, \"type\": \"scattergl\"}], \"scattermapbox\": [{\"marker\": {\"colorbar\": {\"outlinewidth\": 0, \"ticks\": \"\"}}, \"type\": \"scattermapbox\"}], \"scatterpolar\": [{\"marker\": {\"colorbar\": {\"outlinewidth\": 0, \"ticks\": \"\"}}, \"type\": \"scatterpolar\"}], \"scatterpolargl\": [{\"marker\": {\"colorbar\": {\"outlinewidth\": 0, \"ticks\": \"\"}}, \"type\": \"scatterpolargl\"}], \"scatterternary\": [{\"marker\": {\"colorbar\": {\"outlinewidth\": 0, \"ticks\": \"\"}}, \"type\": \"scatterternary\"}], \"surface\": [{\"colorbar\": {\"outlinewidth\": 0, \"ticks\": \"\"}, \"colorscale\": [[0.0, \"#0d0887\"], [0.1111111111111111, \"#46039f\"], [0.2222222222222222, \"#7201a8\"], [0.3333333333333333, \"#9c179e\"], [0.4444444444444444, \"#bd3786\"], [0.5555555555555556, \"#d8576b\"], [0.6666666666666666, \"#ed7953\"], [0.7777777777777778, \"#fb9f3a\"], [0.8888888888888888, \"#fdca26\"], [1.0, \"#f0f921\"]], \"type\": \"surface\"}], \"table\": [{\"cells\": {\"fill\": {\"color\": \"#EBF0F8\"}, \"line\": {\"color\": \"white\"}}, \"header\": {\"fill\": {\"color\": \"#C8D4E3\"}, \"line\": {\"color\": \"white\"}}, \"type\": \"table\"}]}, \"layout\": {\"annotationdefaults\": {\"arrowcolor\": \"#2a3f5f\", \"arrowhead\": 0, \"arrowwidth\": 1}, \"coloraxis\": {\"colorbar\": {\"outlinewidth\": 0, \"ticks\": \"\"}}, \"colorscale\": {\"diverging\": [[0, \"#8e0152\"], [0.1, \"#c51b7d\"], [0.2, \"#de77ae\"], [0.3, \"#f1b6da\"], [0.4, \"#fde0ef\"], [0.5, \"#f7f7f7\"], [0.6, \"#e6f5d0\"], [0.7, \"#b8e186\"], [0.8, \"#7fbc41\"], [0.9, \"#4d9221\"], [1, \"#276419\"]], \"sequential\": [[0.0, \"#0d0887\"], [0.1111111111111111, \"#46039f\"], [0.2222222222222222, \"#7201a8\"], [0.3333333333333333, \"#9c179e\"], [0.4444444444444444, \"#bd3786\"], [0.5555555555555556, \"#d8576b\"], [0.6666666666666666, \"#ed7953\"], [0.7777777777777778, \"#fb9f3a\"], [0.8888888888888888, \"#fdca26\"], [1.0, \"#f0f921\"]], \"sequentialminus\": [[0.0, \"#0d0887\"], [0.1111111111111111, \"#46039f\"], [0.2222222222222222, \"#7201a8\"], [0.3333333333333333, \"#9c179e\"], [0.4444444444444444, \"#bd3786\"], [0.5555555555555556, \"#d8576b\"], [0.6666666666666666, \"#ed7953\"], [0.7777777777777778, \"#fb9f3a\"], [0.8888888888888888, \"#fdca26\"], [1.0, \"#f0f921\"]]}, \"colorway\": [\"#636efa\", \"#EF553B\", \"#00cc96\", \"#ab63fa\", \"#FFA15A\", \"#19d3f3\", \"#FF6692\", \"#B6E880\", \"#FF97FF\", \"#FECB52\"], \"font\": {\"color\": \"#2a3f5f\"}, \"geo\": {\"bgcolor\": \"white\", \"lakecolor\": \"white\", \"landcolor\": \"#E5ECF6\", \"showlakes\": true, \"showland\": true, \"subunitcolor\": \"white\"}, \"hoverlabel\": {\"align\": \"left\"}, \"hovermode\": \"closest\", \"mapbox\": {\"style\": \"light\"}, \"paper_bgcolor\": \"white\", \"plot_bgcolor\": \"#E5ECF6\", \"polar\": {\"angularaxis\": {\"gridcolor\": \"white\", \"linecolor\": \"white\", \"ticks\": \"\"}, \"bgcolor\": \"#E5ECF6\", \"radialaxis\": {\"gridcolor\": \"white\", \"linecolor\": \"white\", \"ticks\": \"\"}}, \"scene\": {\"xaxis\": {\"backgroundcolor\": \"#E5ECF6\", \"gridcolor\": \"white\", \"gridwidth\": 2, \"linecolor\": \"white\", \"showbackground\": true, \"ticks\": \"\", \"zerolinecolor\": \"white\"}, \"yaxis\": {\"backgroundcolor\": \"#E5ECF6\", \"gridcolor\": \"white\", \"gridwidth\": 2, \"linecolor\": \"white\", \"showbackground\": true, \"ticks\": \"\", \"zerolinecolor\": \"white\"}, \"zaxis\": {\"backgroundcolor\": \"#E5ECF6\", \"gridcolor\": \"white\", \"gridwidth\": 2, \"linecolor\": \"white\", \"showbackground\": true, \"ticks\": \"\", \"zerolinecolor\": \"white\"}}, \"shapedefaults\": {\"line\": {\"color\": \"#2a3f5f\"}}, \"ternary\": {\"aaxis\": {\"gridcolor\": \"white\", \"linecolor\": \"white\", \"ticks\": \"\"}, \"baxis\": {\"gridcolor\": \"white\", \"linecolor\": \"white\", \"ticks\": \"\"}, \"bgcolor\": \"#E5ECF6\", \"caxis\": {\"gridcolor\": \"white\", \"linecolor\": \"white\", \"ticks\": \"\"}}, \"title\": {\"x\": 0.05}, \"xaxis\": {\"automargin\": true, \"gridcolor\": \"white\", \"linecolor\": \"white\", \"ticks\": \"\", \"title\": {\"standoff\": 15}, \"zerolinecolor\": \"white\", \"zerolinewidth\": 2}, \"yaxis\": {\"automargin\": true, \"gridcolor\": \"white\", \"linecolor\": \"white\", \"ticks\": \"\", \"title\": {\"standoff\": 15}, \"zerolinecolor\": \"white\", \"zerolinewidth\": 2}}}, \"title\": {\"text\": \"Fuel Efficiency Distribution w.r.t Continent :: [Violin Plot]\"}, \"xaxis\": {\"title\": {\"text\": \"Continent (USA / Europe  /Japan)\"}}, \"yaxis\": {\"title\": {\"text\": \"Fuel Efficiency (mile per gallon)\"}}},\n",
       "                        {\"responsive\": true}\n",
       "                    ).then(function(){\n",
       "                            \n",
       "var gd = document.getElementById('cc3e2e94-bbef-4a51-8d85-08838c5ab3bc');\n",
       "var x = new MutationObserver(function (mutations, observer) {{\n",
       "        var display = window.getComputedStyle(gd).display;\n",
       "        if (!display || display === 'none') {{\n",
       "            console.log([gd, 'removed!']);\n",
       "            Plotly.purge(gd);\n",
       "            observer.disconnect();\n",
       "        }}\n",
       "}});\n",
       "\n",
       "// Listen for the removal of the full notebook cells\n",
       "var notebookContainer = gd.closest('#notebook-container');\n",
       "if (notebookContainer) {{\n",
       "    x.observe(notebookContainer, {childList: true});\n",
       "}}\n",
       "\n",
       "// Listen for the clearing of the current output cell\n",
       "var outputEl = gd.closest('.output');\n",
       "if (outputEl) {{\n",
       "    x.observe(outputEl, {childList: true});\n",
       "}}\n",
       "\n",
       "                        })\n",
       "                };\n",
       "                });\n",
       "            </script>\n",
       "        </div>"
      ]
     },
     "metadata": {},
     "output_type": "display_data"
    }
   ],
   "source": [
    "# 2 Violin Plot \n",
    "trace1 = go.Violin( y = usa[\"mpg\"], fillcolor=\"aqua\", name=\"USA\")\n",
    "trace2 = go.Violin( y = europe[\"mpg\"],fillcolor=\"pink\", name=\"Europe\")\n",
    "trace3 = go.Violin( y = japan[\"mpg\"],fillcolor=\"teal\", name=\"Japan\")\n",
    "\n",
    "layout = go.Layout(title=\"Fuel Efficiency Distribution w.r.t Continent :: [Violin Plot]\", \n",
    "                   yaxis=dict(title=\"Fuel Efficiency (mile per gallon)\"), \n",
    "                   xaxis= dict(title=\"Continent (USA / Europe  /Japan)\"))\n",
    "\n",
    "data=[trace1, trace2, trace3]\n",
    "fig = go.Figure(data = data, layout=layout)\n",
    "py.iplot(fig)"
   ]
  },
  {
   "cell_type": "code",
   "execution_count": 128,
   "metadata": {},
   "outputs": [
    {
     "data": {
      "application/vnd.plotly.v1+json": {
       "config": {
        "linkText": "Export to plot.ly",
        "plotlyServerURL": "https://plot.ly",
        "showLink": false
       },
       "data": [
        {
         "marker": {
          "color": [
           111,
           10,
           225,
           175
          ],
          "colorscale": [
           [
            0,
            "#440154"
           ],
           [
            0.1111111111111111,
            "#482878"
           ],
           [
            0.2222222222222222,
            "#3e4989"
           ],
           [
            0.3333333333333333,
            "#31688e"
           ],
           [
            0.4444444444444444,
            "#26828e"
           ],
           [
            0.5555555555555556,
            "#1f9e89"
           ],
           [
            0.6666666666666666,
            "#35b779"
           ],
           [
            0.7777777777777778,
            "#6ece58"
           ],
           [
            0.8888888888888888,
            "#b5de2b"
           ],
           [
            1,
            "#fde725"
           ]
          ],
          "showscale": true
         },
         "type": "bar",
         "x": [
          "USA",
          "Europe",
          "Japan"
         ],
         "y": [
          249,
          70,
          79
         ]
        }
       ],
       "layout": {
        "template": {
         "data": {
          "bar": [
           {
            "error_x": {
             "color": "#2a3f5f"
            },
            "error_y": {
             "color": "#2a3f5f"
            },
            "marker": {
             "line": {
              "color": "#E5ECF6",
              "width": 0.5
             }
            },
            "type": "bar"
           }
          ],
          "barpolar": [
           {
            "marker": {
             "line": {
              "color": "#E5ECF6",
              "width": 0.5
             }
            },
            "type": "barpolar"
           }
          ],
          "carpet": [
           {
            "aaxis": {
             "endlinecolor": "#2a3f5f",
             "gridcolor": "white",
             "linecolor": "white",
             "minorgridcolor": "white",
             "startlinecolor": "#2a3f5f"
            },
            "baxis": {
             "endlinecolor": "#2a3f5f",
             "gridcolor": "white",
             "linecolor": "white",
             "minorgridcolor": "white",
             "startlinecolor": "#2a3f5f"
            },
            "type": "carpet"
           }
          ],
          "choropleth": [
           {
            "colorbar": {
             "outlinewidth": 0,
             "ticks": ""
            },
            "type": "choropleth"
           }
          ],
          "contour": [
           {
            "colorbar": {
             "outlinewidth": 0,
             "ticks": ""
            },
            "colorscale": [
             [
              0,
              "#0d0887"
             ],
             [
              0.1111111111111111,
              "#46039f"
             ],
             [
              0.2222222222222222,
              "#7201a8"
             ],
             [
              0.3333333333333333,
              "#9c179e"
             ],
             [
              0.4444444444444444,
              "#bd3786"
             ],
             [
              0.5555555555555556,
              "#d8576b"
             ],
             [
              0.6666666666666666,
              "#ed7953"
             ],
             [
              0.7777777777777778,
              "#fb9f3a"
             ],
             [
              0.8888888888888888,
              "#fdca26"
             ],
             [
              1,
              "#f0f921"
             ]
            ],
            "type": "contour"
           }
          ],
          "contourcarpet": [
           {
            "colorbar": {
             "outlinewidth": 0,
             "ticks": ""
            },
            "type": "contourcarpet"
           }
          ],
          "heatmap": [
           {
            "colorbar": {
             "outlinewidth": 0,
             "ticks": ""
            },
            "colorscale": [
             [
              0,
              "#0d0887"
             ],
             [
              0.1111111111111111,
              "#46039f"
             ],
             [
              0.2222222222222222,
              "#7201a8"
             ],
             [
              0.3333333333333333,
              "#9c179e"
             ],
             [
              0.4444444444444444,
              "#bd3786"
             ],
             [
              0.5555555555555556,
              "#d8576b"
             ],
             [
              0.6666666666666666,
              "#ed7953"
             ],
             [
              0.7777777777777778,
              "#fb9f3a"
             ],
             [
              0.8888888888888888,
              "#fdca26"
             ],
             [
              1,
              "#f0f921"
             ]
            ],
            "type": "heatmap"
           }
          ],
          "heatmapgl": [
           {
            "colorbar": {
             "outlinewidth": 0,
             "ticks": ""
            },
            "colorscale": [
             [
              0,
              "#0d0887"
             ],
             [
              0.1111111111111111,
              "#46039f"
             ],
             [
              0.2222222222222222,
              "#7201a8"
             ],
             [
              0.3333333333333333,
              "#9c179e"
             ],
             [
              0.4444444444444444,
              "#bd3786"
             ],
             [
              0.5555555555555556,
              "#d8576b"
             ],
             [
              0.6666666666666666,
              "#ed7953"
             ],
             [
              0.7777777777777778,
              "#fb9f3a"
             ],
             [
              0.8888888888888888,
              "#fdca26"
             ],
             [
              1,
              "#f0f921"
             ]
            ],
            "type": "heatmapgl"
           }
          ],
          "histogram": [
           {
            "marker": {
             "colorbar": {
              "outlinewidth": 0,
              "ticks": ""
             }
            },
            "type": "histogram"
           }
          ],
          "histogram2d": [
           {
            "colorbar": {
             "outlinewidth": 0,
             "ticks": ""
            },
            "colorscale": [
             [
              0,
              "#0d0887"
             ],
             [
              0.1111111111111111,
              "#46039f"
             ],
             [
              0.2222222222222222,
              "#7201a8"
             ],
             [
              0.3333333333333333,
              "#9c179e"
             ],
             [
              0.4444444444444444,
              "#bd3786"
             ],
             [
              0.5555555555555556,
              "#d8576b"
             ],
             [
              0.6666666666666666,
              "#ed7953"
             ],
             [
              0.7777777777777778,
              "#fb9f3a"
             ],
             [
              0.8888888888888888,
              "#fdca26"
             ],
             [
              1,
              "#f0f921"
             ]
            ],
            "type": "histogram2d"
           }
          ],
          "histogram2dcontour": [
           {
            "colorbar": {
             "outlinewidth": 0,
             "ticks": ""
            },
            "colorscale": [
             [
              0,
              "#0d0887"
             ],
             [
              0.1111111111111111,
              "#46039f"
             ],
             [
              0.2222222222222222,
              "#7201a8"
             ],
             [
              0.3333333333333333,
              "#9c179e"
             ],
             [
              0.4444444444444444,
              "#bd3786"
             ],
             [
              0.5555555555555556,
              "#d8576b"
             ],
             [
              0.6666666666666666,
              "#ed7953"
             ],
             [
              0.7777777777777778,
              "#fb9f3a"
             ],
             [
              0.8888888888888888,
              "#fdca26"
             ],
             [
              1,
              "#f0f921"
             ]
            ],
            "type": "histogram2dcontour"
           }
          ],
          "mesh3d": [
           {
            "colorbar": {
             "outlinewidth": 0,
             "ticks": ""
            },
            "type": "mesh3d"
           }
          ],
          "parcoords": [
           {
            "line": {
             "colorbar": {
              "outlinewidth": 0,
              "ticks": ""
             }
            },
            "type": "parcoords"
           }
          ],
          "pie": [
           {
            "automargin": true,
            "type": "pie"
           }
          ],
          "scatter": [
           {
            "marker": {
             "colorbar": {
              "outlinewidth": 0,
              "ticks": ""
             }
            },
            "type": "scatter"
           }
          ],
          "scatter3d": [
           {
            "line": {
             "colorbar": {
              "outlinewidth": 0,
              "ticks": ""
             }
            },
            "marker": {
             "colorbar": {
              "outlinewidth": 0,
              "ticks": ""
             }
            },
            "type": "scatter3d"
           }
          ],
          "scattercarpet": [
           {
            "marker": {
             "colorbar": {
              "outlinewidth": 0,
              "ticks": ""
             }
            },
            "type": "scattercarpet"
           }
          ],
          "scattergeo": [
           {
            "marker": {
             "colorbar": {
              "outlinewidth": 0,
              "ticks": ""
             }
            },
            "type": "scattergeo"
           }
          ],
          "scattergl": [
           {
            "marker": {
             "colorbar": {
              "outlinewidth": 0,
              "ticks": ""
             }
            },
            "type": "scattergl"
           }
          ],
          "scattermapbox": [
           {
            "marker": {
             "colorbar": {
              "outlinewidth": 0,
              "ticks": ""
             }
            },
            "type": "scattermapbox"
           }
          ],
          "scatterpolar": [
           {
            "marker": {
             "colorbar": {
              "outlinewidth": 0,
              "ticks": ""
             }
            },
            "type": "scatterpolar"
           }
          ],
          "scatterpolargl": [
           {
            "marker": {
             "colorbar": {
              "outlinewidth": 0,
              "ticks": ""
             }
            },
            "type": "scatterpolargl"
           }
          ],
          "scatterternary": [
           {
            "marker": {
             "colorbar": {
              "outlinewidth": 0,
              "ticks": ""
             }
            },
            "type": "scatterternary"
           }
          ],
          "surface": [
           {
            "colorbar": {
             "outlinewidth": 0,
             "ticks": ""
            },
            "colorscale": [
             [
              0,
              "#0d0887"
             ],
             [
              0.1111111111111111,
              "#46039f"
             ],
             [
              0.2222222222222222,
              "#7201a8"
             ],
             [
              0.3333333333333333,
              "#9c179e"
             ],
             [
              0.4444444444444444,
              "#bd3786"
             ],
             [
              0.5555555555555556,
              "#d8576b"
             ],
             [
              0.6666666666666666,
              "#ed7953"
             ],
             [
              0.7777777777777778,
              "#fb9f3a"
             ],
             [
              0.8888888888888888,
              "#fdca26"
             ],
             [
              1,
              "#f0f921"
             ]
            ],
            "type": "surface"
           }
          ],
          "table": [
           {
            "cells": {
             "fill": {
              "color": "#EBF0F8"
             },
             "line": {
              "color": "white"
             }
            },
            "header": {
             "fill": {
              "color": "#C8D4E3"
             },
             "line": {
              "color": "white"
             }
            },
            "type": "table"
           }
          ]
         },
         "layout": {
          "annotationdefaults": {
           "arrowcolor": "#2a3f5f",
           "arrowhead": 0,
           "arrowwidth": 1
          },
          "coloraxis": {
           "colorbar": {
            "outlinewidth": 0,
            "ticks": ""
           }
          },
          "colorscale": {
           "diverging": [
            [
             0,
             "#8e0152"
            ],
            [
             0.1,
             "#c51b7d"
            ],
            [
             0.2,
             "#de77ae"
            ],
            [
             0.3,
             "#f1b6da"
            ],
            [
             0.4,
             "#fde0ef"
            ],
            [
             0.5,
             "#f7f7f7"
            ],
            [
             0.6,
             "#e6f5d0"
            ],
            [
             0.7,
             "#b8e186"
            ],
            [
             0.8,
             "#7fbc41"
            ],
            [
             0.9,
             "#4d9221"
            ],
            [
             1,
             "#276419"
            ]
           ],
           "sequential": [
            [
             0,
             "#0d0887"
            ],
            [
             0.1111111111111111,
             "#46039f"
            ],
            [
             0.2222222222222222,
             "#7201a8"
            ],
            [
             0.3333333333333333,
             "#9c179e"
            ],
            [
             0.4444444444444444,
             "#bd3786"
            ],
            [
             0.5555555555555556,
             "#d8576b"
            ],
            [
             0.6666666666666666,
             "#ed7953"
            ],
            [
             0.7777777777777778,
             "#fb9f3a"
            ],
            [
             0.8888888888888888,
             "#fdca26"
            ],
            [
             1,
             "#f0f921"
            ]
           ],
           "sequentialminus": [
            [
             0,
             "#0d0887"
            ],
            [
             0.1111111111111111,
             "#46039f"
            ],
            [
             0.2222222222222222,
             "#7201a8"
            ],
            [
             0.3333333333333333,
             "#9c179e"
            ],
            [
             0.4444444444444444,
             "#bd3786"
            ],
            [
             0.5555555555555556,
             "#d8576b"
            ],
            [
             0.6666666666666666,
             "#ed7953"
            ],
            [
             0.7777777777777778,
             "#fb9f3a"
            ],
            [
             0.8888888888888888,
             "#fdca26"
            ],
            [
             1,
             "#f0f921"
            ]
           ]
          },
          "colorway": [
           "#636efa",
           "#EF553B",
           "#00cc96",
           "#ab63fa",
           "#FFA15A",
           "#19d3f3",
           "#FF6692",
           "#B6E880",
           "#FF97FF",
           "#FECB52"
          ],
          "font": {
           "color": "#2a3f5f"
          },
          "geo": {
           "bgcolor": "white",
           "lakecolor": "white",
           "landcolor": "#E5ECF6",
           "showlakes": true,
           "showland": true,
           "subunitcolor": "white"
          },
          "hoverlabel": {
           "align": "left"
          },
          "hovermode": "closest",
          "mapbox": {
           "style": "light"
          },
          "paper_bgcolor": "white",
          "plot_bgcolor": "#E5ECF6",
          "polar": {
           "angularaxis": {
            "gridcolor": "white",
            "linecolor": "white",
            "ticks": ""
           },
           "bgcolor": "#E5ECF6",
           "radialaxis": {
            "gridcolor": "white",
            "linecolor": "white",
            "ticks": ""
           }
          },
          "scene": {
           "xaxis": {
            "backgroundcolor": "#E5ECF6",
            "gridcolor": "white",
            "gridwidth": 2,
            "linecolor": "white",
            "showbackground": true,
            "ticks": "",
            "zerolinecolor": "white"
           },
           "yaxis": {
            "backgroundcolor": "#E5ECF6",
            "gridcolor": "white",
            "gridwidth": 2,
            "linecolor": "white",
            "showbackground": true,
            "ticks": "",
            "zerolinecolor": "white"
           },
           "zaxis": {
            "backgroundcolor": "#E5ECF6",
            "gridcolor": "white",
            "gridwidth": 2,
            "linecolor": "white",
            "showbackground": true,
            "ticks": "",
            "zerolinecolor": "white"
           }
          },
          "shapedefaults": {
           "line": {
            "color": "#2a3f5f"
           }
          },
          "ternary": {
           "aaxis": {
            "gridcolor": "white",
            "linecolor": "white",
            "ticks": ""
           },
           "baxis": {
            "gridcolor": "white",
            "linecolor": "white",
            "ticks": ""
           },
           "bgcolor": "#E5ECF6",
           "caxis": {
            "gridcolor": "white",
            "linecolor": "white",
            "ticks": ""
           }
          },
          "title": {
           "x": 0.05
          },
          "xaxis": {
           "automargin": true,
           "gridcolor": "white",
           "linecolor": "white",
           "ticks": "",
           "title": {
            "standoff": 15
           },
           "zerolinecolor": "white",
           "zerolinewidth": 2
          },
          "yaxis": {
           "automargin": true,
           "gridcolor": "white",
           "linecolor": "white",
           "ticks": "",
           "title": {
            "standoff": 15
           },
           "zerolinecolor": "white",
           "zerolinewidth": 2
          }
         }
        },
        "title": {
         "text": "Data Set Car Count "
        },
        "yaxis": {
         "title": {
          "text": "Car Count"
         }
        }
       }
      },
      "text/html": [
       "<div>\n",
       "        \n",
       "        \n",
       "            <div id=\"1de7ff56-48dd-4242-beb8-0370bce535e6\" class=\"plotly-graph-div\" style=\"height:525px; width:100%;\"></div>\n",
       "            <script type=\"text/javascript\">\n",
       "                require([\"plotly\"], function(Plotly) {\n",
       "                    window.PLOTLYENV=window.PLOTLYENV || {};\n",
       "                    \n",
       "                if (document.getElementById(\"1de7ff56-48dd-4242-beb8-0370bce535e6\")) {\n",
       "                    Plotly.newPlot(\n",
       "                        '1de7ff56-48dd-4242-beb8-0370bce535e6',\n",
       "                        [{\"marker\": {\"color\": [111, 10, 225, 175], \"colorscale\": [[0.0, \"#440154\"], [0.1111111111111111, \"#482878\"], [0.2222222222222222, \"#3e4989\"], [0.3333333333333333, \"#31688e\"], [0.4444444444444444, \"#26828e\"], [0.5555555555555556, \"#1f9e89\"], [0.6666666666666666, \"#35b779\"], [0.7777777777777778, \"#6ece58\"], [0.8888888888888888, \"#b5de2b\"], [1.0, \"#fde725\"]], \"showscale\": true}, \"type\": \"bar\", \"x\": [\"USA\", \"Europe\", \"Japan\"], \"y\": [249, 70, 79]}],\n",
       "                        {\"template\": {\"data\": {\"bar\": [{\"error_x\": {\"color\": \"#2a3f5f\"}, \"error_y\": {\"color\": \"#2a3f5f\"}, \"marker\": {\"line\": {\"color\": \"#E5ECF6\", \"width\": 0.5}}, \"type\": \"bar\"}], \"barpolar\": [{\"marker\": {\"line\": {\"color\": \"#E5ECF6\", \"width\": 0.5}}, \"type\": \"barpolar\"}], \"carpet\": [{\"aaxis\": {\"endlinecolor\": \"#2a3f5f\", \"gridcolor\": \"white\", \"linecolor\": \"white\", \"minorgridcolor\": \"white\", \"startlinecolor\": \"#2a3f5f\"}, \"baxis\": {\"endlinecolor\": \"#2a3f5f\", \"gridcolor\": \"white\", \"linecolor\": \"white\", \"minorgridcolor\": \"white\", \"startlinecolor\": \"#2a3f5f\"}, \"type\": \"carpet\"}], \"choropleth\": [{\"colorbar\": {\"outlinewidth\": 0, \"ticks\": \"\"}, \"type\": \"choropleth\"}], \"contour\": [{\"colorbar\": {\"outlinewidth\": 0, \"ticks\": \"\"}, \"colorscale\": [[0.0, \"#0d0887\"], [0.1111111111111111, \"#46039f\"], [0.2222222222222222, \"#7201a8\"], [0.3333333333333333, \"#9c179e\"], [0.4444444444444444, \"#bd3786\"], [0.5555555555555556, \"#d8576b\"], [0.6666666666666666, \"#ed7953\"], [0.7777777777777778, \"#fb9f3a\"], [0.8888888888888888, \"#fdca26\"], [1.0, \"#f0f921\"]], \"type\": \"contour\"}], \"contourcarpet\": [{\"colorbar\": {\"outlinewidth\": 0, \"ticks\": \"\"}, \"type\": \"contourcarpet\"}], \"heatmap\": [{\"colorbar\": {\"outlinewidth\": 0, \"ticks\": \"\"}, \"colorscale\": [[0.0, \"#0d0887\"], [0.1111111111111111, \"#46039f\"], [0.2222222222222222, \"#7201a8\"], [0.3333333333333333, \"#9c179e\"], [0.4444444444444444, \"#bd3786\"], [0.5555555555555556, \"#d8576b\"], [0.6666666666666666, \"#ed7953\"], [0.7777777777777778, \"#fb9f3a\"], [0.8888888888888888, \"#fdca26\"], [1.0, \"#f0f921\"]], \"type\": \"heatmap\"}], \"heatmapgl\": [{\"colorbar\": {\"outlinewidth\": 0, \"ticks\": \"\"}, \"colorscale\": [[0.0, \"#0d0887\"], [0.1111111111111111, \"#46039f\"], [0.2222222222222222, \"#7201a8\"], [0.3333333333333333, \"#9c179e\"], [0.4444444444444444, \"#bd3786\"], [0.5555555555555556, \"#d8576b\"], [0.6666666666666666, \"#ed7953\"], [0.7777777777777778, \"#fb9f3a\"], [0.8888888888888888, \"#fdca26\"], [1.0, \"#f0f921\"]], \"type\": \"heatmapgl\"}], \"histogram\": [{\"marker\": {\"colorbar\": {\"outlinewidth\": 0, \"ticks\": \"\"}}, \"type\": \"histogram\"}], \"histogram2d\": [{\"colorbar\": {\"outlinewidth\": 0, \"ticks\": \"\"}, \"colorscale\": [[0.0, \"#0d0887\"], [0.1111111111111111, \"#46039f\"], [0.2222222222222222, \"#7201a8\"], [0.3333333333333333, \"#9c179e\"], [0.4444444444444444, \"#bd3786\"], [0.5555555555555556, \"#d8576b\"], [0.6666666666666666, \"#ed7953\"], [0.7777777777777778, \"#fb9f3a\"], [0.8888888888888888, \"#fdca26\"], [1.0, \"#f0f921\"]], \"type\": \"histogram2d\"}], \"histogram2dcontour\": [{\"colorbar\": {\"outlinewidth\": 0, \"ticks\": \"\"}, \"colorscale\": [[0.0, \"#0d0887\"], [0.1111111111111111, \"#46039f\"], [0.2222222222222222, \"#7201a8\"], [0.3333333333333333, \"#9c179e\"], [0.4444444444444444, \"#bd3786\"], [0.5555555555555556, \"#d8576b\"], [0.6666666666666666, \"#ed7953\"], [0.7777777777777778, \"#fb9f3a\"], [0.8888888888888888, \"#fdca26\"], [1.0, \"#f0f921\"]], \"type\": \"histogram2dcontour\"}], \"mesh3d\": [{\"colorbar\": {\"outlinewidth\": 0, \"ticks\": \"\"}, \"type\": \"mesh3d\"}], \"parcoords\": [{\"line\": {\"colorbar\": {\"outlinewidth\": 0, \"ticks\": \"\"}}, \"type\": \"parcoords\"}], \"pie\": [{\"automargin\": true, \"type\": \"pie\"}], \"scatter\": [{\"marker\": {\"colorbar\": {\"outlinewidth\": 0, \"ticks\": \"\"}}, \"type\": \"scatter\"}], \"scatter3d\": [{\"line\": {\"colorbar\": {\"outlinewidth\": 0, \"ticks\": \"\"}}, \"marker\": {\"colorbar\": {\"outlinewidth\": 0, \"ticks\": \"\"}}, \"type\": \"scatter3d\"}], \"scattercarpet\": [{\"marker\": {\"colorbar\": {\"outlinewidth\": 0, \"ticks\": \"\"}}, \"type\": \"scattercarpet\"}], \"scattergeo\": [{\"marker\": {\"colorbar\": {\"outlinewidth\": 0, \"ticks\": \"\"}}, \"type\": \"scattergeo\"}], \"scattergl\": [{\"marker\": {\"colorbar\": {\"outlinewidth\": 0, \"ticks\": \"\"}}, \"type\": \"scattergl\"}], \"scattermapbox\": [{\"marker\": {\"colorbar\": {\"outlinewidth\": 0, \"ticks\": \"\"}}, \"type\": \"scattermapbox\"}], \"scatterpolar\": [{\"marker\": {\"colorbar\": {\"outlinewidth\": 0, \"ticks\": \"\"}}, \"type\": \"scatterpolar\"}], \"scatterpolargl\": [{\"marker\": {\"colorbar\": {\"outlinewidth\": 0, \"ticks\": \"\"}}, \"type\": \"scatterpolargl\"}], \"scatterternary\": [{\"marker\": {\"colorbar\": {\"outlinewidth\": 0, \"ticks\": \"\"}}, \"type\": \"scatterternary\"}], \"surface\": [{\"colorbar\": {\"outlinewidth\": 0, \"ticks\": \"\"}, \"colorscale\": [[0.0, \"#0d0887\"], [0.1111111111111111, \"#46039f\"], [0.2222222222222222, \"#7201a8\"], [0.3333333333333333, \"#9c179e\"], [0.4444444444444444, \"#bd3786\"], [0.5555555555555556, \"#d8576b\"], [0.6666666666666666, \"#ed7953\"], [0.7777777777777778, \"#fb9f3a\"], [0.8888888888888888, \"#fdca26\"], [1.0, \"#f0f921\"]], \"type\": \"surface\"}], \"table\": [{\"cells\": {\"fill\": {\"color\": \"#EBF0F8\"}, \"line\": {\"color\": \"white\"}}, \"header\": {\"fill\": {\"color\": \"#C8D4E3\"}, \"line\": {\"color\": \"white\"}}, \"type\": \"table\"}]}, \"layout\": {\"annotationdefaults\": {\"arrowcolor\": \"#2a3f5f\", \"arrowhead\": 0, \"arrowwidth\": 1}, \"coloraxis\": {\"colorbar\": {\"outlinewidth\": 0, \"ticks\": \"\"}}, \"colorscale\": {\"diverging\": [[0, \"#8e0152\"], [0.1, \"#c51b7d\"], [0.2, \"#de77ae\"], [0.3, \"#f1b6da\"], [0.4, \"#fde0ef\"], [0.5, \"#f7f7f7\"], [0.6, \"#e6f5d0\"], [0.7, \"#b8e186\"], [0.8, \"#7fbc41\"], [0.9, \"#4d9221\"], [1, \"#276419\"]], \"sequential\": [[0.0, \"#0d0887\"], [0.1111111111111111, \"#46039f\"], [0.2222222222222222, \"#7201a8\"], [0.3333333333333333, \"#9c179e\"], [0.4444444444444444, \"#bd3786\"], [0.5555555555555556, \"#d8576b\"], [0.6666666666666666, \"#ed7953\"], [0.7777777777777778, \"#fb9f3a\"], [0.8888888888888888, \"#fdca26\"], [1.0, \"#f0f921\"]], \"sequentialminus\": [[0.0, \"#0d0887\"], [0.1111111111111111, \"#46039f\"], [0.2222222222222222, \"#7201a8\"], [0.3333333333333333, \"#9c179e\"], [0.4444444444444444, \"#bd3786\"], [0.5555555555555556, \"#d8576b\"], [0.6666666666666666, \"#ed7953\"], [0.7777777777777778, \"#fb9f3a\"], [0.8888888888888888, \"#fdca26\"], [1.0, \"#f0f921\"]]}, \"colorway\": [\"#636efa\", \"#EF553B\", \"#00cc96\", \"#ab63fa\", \"#FFA15A\", \"#19d3f3\", \"#FF6692\", \"#B6E880\", \"#FF97FF\", \"#FECB52\"], \"font\": {\"color\": \"#2a3f5f\"}, \"geo\": {\"bgcolor\": \"white\", \"lakecolor\": \"white\", \"landcolor\": \"#E5ECF6\", \"showlakes\": true, \"showland\": true, \"subunitcolor\": \"white\"}, \"hoverlabel\": {\"align\": \"left\"}, \"hovermode\": \"closest\", \"mapbox\": {\"style\": \"light\"}, \"paper_bgcolor\": \"white\", \"plot_bgcolor\": \"#E5ECF6\", \"polar\": {\"angularaxis\": {\"gridcolor\": \"white\", \"linecolor\": \"white\", \"ticks\": \"\"}, \"bgcolor\": \"#E5ECF6\", \"radialaxis\": {\"gridcolor\": \"white\", \"linecolor\": \"white\", \"ticks\": \"\"}}, \"scene\": {\"xaxis\": {\"backgroundcolor\": \"#E5ECF6\", \"gridcolor\": \"white\", \"gridwidth\": 2, \"linecolor\": \"white\", \"showbackground\": true, \"ticks\": \"\", \"zerolinecolor\": \"white\"}, \"yaxis\": {\"backgroundcolor\": \"#E5ECF6\", \"gridcolor\": \"white\", \"gridwidth\": 2, \"linecolor\": \"white\", \"showbackground\": true, \"ticks\": \"\", \"zerolinecolor\": \"white\"}, \"zaxis\": {\"backgroundcolor\": \"#E5ECF6\", \"gridcolor\": \"white\", \"gridwidth\": 2, \"linecolor\": \"white\", \"showbackground\": true, \"ticks\": \"\", \"zerolinecolor\": \"white\"}}, \"shapedefaults\": {\"line\": {\"color\": \"#2a3f5f\"}}, \"ternary\": {\"aaxis\": {\"gridcolor\": \"white\", \"linecolor\": \"white\", \"ticks\": \"\"}, \"baxis\": {\"gridcolor\": \"white\", \"linecolor\": \"white\", \"ticks\": \"\"}, \"bgcolor\": \"#E5ECF6\", \"caxis\": {\"gridcolor\": \"white\", \"linecolor\": \"white\", \"ticks\": \"\"}}, \"title\": {\"x\": 0.05}, \"xaxis\": {\"automargin\": true, \"gridcolor\": \"white\", \"linecolor\": \"white\", \"ticks\": \"\", \"title\": {\"standoff\": 15}, \"zerolinecolor\": \"white\", \"zerolinewidth\": 2}, \"yaxis\": {\"automargin\": true, \"gridcolor\": \"white\", \"linecolor\": \"white\", \"ticks\": \"\", \"title\": {\"standoff\": 15}, \"zerolinecolor\": \"white\", \"zerolinewidth\": 2}}}, \"title\": {\"text\": \"Data Set Car Count \"}, \"yaxis\": {\"title\": {\"text\": \"Car Count\"}}},\n",
       "                        {\"responsive\": true}\n",
       "                    ).then(function(){\n",
       "                            \n",
       "var gd = document.getElementById('1de7ff56-48dd-4242-beb8-0370bce535e6');\n",
       "var x = new MutationObserver(function (mutations, observer) {{\n",
       "        var display = window.getComputedStyle(gd).display;\n",
       "        if (!display || display === 'none') {{\n",
       "            console.log([gd, 'removed!']);\n",
       "            Plotly.purge(gd);\n",
       "            observer.disconnect();\n",
       "        }}\n",
       "}});\n",
       "\n",
       "// Listen for the removal of the full notebook cells\n",
       "var notebookContainer = gd.closest('#notebook-container');\n",
       "if (notebookContainer) {{\n",
       "    x.observe(notebookContainer, {childList: true});\n",
       "}}\n",
       "\n",
       "// Listen for the clearing of the current output cell\n",
       "var outputEl = gd.closest('.output');\n",
       "if (outputEl) {{\n",
       "    x.observe(outputEl, {childList: true});\n",
       "}}\n",
       "\n",
       "                        })\n",
       "                };\n",
       "                });\n",
       "            </script>\n",
       "        </div>"
      ]
     },
     "metadata": {},
     "output_type": "display_data"
    },
    {
     "data": {
      "text/html": [
       "<div>\n",
       "<style scoped>\n",
       "    .dataframe tbody tr th:only-of-type {\n",
       "        vertical-align: middle;\n",
       "    }\n",
       "\n",
       "    .dataframe tbody tr th {\n",
       "        vertical-align: top;\n",
       "    }\n",
       "\n",
       "    .dataframe thead th {\n",
       "        text-align: right;\n",
       "    }\n",
       "</style>\n",
       "<table border=\"1\" class=\"dataframe\">\n",
       "  <thead>\n",
       "    <tr style=\"text-align: right;\">\n",
       "      <th></th>\n",
       "      <th>mpg</th>\n",
       "      <th>cylinders</th>\n",
       "      <th>displacement</th>\n",
       "      <th>horsepower</th>\n",
       "      <th>weight</th>\n",
       "      <th>acceleration</th>\n",
       "      <th>model year</th>\n",
       "      <th>car name</th>\n",
       "      <th>USA</th>\n",
       "      <th>Europe</th>\n",
       "      <th>Japan</th>\n",
       "      <th>Continent</th>\n",
       "    </tr>\n",
       "  </thead>\n",
       "  <tbody>\n",
       "    <tr>\n",
       "      <th>0</th>\n",
       "      <td>18.0</td>\n",
       "      <td>8</td>\n",
       "      <td>307.0</td>\n",
       "      <td>130.0</td>\n",
       "      <td>3504</td>\n",
       "      <td>12.0</td>\n",
       "      <td>70</td>\n",
       "      <td>chevrolet chevelle malibu</td>\n",
       "      <td>1.0</td>\n",
       "      <td>0.0</td>\n",
       "      <td>0.0</td>\n",
       "      <td>USA</td>\n",
       "    </tr>\n",
       "    <tr>\n",
       "      <th>1</th>\n",
       "      <td>15.0</td>\n",
       "      <td>8</td>\n",
       "      <td>350.0</td>\n",
       "      <td>165.0</td>\n",
       "      <td>3693</td>\n",
       "      <td>11.5</td>\n",
       "      <td>70</td>\n",
       "      <td>buick skylark 320</td>\n",
       "      <td>1.0</td>\n",
       "      <td>0.0</td>\n",
       "      <td>0.0</td>\n",
       "      <td>USA</td>\n",
       "    </tr>\n",
       "    <tr>\n",
       "      <th>2</th>\n",
       "      <td>18.0</td>\n",
       "      <td>8</td>\n",
       "      <td>318.0</td>\n",
       "      <td>150.0</td>\n",
       "      <td>3436</td>\n",
       "      <td>11.0</td>\n",
       "      <td>70</td>\n",
       "      <td>plymouth satellite</td>\n",
       "      <td>1.0</td>\n",
       "      <td>0.0</td>\n",
       "      <td>0.0</td>\n",
       "      <td>USA</td>\n",
       "    </tr>\n",
       "    <tr>\n",
       "      <th>3</th>\n",
       "      <td>16.0</td>\n",
       "      <td>8</td>\n",
       "      <td>304.0</td>\n",
       "      <td>150.0</td>\n",
       "      <td>3433</td>\n",
       "      <td>12.0</td>\n",
       "      <td>70</td>\n",
       "      <td>amc rebel sst</td>\n",
       "      <td>1.0</td>\n",
       "      <td>0.0</td>\n",
       "      <td>0.0</td>\n",
       "      <td>USA</td>\n",
       "    </tr>\n",
       "    <tr>\n",
       "      <th>4</th>\n",
       "      <td>17.0</td>\n",
       "      <td>8</td>\n",
       "      <td>302.0</td>\n",
       "      <td>140.0</td>\n",
       "      <td>3449</td>\n",
       "      <td>10.5</td>\n",
       "      <td>70</td>\n",
       "      <td>ford torino</td>\n",
       "      <td>1.0</td>\n",
       "      <td>0.0</td>\n",
       "      <td>0.0</td>\n",
       "      <td>USA</td>\n",
       "    </tr>\n",
       "  </tbody>\n",
       "</table>\n",
       "</div>"
      ],
      "text/plain": [
       "    mpg  cylinders  displacement  horsepower  weight  acceleration  \\\n",
       "0  18.0          8         307.0       130.0    3504          12.0   \n",
       "1  15.0          8         350.0       165.0    3693          11.5   \n",
       "2  18.0          8         318.0       150.0    3436          11.0   \n",
       "3  16.0          8         304.0       150.0    3433          12.0   \n",
       "4  17.0          8         302.0       140.0    3449          10.5   \n",
       "\n",
       "   model year                   car name  USA  Europe  Japan Continent  \n",
       "0          70  chevrolet chevelle malibu  1.0     0.0    0.0       USA  \n",
       "1          70          buick skylark 320  1.0     0.0    0.0       USA  \n",
       "2          70         plymouth satellite  1.0     0.0    0.0       USA  \n",
       "3          70              amc rebel sst  1.0     0.0    0.0       USA  \n",
       "4          70                ford torino  1.0     0.0    0.0       USA  "
      ]
     },
     "execution_count": 128,
     "metadata": {},
     "output_type": "execute_result"
    }
   ],
   "source": [
    "cars_stats = cars.describe()\n",
    "cars_stats.pop(\"mpg\")\n",
    "cars_stats = cars_stats.transpose()\n",
    "# car counts\n",
    "trace = go.Bar(x = ['USA', 'Europe', 'Japan'],\n",
    "              y = [usa['mpg'].count(),europe['mpg'].count(), japan['mpg'].count()], \n",
    "              marker = dict(color = [111, 10, 225, 175],\n",
    "                           colorscale = \"Viridis\", \n",
    "                           showscale = True))\n",
    "layout = go.Layout(title = \"Data Set Car Count \", \n",
    "                  yaxis = dict(title = \"Car Count\"))\n",
    "data = [trace]\n",
    "fig = go.Figure(data = data, layout = layout)\n",
    "py.iplot(fig)\n"
   ]
  },
  {
   "cell_type": "markdown",
   "metadata": {},
   "source": [
    "#### Split features from labels and the data into train and test\n",
    "\n",
    "##### Separate the target value, or \"label\", from the features. This label is the value that you will train the model to predict."
   ]
  },
  {
   "cell_type": "code",
   "execution_count": 133,
   "metadata": {},
   "outputs": [],
   "source": [
    "train_cars = cars.sample(frac=0.8,random_state=0)\n",
    "test_cars = cars.drop(cars.index)\n",
    "\n",
    "train_cars_labels = train_cars.pop('mpg')\n",
    "test_cars_labels = test_cars.pop('mpg')"
   ]
  },
  {
   "cell_type": "markdown",
   "metadata": {},
   "source": [
    "## Build the model"
   ]
  },
  {
   "cell_type": "code",
   "execution_count": null,
   "metadata": {},
   "outputs": [],
   "source": []
  }
 ],
 "metadata": {
  "kernelspec": {
   "display_name": "Python 3",
   "language": "python",
   "name": "python3"
  },
  "language_info": {
   "codemirror_mode": {
    "name": "ipython",
    "version": 3
   },
   "file_extension": ".py",
   "mimetype": "text/x-python",
   "name": "python",
   "nbconvert_exporter": "python",
   "pygments_lexer": "ipython3",
   "version": "3.7.3"
  }
 },
 "nbformat": 4,
 "nbformat_minor": 2
}
